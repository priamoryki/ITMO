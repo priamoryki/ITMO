{
 "cells": [
  {
   "cell_type": "code",
   "execution_count": 1,
   "metadata": {
    "collapsed": false,
    "pycharm": {
     "name": "#%%\n"
    }
   },
   "outputs": [],
   "source": [
    "import math\n",
    "\n",
    "import numpy as np\n",
    "import matplotlib.pyplot as plt\n",
    "from typing import *\n",
    "\n",
    "Function = Callable[[np.array], float]"
   ]
  },
  {
   "cell_type": "markdown",
   "metadata": {
    "pycharm": {
     "name": "#%% md\n"
    }
   },
   "source": [
    "#### Функция вычисления градиента функции"
   ]
  },
  {
   "cell_type": "code",
   "execution_count": 2,
   "metadata": {
    "collapsed": false,
    "pycharm": {
     "name": "#%%\n"
    }
   },
   "outputs": [],
   "source": [
    "def gradient(f: Function, x: np.array) -> np.array:\n",
    "    delta = 1e-5\n",
    "    result = np.zeros(x.size)\n",
    "    for i in range(x.size):\n",
    "        new_x = x\n",
    "        new_x[i] += delta / 2\n",
    "        f0 = f(new_x)\n",
    "        new_x[i] -= delta\n",
    "        f1 = f(new_x)\n",
    "        result[i] = (f0 - f1) / delta\n",
    "    return result"
   ]
  },
  {
   "cell_type": "markdown",
   "metadata": {
    "pycharm": {
     "name": "#%% md\n"
    }
   },
   "source": [
    "#### Градиентный спуск"
   ]
  },
  {
   "cell_type": "code",
   "execution_count": 3,
   "metadata": {
    "collapsed": false,
    "pycharm": {
     "name": "#%%\n"
    }
   },
   "outputs": [],
   "source": [
    "def gradient_descent(f: Function, x: np.array, steps: int, lr: float) -> np.array:\n",
    "    points = np.zeros((steps, x.size))\n",
    "    points[0] = x\n",
    "\n",
    "    for i in range(1, steps):\n",
    "        x -= lr * gradient(f, x)\n",
    "        points[i] = x\n",
    "        if np.linalg.norm(gradient(f, x), len(x)) < 1e-5:\n",
    "          break\n",
    "\n",
    "    return points"
   ]
  },
  {
   "cell_type": "markdown",
   "metadata": {
    "pycharm": {
     "name": "#%% md\n"
    }
   },
   "source": [
    "#### Функция для рисования процесса градиентного спуска"
   ]
  },
  {
   "cell_type": "code",
   "execution_count": 4,
   "metadata": {
    "pycharm": {
     "name": "#%%\n"
    }
   },
   "outputs": [],
   "source": [
    "def draw_gradient(f: Function, points: np.array) -> None:\n",
    "    plt.plot(points[:, 0], points[:, 1], color='c')\n",
    "    t = np.linspace(-5, 10, 100)\n",
    "    x, y = np.meshgrid(t, t)\n",
    "    plt.contourf(x, y, f(np.array([x, y])), levels=sorted(set(f(p) for p in points)))"
   ]
  },
  {
   "cell_type": "markdown",
   "metadata": {
    "pycharm": {
     "name": "#%% md\n"
    }
   },
   "source": [
    "#### Функция для тестирования градиентного спуска"
   ]
  },
  {
   "cell_type": "code",
   "execution_count": 5,
   "metadata": {
    "collapsed": false,
    "pycharm": {
     "name": "#%%\n"
    }
   },
   "outputs": [],
   "source": [
    "def f(x: np.array) -> float:\n",
    "    return (x[0] + 2) ** 2 + (x[1] - 3) ** 4 - 10"
   ]
  },
  {
   "cell_type": "markdown",
   "metadata": {
    "pycharm": {
     "name": "#%% md\n"
    }
   },
   "source": [
    "#### Сходимость при $lr = 0.05$"
   ]
  },
  {
   "cell_type": "code",
   "execution_count": 6,
   "metadata": {
    "pycharm": {
     "name": "#%%\n"
    }
   },
   "outputs": [
    {
     "data": {
      "text/plain": "<Figure size 432x288 with 1 Axes>",
      "image/png": "[encoded data removed]"
     },
     "metadata": {
      "needs_background": "light"
     },
     "output_type": "display_data"
    }
   ],
   "source": [
    "draw_gradient(f,gradient_descent(f, np.zeros(2), 50, 0.05))"
   ]
  },
  {
   "cell_type": "markdown",
   "metadata": {
    "pycharm": {
     "name": "#%% md\n"
    }
   },
   "source": [
    "#### Сходимость при $lr = 0.03$"
   ]
  },
  {
   "cell_type": "code",
   "execution_count": 7,
   "metadata": {
    "pycharm": {
     "name": "#%%\n"
    }
   },
   "outputs": [
    {
     "data": {
      "text/plain": "<Figure size 432x288 with 1 Axes>",
      "image/png": "[encoded data removed]"
     },
     "metadata": {
      "needs_background": "light"
     },
     "output_type": "display_data"
    }
   ],
   "source": [
    "draw_gradient(f,gradient_descent(f, np.zeros(2), 50, 0.03))"
   ]
  },
  {
   "cell_type": "markdown",
   "metadata": {
    "pycharm": {
     "name": "#%% md\n"
    }
   },
   "source": [
    "#### Градиентный спуск с экспоненциальной фукнцией изменения шага"
   ]
  },
  {
   "cell_type": "code",
   "execution_count": 8,
   "metadata": {
    "collapsed": false,
    "pycharm": {
     "name": "#%%\n"
    }
   },
   "outputs": [
    {
     "data": {
      "text/plain": "<Figure size 432x288 with 1 Axes>",
      "image/png": "[encoded data removed]"
     },
     "metadata": {
      "needs_background": "light"
     },
     "output_type": "display_data"
    }
   ],
   "source": [
    "def gradient_exp_descent(f: Function, x: np.array, steps: int, lr0: float, d: float) -> np.array:\n",
    "    points = np.zeros((steps, x.size))\n",
    "    points[0], lr = x, lr0\n",
    "\n",
    "    for i in range(1, steps):\n",
    "        x -= lr * gradient(f, x)\n",
    "        lr = lr0 * math.exp(-d * i)\n",
    "        points[i] = x\n",
    "\n",
    "    return points\n",
    "\n",
    "\n",
    "points = gradient_exp_descent(f, np.zeros(2), 40, 0.055, 0.001)\n",
    "draw_gradient(f, points)"
   ]
  },
  {
   "cell_type": "markdown",
   "metadata": {
    "pycharm": {
     "name": "#%% md\n"
    }
   },
   "source": [
    "#### Одномерный поиск"
   ]
  },
  {
   "cell_type": "code",
   "execution_count": 9,
   "metadata": {
    "collapsed": false,
    "pycharm": {
     "name": "#%%\n"
    }
   },
   "outputs": [],
   "source": [
    "def dichotomy(f: Function, l: float, r: float) -> np.array:\n",
    "    delta = 1e-5\n",
    "    counter = 0\n",
    "\n",
    "    while r - l > 2 * delta:\n",
    "        m = (r + l) / 2\n",
    "        x1, x2 = m - delta / 2, m + delta / 2\n",
    "        if f(x1) <= f(x2):\n",
    "            r = m\n",
    "        else:\n",
    "            l = m\n",
    "        counter += 1\n",
    "    print(counter)\n",
    "    return l\n",
    "\n",
    "# |-----|---|-----|\n",
    "# l    n_l n_r    r\n",
    "def golden_ratio_search(f: Function, l: float, r: float, eps: float):\n",
    "    phi = (1 + np.sqrt(5)) / 2\n",
    "    d = (r - l) / phi\n",
    "    next_l, next_r = r - d, l + d\n",
    "    f_next_l, f_next_r = f(next_l), f(next_r)\n",
    "    counter = 0\n",
    "\n",
    "    while r - l > eps:\n",
    "        if f_next_l <= f_next_r:\n",
    "            # new section is (l, next_r)\n",
    "            r = next_r\n",
    "            next_r = next_l\n",
    "            f_next_r = f_next_l\n",
    "            next_l = r - (r - l) / phi\n",
    "            f_next_l = f(next_l)\n",
    "        else:\n",
    "            # new section is (next_l, r)\n",
    "            l = next_l\n",
    "            next_l = next_r\n",
    "            f_next_l = f_next_r\n",
    "            next_r = l + (r - l) / phi\n",
    "            f_next_r = f(next_r)\n",
    "        counter += 1\n",
    "    print(counter)\n",
    "    return (l + r) / 2"
   ]
  },
  {
   "cell_type": "code",
   "execution_count": 10,
   "metadata": {
    "collapsed": false,
    "pycharm": {
     "name": "#%%\n"
    }
   },
   "outputs": [
    {
     "name": "stdout",
     "output_type": "stream",
     "text": [
      "19\n",
      "-3.1416015625\n",
      "29\n",
      "-3.141594788214058\n",
      "29\n",
      "-0.9999952167715643\n",
      "28\n",
      "-2.8039599779252264\n",
      "28\n",
      "2.2465430530951234\n"
     ]
    }
   ],
   "source": [
    "print(dichotomy(lambda x: math.sin(math.cos(x)), -4, 4))\n",
    "print(golden_ratio_search(lambda x: math.sin(math.cos(x)), -4, 4, 0.00001))\n",
    "e = math.e\n",
    "print(golden_ratio_search(lambda x: math.log(e ** (x + 2) - e ** (-x), e), -1, 10, 0.00001))\n",
    "print(golden_ratio_search(lambda x: math.sin(x + x ** 2 - 1) - math.cos(x ** 2) / 2, -6, -1, 0.00001))\n",
    "print(golden_ratio_search(lambda x: x - (2 * x + 1) * e ** math.cos(-x ** 3 - x + 1), -2, 3, 0.00001))"
   ]
  },
  {
   "cell_type": "markdown",
   "source": [
    "### Одномерный спуск с учётом условий Вольфе"
   ],
   "metadata": {
    "collapsed": false,
    "pycharm": {
     "name": "#%% md\n"
    }
   }
  },
  {
   "cell_type": "code",
   "execution_count": 11,
   "outputs": [],
   "source": [
    "# First condition, c_1 is pretty small\n",
    "def wolfe_1(alpha, f, grad, x):\n",
    "    c_1 = 1e-4\n",
    "    return f(alpha) <= f(0) + c_1 * alpha * -grad(x).dot(grad(x))\n",
    "\n",
    "\n",
    "# Second condition, c_2 should be as close to 1 as possible\n",
    "def wolfe_2(alpha, grad, x):\n",
    "    c_2 = 1 - 1e-4\n",
    "    return -grad(x).dot(grad(x - alpha * grad(x))) >= c_2 * -grad(x).dot(grad(x))\n",
    "\n",
    "\n",
    "def golden_section_wolfe(f: Function, grad: Function, x, l: float, r: float, eps: float) -> float:\n",
    "    phi = (1 + np.sqrt(5)) / 2\n",
    "    d = (r - l) / phi\n",
    "    next_l, next_r = r - d, l + d\n",
    "    f_next_l, f_next_r = f(next_l), f(next_r)\n",
    "    counter = 0\n",
    "\n",
    "    alpha = (l + r) / 2\n",
    "\n",
    "    while r - l > eps and not (wolfe_1(alpha, f, grad, x) and wolfe_2(alpha, grad, x)):\n",
    "        counter += 1\n",
    "        if f_next_l <= f_next_r:\n",
    "            # new section is (l, next_r)\n",
    "            r = next_r\n",
    "            next_r = next_l\n",
    "            f_next_r = f_next_l\n",
    "            next_l = r - (r - l) / phi\n",
    "            f_next_l = f(next_l)\n",
    "        else:\n",
    "            # new section is (next_l, r)\n",
    "            l = next_l\n",
    "            next_l = next_r\n",
    "            f_next_l = f_next_r\n",
    "            next_r = l + (r - l) / phi\n",
    "            f_next_r = f(next_r)\n",
    "        alpha = (l + r) / 2\n",
    "\n",
    "    # print(counter)\n",
    "    return alpha\n",
    "\n",
    "\n",
    "def gradient_descent_wolfe(f: Function, grad: Function, x: np.array, steps: int, eps1: float, eps2: float) -> np.array:\n",
    "    points = np.zeros((steps, x.size))\n",
    "    points[0] = x\n",
    "\n",
    "    for i in range(1, steps):\n",
    "        lr = golden_section_wolfe(lambda lr: f(x - lr * grad(x)), grad, x, 0, 1.5, eps2)\n",
    "        x -= lr * grad(x)\n",
    "        points[i] = x\n",
    "        if np.linalg.norm(grad(x), len(x)) < eps1:\n",
    "          break\n",
    "\n",
    "    return points"
   ],
   "metadata": {
    "collapsed": false,
    "pycharm": {
     "name": "#%%\n"
    }
   }
  },
  {
   "cell_type": "markdown",
   "source": [
    "### Helper functions for comparison"
   ],
   "metadata": {
    "collapsed": false,
    "pycharm": {
     "name": "#%% md\n"
    }
   }
  },
  {
   "cell_type": "code",
   "execution_count": 12,
   "metadata": {
    "collapsed": false,
    "pycharm": {
     "name": "#%%\n"
    }
   },
   "outputs": [],
   "source": [
    "def draw_difference(f: Function, *points_sets: [np.array], axis: List[float] = None):\n",
    "    for i, points in enumerate(points_sets):\n",
    "        print(points[-1])\n",
    "        plt.subplot(1, len(points_sets), i + 1)\n",
    "        if axis is not None:\n",
    "            plt.axis(axis)\n",
    "        draw_gradient(f, points)"
   ]
  },
  {
   "cell_type": "code",
   "execution_count": 13,
   "outputs": [
    {
     "name": "stdout",
     "output_type": "stream",
     "text": [
      "[-1.98864159  2.8062233 ]\n",
      "[-1.98344547  2.80246562]\n",
      "[-2.          2.95156982]\n"
     ]
    },
    {
     "data": {
      "text/plain": "<Figure size 432x288 with 3 Axes>",
      "image/png": "[encoded data removed]"
     },
     "metadata": {
      "needs_background": "light"
     },
     "output_type": "display_data"
    }
   ],
   "source": [
    "def f(x: np.array) -> float:\n",
    "    return (x[0] + 2) ** 2 + (x[1] - 3) ** 4 - 10\n",
    "\n",
    "\n",
    "def grad_f(x: np.array) -> np.array:\n",
    "    return np.array([2 * (x[0] + 2), 4 * (x[1] - 3) ** 3])\n",
    "\n",
    "\n",
    "draw_difference(\n",
    "    f,\n",
    "    gradient_descent(f, np.zeros(2), 50, 0.05),\n",
    "    gradient_exp_descent(f, np.zeros(2), 50, 0.05, 0.003),\n",
    "    gradient_descent_wolfe(f, grad_f, np.zeros(2), 50, 1e-5, 5e-4)\n",
    ")"
   ],
   "metadata": {
    "collapsed": false,
    "pycharm": {
     "name": "#%%\n"
    }
   }
  },
  {
   "cell_type": "markdown",
   "metadata": {
    "pycharm": {
     "name": "#%% md\n"
    }
   },
   "source": [
    "#### Функция Розенброка"
   ]
  },
  {
   "cell_type": "code",
   "execution_count": 14,
   "metadata": {
    "pycharm": {
     "name": "#%%\n"
    }
   },
   "outputs": [],
   "source": [
    "def rosenbrock(x: np.array) -> float:\n",
    "    a, b = 2, 5\n",
    "    return (a - x[0]) ** 2 + b * (x[1] - x[0] ** 2) ** 2\n",
    "\n",
    "def rosenbrock_grad(x):\n",
    "    a, b = 2, 5\n",
    "    return np.array([2 * (x[0] - a) + 4 * b * x[0] * (x[0] ** 2 - x[1]), 2 * b * (x[1] - x[0] ** 2)])"
   ]
  },
  {
   "cell_type": "code",
   "execution_count": 15,
   "metadata": {
    "pycharm": {
     "name": "#%%\n"
    }
   },
   "outputs": [
    {
     "name": "stdout",
     "output_type": "stream",
     "text": [
      "[1.94720701 3.78907173]\n",
      "[1.80475339 3.2471369 ]\n",
      "[2.11442196 4.47796217]\n"
     ]
    },
    {
     "data": {
      "text/plain": "<Figure size 432x288 with 3 Axes>",
      "image/png": "[encoded data removed]"
     },
     "metadata": {
      "needs_background": "light"
     },
     "output_type": "display_data"
    }
   ],
   "source": [
    "draw_difference(\n",
    "    rosenbrock,\n",
    "    gradient_descent(rosenbrock, np.zeros(2), 2000, 0.01),\n",
    "    gradient_exp_descent(rosenbrock, np.zeros(2), 1000, 0.03, 0.003),\n",
    "    gradient_descent_wolfe(rosenbrock, rosenbrock_grad, np.zeros(2), 1000, 1e-5, 5e-4),\n",
    "    axis=[-1, 5, -2, 6]\n",
    ")"
   ]
  },
  {
   "cell_type": "markdown",
   "metadata": {
    "pycharm": {
     "name": "#%% md\n"
    }
   },
   "source": [
    "В случае экспоненциального градиентного спуска необходимо в два раза меньше итераций"
   ]
  },
  {
   "cell_type": "markdown",
   "metadata": {
    "pycharm": {
     "name": "#%% md\n"
    }
   },
   "source": [
    "#### Функция Бута"
   ]
  },
  {
   "cell_type": "code",
   "execution_count": 16,
   "metadata": {
    "pycharm": {
     "name": "#%%\n"
    }
   },
   "outputs": [],
   "source": [
    "def booth(x: np.array) -> float:\n",
    "    return (x[0] + 2 * x[1] - 7) ** 2 + (2 * x[0] + x[1] - 5) ** 2\n",
    "\n",
    "\n",
    "def booth_grad(x: np.array) -> np.array:\n",
    "    return np.array([10 * x[0] + 8 * x[1] - 34, 8 * x[0] + 10 * x[1] - 38])"
   ]
  },
  {
   "cell_type": "code",
   "execution_count": 17,
   "metadata": {
    "pycharm": {
     "name": "#%%\n"
    }
   },
   "outputs": [
    {
     "name": "stdout",
     "output_type": "stream",
     "text": [
      "[1.13526798 2.86463312]\n",
      "[1.04143404 2.95852361]\n",
      "[1.09434919 3.09434919]\n"
     ]
    },
    {
     "data": {
      "text/plain": "<Figure size 432x288 with 3 Axes>",
      "image/png": "[encoded data removed]"
     },
     "metadata": {
      "needs_background": "light"
     },
     "output_type": "display_data"
    }
   ],
   "source": [
    "draw_difference(\n",
    "    booth, \n",
    "    gradient_descent(booth, np.zeros(2), 100, 0.01),\n",
    "    gradient_exp_descent(booth, np.zeros(2), 100, 0.02, 0.005),\n",
    "    gradient_descent_wolfe(booth, booth_grad, np.zeros(2), 100, 1e-5, 5e-4),\n",
    ")"
   ]
  },
  {
   "cell_type": "markdown",
   "metadata": {
    "pycharm": {
     "name": "#%% md\n"
    }
   },
   "source": [
    "#### Perturbed quadratic function"
   ]
  },
  {
   "cell_type": "code",
   "execution_count": 18,
   "metadata": {
    "pycharm": {
     "name": "#%%\n"
    }
   },
   "outputs": [],
   "source": [
    "def perturbed(x: np.array) -> float:\n",
    "    return x[0] ** 2 + 2 * (x[1] ** 2) + 1 / 100 * ((x[0] + x[1]) ** 2)\n",
    "\n",
    "def perturbed_grad(x: np.array) -> np.array:\n",
    "    return np.array([(101 * x[0] + x[1]) / 50, (x + 201 * x[1]) / 50])"
   ]
  },
  {
   "cell_type": "code",
   "execution_count": 19,
   "metadata": {
    "pycharm": {
     "name": "#%%\n"
    }
   },
   "outputs": [
    {
     "name": "stdout",
     "output_type": "stream",
     "text": [
      "[0.06531756 0.00779657]\n",
      "[-0.01365951 -1.3656019 ]\n",
      "[1.04143404 2.95852361]\n",
      "[1.07076189 3.07076189]\n"
     ]
    },
    {
     "data": {
      "text/plain": "<Figure size 432x288 with 4 Axes>",
      "image/png": "[encoded data removed]"
     },
     "metadata": {
      "needs_background": "light"
     },
     "output_type": "display_data"
    }
   ],
   "source": [
    "draw_difference(\n",
    "    perturbed,\n",
    "    gradient_descent(perturbed, np.array([0.5, 0.5]), 100, 0.01),\n",
    "    gradient_descent(perturbed, np.array([0.5, 0.5]), 100, 0.5),\n",
    "    gradient_exp_descent(booth, np.array([0.5, 0.5]), 100, 0.02, 0.005),\n",
    "    gradient_descent_wolfe(booth, booth_grad, np.array([0.5, 0.5]), 100, 1e-5, 5e-4),\n",
    "    axis=[-3, 3, -3, 3]\n",
    ")"
   ]
  },
  {
   "cell_type": "markdown",
   "metadata": {
    "pycharm": {
     "name": "#%% md\n"
    }
   },
   "source": [
    "При $lr = 0.01$ сходится, при $lr = 0.5$ расходится"
   ]
  }
 ],
 "metadata": {
  "kernelspec": {
   "display_name": "Python 3",
   "language": "python",
   "name": "python3"
  },
  "language_info": {
   "codemirror_mode": {
    "name": "ipython",
    "version": 3
   },
   "file_extension": ".py",
   "mimetype": "text/x-python",
   "name": "python",
   "nbconvert_exporter": "python",
   "pygments_lexer": "ipython3",
   "version": "3.9.5"
  }
 },
 "nbformat": 4,
 "nbformat_minor": 0
}