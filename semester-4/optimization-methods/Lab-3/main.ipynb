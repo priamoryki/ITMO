{
 "cells": [
  {
   "cell_type": "code",
   "execution_count": 2,
   "metadata": {
    "pycharm": {
     "name": "#%%\n"
    }
   },
   "outputs": [],
   "source": [
    "import numpy as np\n",
    "import matplotlib.pyplot as plt\n",
    "import operator\n",
    "from functools import partial\n",
    "from collections import deque\n",
    "from copy import deepcopy"
   ]
  },
  {
   "cell_type": "code",
   "execution_count": 3,
   "metadata": {
    "pycharm": {
     "name": "#%%\n"
    }
   },
   "outputs": [],
   "source": [
    "import timeit\n",
    "import tracemalloc"
   ]
  },
  {
   "cell_type": "code",
   "execution_count": 4,
   "metadata": {
    "pycharm": {
     "name": "#%%\n"
    }
   },
   "outputs": [],
   "source": [
    "DEBUG = True"
   ]
  },
  {
   "cell_type": "code",
   "execution_count": 5,
   "metadata": {
    "pycharm": {
     "name": "#%%\n"
    }
   },
   "outputs": [],
   "source": [
    "def deviation(x, y):\n",
    "    return lambda b: sum((y[i] - b[:, 0].dot(x[i])) ** 2 for i in range(len(y)))\n",
    "\n",
    "\n",
    "def gradient_descent_2(lr, get_next_point, deviation, batch_size, points_number, max_iter_num=300, eps=1e-4):\n",
    "    result = np.array([[0], [0]])\n",
    "    log = []\n",
    "    diff = deviation(result)\n",
    "    for i in range(max_iter_num):\n",
    "        for batch_id in range(1, points_number, points_number // batch_size):\n",
    "            id = np.random.randint(batch_id, batch_id + points_number // batch_size)\n",
    "            result = get_next_point(result, id, lr)\n",
    "        prev_diff, diff = diff, deviation(result)\n",
    "        log.append([result[0, 0], result[1, 0]])\n",
    "        if abs(diff - prev_diff) < eps:\n",
    "            break\n",
    "    print(i + 1)\n",
    "    return result, np.array(log)"
   ]
  },
  {
   "cell_type": "code",
   "execution_count": 6,
   "metadata": {
    "pycharm": {
     "name": "#%%\n"
    }
   },
   "outputs": [],
   "source": [
    "def gen_to_next(gen):\n",
    "    def next_getter(*args):\n",
    "        next(gen)\n",
    "        return gen.send(args)\n",
    "\n",
    "    return next_getter"
   ]
  },
  {
   "cell_type": "markdown",
   "metadata": {
    "pycharm": {
     "name": "#%% md\n"
    }
   },
   "source": [
    "### RMS Prop"
   ]
  },
  {
   "cell_type": "code",
   "execution_count": 7,
   "metadata": {
    "pycharm": {
     "name": "#%%\n"
    }
   },
   "outputs": [],
   "source": [
    "def rms_prop_next_point(x, y, beta):\n",
    "    seq = 0\n",
    "\n",
    "    while True:\n",
    "        (result, id, lr) = yield\n",
    "        xi = x[id: id + 1]\n",
    "        yi = y[id: id + 1]\n",
    "        grad = xi.T.dot((xi.dot(result)) - yi)\n",
    "        seq = beta * seq + (1 - beta) * grad ** 2\n",
    "        yield result - np.divide(lr, np.sqrt(seq)) * grad\n",
    "\n",
    "\n",
    "def call_rms_prop(batch_size):\n",
    "    return gradient_descent_2(0.1, gen_to_next(rms_prop_next_point(x, y, 0.8)), deviation(x, y), batch_size, len(y))"
   ]
  },
  {
   "cell_type": "markdown",
   "metadata": {
    "pycharm": {
     "name": "#%% md\n"
    }
   },
   "source": [
    "### Adam"
   ]
  },
  {
   "cell_type": "code",
   "execution_count": 8,
   "metadata": {
    "pycharm": {
     "name": "#%%\n"
    }
   },
   "outputs": [],
   "source": [
    "def adam_next_point(x, y, beta, gamma):\n",
    "    seq1 = 0\n",
    "    seq2 = 0\n",
    "\n",
    "    while True:\n",
    "        (result, id, lr) = yield\n",
    "        xi = x[id: id + 1]\n",
    "        yi = y[id: id + 1]\n",
    "        grad = xi.T.dot((xi.dot(result)) - yi)\n",
    "        seq1 = beta * seq1 + (1 - beta) * grad\n",
    "        seq2 = gamma * seq2 + (1 - gamma) * grad ** 2\n",
    "        yield result - lr * np.divide(seq1, np.sqrt(seq2))\n",
    "\n",
    "\n",
    "def call_adam(batch_size):\n",
    "    return gradient_descent_2(1e-2, gen_to_next(adam_next_point(x, y, 0.8, 0.8)), deviation(x, y), batch_size, len(y))"
   ]
  },
  {
   "cell_type": "code",
   "execution_count": 9,
   "metadata": {
    "pycharm": {
     "name": "#%%\n"
    }
   },
   "outputs": [],
   "source": [
    "def calc_pseudoinverse(x):\n",
    "    return np.linalg.pinv(x.T.dot(x)).dot(x.T)\n",
    "\n",
    "\n",
    "def calc_pseudoinverse_powell(x):\n",
    "    return x.T.dot(x).dot(x.T) if np.linalg.det(x.T.dot(x)) == 0 else calc_pseudoinverse(x)\n",
    "\n",
    "\n",
    "def calc_residual(f, x, y, coef):\n",
    "    return f(x, coef) - y\n",
    "\n",
    "\n",
    "def calculate_jacobian(f, x, y, x0, step):\n",
    "    jacobian, y0 = [], calc_residual(f, x, y, x0)\n",
    "    for i in range(len(x0)):\n",
    "        new_x = x0.copy()\n",
    "        new_x[i] += step\n",
    "        jacobian.append((calc_residual(f, x, y, new_x) - y0) / step)\n",
    "    return np.array(jacobian).T\n",
    "\n",
    "\n",
    "def gradient_descent_3(pseudoinverse_f, f, x, y, start_point, max_iter_num, stop_difference=1e-10):\n",
    "    coef, rmse_prev = start_point, np.inf\n",
    "    differences = [sum(calc_residual(f, x, y, coef) ** 2)]\n",
    "    for i in range(max_iter_num):\n",
    "        residual, jacobian = calc_residual(f, x, y, coef), calculate_jacobian(f, x, y, coef, 1e-7)\n",
    "        coef -= pseudoinverse_f(jacobian).dot(residual)\n",
    "        differences.append(sum(calc_residual(f, x, y, coef) ** 2))\n",
    "        rmse = np.sqrt(sum(residual ** 2))\n",
    "        if np.abs(rmse_prev - rmse) < stop_difference:\n",
    "            break\n",
    "        rmse_prev = rmse\n",
    "    print(i + 1)\n",
    "    return coef, differences\n",
    "\n",
    "\n",
    "call_gauss_newton = partial(gradient_descent_3, calc_pseudoinverse)\n",
    "call_powell = partial(gradient_descent_3, calc_pseudoinverse_powell)"
   ]
  },
  {
   "cell_type": "markdown",
   "metadata": {
    "pycharm": {
     "name": "#%% md\n"
    }
   },
   "source": [
    "### Initial values for Gauss-Newton and Dog Leg comparison"
   ]
  },
  {
   "cell_type": "code",
   "execution_count": 10,
   "metadata": {
    "pycharm": {
     "name": "#%%\n"
    }
   },
   "outputs": [],
   "source": [
    "def f(x, coef):\n",
    "    return coef[0] + coef[1] * x + coef[2] * x ** 2 + coef[3] * x ** 3 + coef[4] * np.sin(x)\n",
    "\n",
    "\n",
    "coef = [1, 0.1, 0.1, -1e-3, 10]\n",
    "x = np.arange(1, 100)\n",
    "y = f(x, coef)\n",
    "yn = y + 6 * np.random.randn(len(x))\n",
    "start_point = 1000 * np.random.random(len(coef))"
   ]
  },
  {
   "cell_type": "markdown",
   "metadata": {
    "pycharm": {
     "name": "#%% md\n"
    }
   },
   "source": [
    "### Gauss-Newton"
   ]
  },
  {
   "cell_type": "code",
   "execution_count": 11,
   "metadata": {
    "pycharm": {
     "name": "#%%\n"
    }
   },
   "outputs": [
    {
     "name": "stdout",
     "output_type": "stream",
     "text": [
      "5\n",
      "[ 3.32233505e+00 -1.20895151e-01  1.06724596e-01 -1.05352695e-03\n",
      "  9.91373125e+00] [1.310245875753804e+18, 187052.15933243505, 4184.057577333934, 4184.0575770955065, 4184.057577095425, 4184.057577095482]\n"
     ]
    },
    {
     "data": {
      "image/png": "[encoded data removed]",
      "text/plain": [
       "<Figure size 432x288 with 1 Axes>"
      ]
     },
     "metadata": {
      "needs_background": "light"
     },
     "output_type": "display_data"
    }
   ],
   "source": [
    "new_coef, differences = call_gauss_newton(f, x, yn, start_point, 500)\n",
    "print(new_coef, differences)\n",
    "plt.plot(x, yn)\n",
    "plt.plot(x, f(x, new_coef))\n",
    "plt.show()"
   ]
  },
  {
   "cell_type": "markdown",
   "metadata": {
    "pycharm": {
     "name": "#%% md\n"
    }
   },
   "source": [
    "### Dog Leg"
   ]
  },
  {
   "cell_type": "code",
   "execution_count": 12,
   "metadata": {
    "pycharm": {
     "name": "#%%\n"
    }
   },
   "outputs": [
    {
     "name": "stdout",
     "output_type": "stream",
     "text": [
      "2\n",
      "[ 3.32234746e+00 -1.20896067e-01  1.06724614e-01 -1.05352705e-03\n",
      "  9.91373087e+00] [4184.057577095482, 4184.057577095391, 4184.057577095678]\n"
     ]
    },
    {
     "data": {
      "image/png": "[encoded data removed]",
      "text/plain": [
       "<Figure size 432x288 with 1 Axes>"
      ]
     },
     "metadata": {
      "needs_background": "light"
     },
     "output_type": "display_data"
    }
   ],
   "source": [
    "new_coef, differences = call_powell(f, x, yn, start_point, 500)\n",
    "print(new_coef, differences)\n",
    "plt.plot(x, yn)\n",
    "plt.plot(x, f(x, new_coef))\n",
    "plt.show()"
   ]
  },
  {
   "cell_type": "markdown",
   "metadata": {
    "pycharm": {
     "name": "#%% md\n"
    }
   },
   "source": [
    "### Initial values for 3.1"
   ]
  },
  {
   "cell_type": "code",
   "execution_count": 13,
   "metadata": {
    "pycharm": {
     "name": "#%%\n"
    }
   },
   "outputs": [],
   "source": [
    "def g(x, coef):\n",
    "    return coef[0] + coef[1] * x\n",
    "\n",
    "\n",
    "x_raw = np.sort(2 * np.random.rand(100, 1), axis=0)\n",
    "x = np.c_[np.ones((len(x_raw), 1)), x_raw]\n",
    "y = 5 * x_raw + np.random.rand(100, 1) * 10"
   ]
  },
  {
   "cell_type": "markdown",
   "metadata": {
    "pycharm": {
     "name": "#%% md\n"
    }
   },
   "source": [
    "### 3.1 ADAM, RMS PROP, Gauss-Newton, Dog Leg"
   ]
  },
  {
   "cell_type": "code",
   "execution_count": 14,
   "metadata": {
    "pycharm": {
     "name": "#%%\n"
    }
   },
   "outputs": [
    {
     "name": "stdout",
     "output_type": "stream",
     "text": [
      "300\n"
     ]
    },
    {
     "data": {
      "image/png": "[encoded data removed]",
      "text/plain": [
       "<Figure size 432x288 with 1 Axes>"
      ]
     },
     "metadata": {
      "needs_background": "light"
     },
     "output_type": "display_data"
    },
    {
     "name": "stdout",
     "output_type": "stream",
     "text": [
      "47\n"
     ]
    },
    {
     "data": {
      "image/png": "[encoded data removed]",
      "text/plain": [
       "<Figure size 432x288 with 1 Axes>"
      ]
     },
     "metadata": {
      "needs_background": "light"
     },
     "output_type": "display_data"
    },
    {
     "name": "stdout",
     "output_type": "stream",
     "text": [
      "3\n"
     ]
    },
    {
     "data": {
      "image/png": "[encoded data removed]",
      "text/plain": [
       "<Figure size 432x288 with 1 Axes>"
      ]
     },
     "metadata": {
      "needs_background": "light"
     },
     "output_type": "display_data"
    },
    {
     "name": "stdout",
     "output_type": "stream",
     "text": [
      "3\n"
     ]
    },
    {
     "data": {
      "image/png": "[encoded data removed]",
      "text/plain": [
       "<Figure size 432x288 with 1 Axes>"
      ]
     },
     "metadata": {
      "needs_background": "light"
     },
     "output_type": "display_data"
    }
   ],
   "source": [
    "def draw(x_raw, x, y, coef):\n",
    "    plt.scatter(x_raw, y)\n",
    "    plt.plot(x_raw, x.dot(coef), c='yellow')\n",
    "    plt.show()\n",
    "\n",
    "\n",
    "draw(x_raw, x, y, call_adam(90)[0])\n",
    "\n",
    "draw(x_raw, x, y, call_rms_prop(90)[0])\n",
    "\n",
    "draw(x_raw, x, y, call_gauss_newton(g, x[:, 1], y[:, 0], np.zeros(2), 1000)[0])\n",
    "\n",
    "draw(x_raw, x, y, call_powell(g, x[:, 1], y[:, 0], np.zeros(2), 1000)[0])"
   ]
  },
  {
   "cell_type": "markdown",
   "metadata": {
    "pycharm": {
     "name": "#%% md\n"
    }
   },
   "source": [
    "### Gradient Descent from 1.1"
   ]
  },
  {
   "cell_type": "code",
   "execution_count": 15,
   "metadata": {
    "pycharm": {
     "name": "#%%\n"
    }
   },
   "outputs": [],
   "source": [
    "def gradient_descent(gf, x, steps, lr):\n",
    "    points = np.zeros((steps, x.size))\n",
    "\n",
    "    for i in range(steps):\n",
    "        points[i] = x\n",
    "        x -= lr * gf(x)\n",
    "\n",
    "    return points"
   ]
  },
  {
   "cell_type": "markdown",
   "metadata": {
    "pycharm": {
     "name": "#%% md\n"
    }
   },
   "source": [
    "### BFGS"
   ]
  },
  {
   "cell_type": "code",
   "execution_count": 16,
   "metadata": {
    "pycharm": {
     "name": "#%%\n"
    }
   },
   "outputs": [],
   "source": [
    "# First condition, c_1 is pretty small\n",
    "def first_wolfe(alpha, phi, d_zero_phi_dir):\n",
    "    c_1 = 1e-4\n",
    "    return phi(alpha) <= phi(0) + c_1 * alpha * d_zero_phi_dir\n",
    "\n",
    "\n",
    "# Second condition, c_2 should be as close to 1 as possible\n",
    "def second_wolfe(alpha, dir, d_phi, d_zero_phi_dir):\n",
    "    c_2 = 1 - 1e-4\n",
    "    return d_phi(alpha).dot(dir) >= c_2 * d_zero_phi_dir\n",
    "\n",
    "\n",
    "def golden_ratio_search(lr, f, df, d_zero_phi_dir, dir):\n",
    "    a, b = 0, lr\n",
    "    s1, s2 = 0.5 * (3 - np.sqrt(5)), 0.5 * (np.sqrt(5) - 1)\n",
    "    x1, x2 = a + s1 * (b - a), a + s2 * (b - a)\n",
    "    f1, f2 = f(x1), f(x2)\n",
    "    while b - a >= 0.00001 and not (first_wolfe(lr, f, d_zero_phi_dir) and second_wolfe(lr, dir, df, d_zero_phi_dir)):\n",
    "        if f1 < f2:\n",
    "            b = x2\n",
    "            x2 = x1\n",
    "            f2 = f1\n",
    "            x1 = a + s1 * (b - a)\n",
    "            f1 = f(x1)\n",
    "        else:\n",
    "            a = x1\n",
    "            x1 = x2\n",
    "            f1 = f2\n",
    "            x2 = a + s2 * (b - a)\n",
    "            f2 = f(x2)\n",
    "    return x1 if f1 < f2 else x2\n",
    "\n",
    "\n",
    "def bfgs(f, df, x0, max_iter_num, eps=1e-5):\n",
    "    I = np.eye(len(x0))\n",
    "    H = I\n",
    "    J = np.array(df(x0))\n",
    "    x = x0\n",
    "    differences = [np.linalg.norm(J)]\n",
    "    points = [x]\n",
    "    for i in range(max_iter_num):\n",
    "        direction = -H.dot(J)\n",
    "        d_zero_phi_dir = df(np.zeros(len(x))).dot(direction)\n",
    "        alpha = golden_ratio_search(10, lambda a: f(x + a * direction), lambda a: df(x + a * direction), d_zero_phi_dir,\n",
    "                                    direction)\n",
    "\n",
    "        # delta x\n",
    "        s = alpha * direction\n",
    "        x = x + s\n",
    "        points.append(x)\n",
    "\n",
    "        # delta grad\n",
    "        y = np.array(df(x)) - J\n",
    "        J = y + J\n",
    "        r = 1 / y.dot(s)\n",
    "        A1, A2 = I - r * s[:, np.newaxis] * y[np.newaxis, :], I - r * y[:, np.newaxis] * s[np.newaxis, :]\n",
    "        H = A1.dot(H).dot(A2) + r * s[:, np.newaxis] * s[np.newaxis, :]\n",
    "        differences.append(np.linalg.norm(J))\n",
    "        if np.linalg.norm(J) < eps or abs(differences[-1] - differences[-2]) < 1e-10:\n",
    "            break\n",
    "    if DEBUG: print(i + 1)\n",
    "    return x, np.array(points)"
   ]
  },
  {
   "cell_type": "markdown",
   "metadata": {
    "pycharm": {
     "name": "#%% md\n"
    }
   },
   "source": [
    "### Drawing functions"
   ]
  },
  {
   "cell_type": "code",
   "execution_count": 17,
   "metadata": {
    "pycharm": {
     "name": "#%%\n"
    }
   },
   "outputs": [],
   "source": [
    "def draw_gradient(f, points):\n",
    "    plt.plot(points[:, 0], points[:, 1], color='c')\n",
    "    t = np.linspace(-5, 10, 100)\n",
    "    x, y = np.meshgrid(t, t)\n",
    "    plt.contourf(x, y, f(np.array([x, y])), levels=sorted(set(f(p) for p in points)))\n",
    "\n",
    "\n",
    "def draw_difference(f, points1, points2, axis=None):\n",
    "    plt.subplot(1, 2, 1)\n",
    "    if axis is not None:\n",
    "        plt.axis(axis)\n",
    "    draw_gradient(f, points1)\n",
    "\n",
    "    plt.subplot(1, 2, 2)\n",
    "    if axis is not None:\n",
    "        plt.axis(axis)\n",
    "    draw_gradient(f, points2)\n",
    "\n",
    "    print((points1[-1], points2[-1]))"
   ]
  },
  {
   "cell_type": "markdown",
   "metadata": {
    "pycharm": {
     "name": "#%% md\n"
    }
   },
   "source": [
    "### Functions for comparison"
   ]
  },
  {
   "cell_type": "code",
   "execution_count": 18,
   "metadata": {
    "pycharm": {
     "name": "#%%\n"
    }
   },
   "outputs": [],
   "source": [
    "def rosenbrock(a, b, x):\n",
    "    return (a - x[0]) ** 2 + b * (x[1] - x[0] ** 2) ** 2\n",
    "\n",
    "\n",
    "def rosenbrock_grad(a, b, x):\n",
    "    return np.array([2 * (x[0] - a) + 4 * b * x[0] * (x[0] ** 2 - x[1]), 2 * b * (x[1] - x[0] ** 2)])\n",
    "\n",
    "\n",
    "def gen_rosenbrock(a, b):\n",
    "    return map(lambda f: partial(f, a, b), (rosenbrock, rosenbrock_grad))"
   ]
  },
  {
   "cell_type": "markdown",
   "metadata": {
    "pycharm": {
     "name": "#%% md\n"
    }
   },
   "source": [
    "### Gradient Descent and BFGS comparison"
   ]
  },
  {
   "cell_type": "code",
   "execution_count": 19,
   "metadata": {
    "pycharm": {
     "name": "#%%\n"
    }
   },
   "outputs": [
    {
     "name": "stdout",
     "output_type": "stream",
     "text": [
      "11\n",
      "(array([1.94954099, 3.7982797 ]), array([1.99999996, 3.99999984]))\n"
     ]
    },
    {
     "data": {
      "image/png": "[encoded data removed]",
      "text/plain": [
       "<Figure size 432x288 with 2 Axes>"
      ]
     },
     "metadata": {
      "needs_background": "light"
     },
     "output_type": "display_data"
    }
   ],
   "source": [
    "rosenbrock_1, rosenbrock_grad_1 = gen_rosenbrock(2, 5)\n",
    "draw_difference(\n",
    "    rosenbrock_1,\n",
    "    gradient_descent(rosenbrock_grad_1, np.zeros(2), 2000, 0.01),\n",
    "    bfgs(rosenbrock_1, rosenbrock_grad_1, np.zeros(2), 500)[1],\n",
    "    axis=[-1, 5, -2, 6]\n",
    ")"
   ]
  },
  {
   "cell_type": "code",
   "execution_count": 20,
   "metadata": {
    "pycharm": {
     "name": "#%%\n"
    }
   },
   "outputs": [
    {
     "name": "stdout",
     "output_type": "stream",
     "text": [
      "14\n",
      "(array([1.40500217, 1.17712852]), array([1., 1.]))\n"
     ]
    },
    {
     "data": {
      "image/png": "[encoded data removed]",
      "text/plain": [
       "<Figure size 432x288 with 2 Axes>"
      ]
     },
     "metadata": {
      "needs_background": "light"
     },
     "output_type": "display_data"
    }
   ],
   "source": [
    "rosenbrock_2, rosenbrock_grad_2 = gen_rosenbrock(1, 100)\n",
    "draw_difference(\n",
    "    rosenbrock_2,\n",
    "    gradient_descent(rosenbrock_grad_2, np.zeros(2), 35, 0.01),\n",
    "    bfgs(rosenbrock_2, rosenbrock_grad_2, np.zeros(2), 500)[1],\n",
    "    axis=[-1, 5, -2, 6]\n",
    ")"
   ]
  },
  {
   "cell_type": "markdown",
   "metadata": {
    "pycharm": {
     "name": "#%% md\n"
    }
   },
   "source": [
    "### L-BFGS"
   ]
  },
  {
   "cell_type": "code",
   "execution_count": 21,
   "metadata": {
    "pycharm": {
     "name": "#%%\n"
    }
   },
   "outputs": [],
   "source": [
    "def find_direction(g, r, s, y):\n",
    "    q = deepcopy(g)\n",
    "    m = len(r)\n",
    "    alpha = [0] * m\n",
    "    for i in range(m - 1, -1, -1):\n",
    "        alpha[i] = r[i] * s[i].dot(q)\n",
    "        q -= alpha[i] * y[i]\n",
    "\n",
    "    gamma = s[-1].dot(y[-1]) / (y[-1].dot(y[-1]) + 1e-30)\n",
    "    h_grad = gamma * q\n",
    "    for i in range(m):\n",
    "        beta = r[i] * np.dot(y[i], h_grad)\n",
    "        h_grad += s[i] * (alpha[i] - beta)\n",
    "\n",
    "    return -h_grad\n",
    "\n",
    "\n",
    "def lbfgs(f, df, x0, max_iter_num, eps=1e-5, m=3):\n",
    "    I = np.eye(len(x0))\n",
    "    H = I\n",
    "    J = np.array(df(x0))\n",
    "    x = x0\n",
    "    r, s, y = deque(), deque(), deque()\n",
    "    differences = [np.linalg.norm(J)]\n",
    "    points = [x]\n",
    "    for i in range(max_iter_num):\n",
    "        direction = -H.dot(J) if i == 0 else find_direction(J, r, s, y)\n",
    "        d_zero_phi_dir = df(np.zeros(len(x))).dot(direction)\n",
    "        alpha = golden_ratio_search(10, lambda a: f(x + a * direction), lambda a: df(x + a * direction), d_zero_phi_dir,\n",
    "                                    direction)\n",
    "\n",
    "        # delta x\n",
    "        s0 = alpha * direction\n",
    "        x = x + s0\n",
    "        points.append(x)\n",
    "\n",
    "        # delta grad\n",
    "        y0 = np.array(df(x)) - J\n",
    "        J = y0 + J\n",
    "        r0 = 1 / y0.dot(s0)\n",
    "        r.append(r0)\n",
    "        s.append(s0)\n",
    "        y.append(y0)\n",
    "        if len(r) >= m:\n",
    "            r.popleft()\n",
    "            s.popleft()\n",
    "            y.popleft()\n",
    "\n",
    "        differences.append(np.linalg.norm(J))\n",
    "        if np.linalg.norm(J) < eps or abs(differences[-1] - differences[-2]) < 1e-10:\n",
    "            break\n",
    "    if DEBUG: print(i + 1)\n",
    "    return x, np.array(points)"
   ]
  },
  {
   "cell_type": "markdown",
   "metadata": {
    "pycharm": {
     "name": "#%% md\n"
    }
   },
   "source": [
    "### BFGS and L-BFGS comparison"
   ]
  },
  {
   "cell_type": "code",
   "execution_count": 22,
   "metadata": {
    "pycharm": {
     "name": "#%%\n"
    }
   },
   "outputs": [],
   "source": [
    "def compare(f, grad, axis, *args):\n",
    "    draw_difference(f, bfgs(f, grad, *args)[1], lbfgs(f, grad, *args)[1], axis)"
   ]
  },
  {
   "cell_type": "code",
   "execution_count": 23,
   "metadata": {
    "pycharm": {
     "name": "#%%\n"
    }
   },
   "outputs": [
    {
     "name": "stdout",
     "output_type": "stream",
     "text": [
      "14\n",
      "14\n",
      "(array([2.00000002, 4.00000005]), array([2.        , 3.99999999]))\n"
     ]
    },
    {
     "data": {
      "image/png": "[encoded data removed]",
      "text/plain": [
       "<Figure size 432x288 with 2 Axes>"
      ]
     },
     "metadata": {
      "needs_background": "light"
     },
     "output_type": "display_data"
    }
   ],
   "source": [
    "compare(*gen_rosenbrock(2, 5), [-1, 5, -2, 6], np.array([15., 15.]), 500)"
   ]
  },
  {
   "cell_type": "code",
   "execution_count": 24,
   "metadata": {
    "pycharm": {
     "name": "#%%\n"
    }
   },
   "outputs": [
    {
     "name": "stdout",
     "output_type": "stream",
     "text": [
      "61\n",
      "27\n",
      "(array([1.        , 1.00000001]), array([1., 1.]))\n"
     ]
    },
    {
     "data": {
      "image/png": "[encoded data removed]",
      "text/plain": [
       "<Figure size 432x288 with 2 Axes>"
      ]
     },
     "metadata": {
      "needs_background": "light"
     },
     "output_type": "display_data"
    }
   ],
   "source": [
    "compare(*gen_rosenbrock(1, 100), [-1, 5, -2, 6], np.array([15., 15.]), 500)"
   ]
  },
  {
   "cell_type": "code",
   "execution_count": 25,
   "metadata": {
    "pycharm": {
     "name": "#%%\n"
    }
   },
   "outputs": [],
   "source": [
    "def perf(f, n=20):\n",
    "    print(f\"Avg time: {timeit.timeit(f, number=n) / n * 1000} ms\")\n",
    "    sum_mem = (0, 0)\n",
    "    for _ in range(n):\n",
    "        tracemalloc.start()\n",
    "        f()\n",
    "        sum_mem = map(operator.add, sum_mem, tracemalloc.get_traced_memory())\n",
    "        tracemalloc.stop()\n",
    "    cur, peak = map(lambda m: f\"{m / n / 1024} KB\", sum_mem)\n",
    "    print(f\"Avg memory (cur, peak): {cur}, {peak}\")"
   ]
  },
  {
   "cell_type": "code",
   "execution_count": 26,
   "metadata": {
    "pycharm": {
     "name": "#%%\n"
    }
   },
   "outputs": [
    {
     "name": "stdout",
     "output_type": "stream",
     "text": [
      "BFGS\n",
      "Avg time: 44.68020500000005 ms\n",
      "Avg memory (cur, peak): 14.67353515625 KB, 27.22568359375 KB\n",
      "\n",
      "L-BFGS\n",
      "Avg time: 21.797624999999954 ms\n",
      "Avg memory (cur, peak): 14.7134765625 KB, 28.234228515625 KB\n",
      "\n"
     ]
    }
   ],
   "source": [
    "DEBUG = False\n",
    "f, grad = gen_rosenbrock(1, 100)\n",
    "print(\"BFGS\")\n",
    "perf(lambda: bfgs(f, grad, np.array([15., 15.]), 500))\n",
    "print()\n",
    "print(\"L-BFGS\")\n",
    "perf(lambda: lbfgs(f, grad, np.array([15., 15.]), 500))\n",
    "print()"
   ]
  }
 ],
 "metadata": {
  "kernelspec": {
   "display_name": "Python 3",
   "language": "python",
   "name": "python3"
  },
  "language_info": {
   "codemirror_mode": {
    "name": "ipython",
    "version": 3
   },
   "file_extension": ".py",
   "mimetype": "text/x-python",
   "name": "python",
   "nbconvert_exporter": "python",
   "pygments_lexer": "ipython3",
   "version": "3.8.8"
  }
 },
 "nbformat": 4,
 "nbformat_minor": 1
}