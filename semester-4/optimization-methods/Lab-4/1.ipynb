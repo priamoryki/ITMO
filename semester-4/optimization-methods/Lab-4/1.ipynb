{
 "cells": [
  {
   "cell_type": "code",
   "execution_count": 1,
   "metadata": {
    "collapsed": true,
    "pycharm": {
     "name": "#%%\n"
    }
   },
   "outputs": [],
   "source": [
    "import torch"
   ]
  },
  {
   "cell_type": "markdown",
   "source": [
    "### `torch.gradient`"
   ],
   "metadata": {
    "collapsed": false,
    "pycharm": {
     "name": "#%% md\n"
    }
   }
  },
  {
   "cell_type": "code",
   "execution_count": 2,
   "outputs": [
    {
     "data": {
      "text/plain": "(tensor([-3., -2.,  2.,  5.]),)"
     },
     "execution_count": 2,
     "metadata": {},
     "output_type": "execute_result"
    }
   ],
   "source": [
    "# f(x) = x^2\n",
    "coordinates = (torch.tensor([-2., -1., 1., 4.]),)\n",
    "values = torch.tensor([4., 1., 1., 16.], )\n",
    "torch.gradient(values, spacing=coordinates)"
   ],
   "metadata": {
    "collapsed": false,
    "pycharm": {
     "name": "#%%\n"
    }
   }
  },
  {
   "cell_type": "code",
   "execution_count": 3,
   "outputs": [
    {
     "data": {
      "text/plain": "(tensor([[ 9., 18., 36., 72.],\n         [ 9., 18., 36., 72.]]),\n tensor([[ 1.0000,  1.5000,  3.0000,  4.0000],\n         [10.0000, 15.0000, 30.0000, 40.0000]]))"
     },
     "execution_count": 3,
     "metadata": {},
     "output_type": "execute_result"
    }
   ],
   "source": [
    "# [[f(0, 0), f(0, 1), f(0, 2), f(0, 3)], [f(1, 0), f(1, 1), f(1, 2), f(1, 3)]]\n",
    "t = torch.tensor([[1, 2, 4, 8], [10, 20, 40, 80]])\n",
    "torch.gradient(t)"
   ],
   "metadata": {
    "collapsed": false,
    "pycharm": {
     "name": "#%%\n"
    }
   }
  },
  {
   "cell_type": "code",
   "execution_count": 4,
   "outputs": [
    {
     "data": {
      "text/plain": "(tensor([[ 9., 18., 36., 72.],\n         [ 9., 18., 36., 72.]]),)"
     },
     "execution_count": 4,
     "metadata": {},
     "output_type": "execute_result"
    }
   ],
   "source": [
    "torch.gradient(t, dim=0)"
   ],
   "metadata": {
    "collapsed": false,
    "pycharm": {
     "name": "#%%\n"
    }
   }
  },
  {
   "cell_type": "code",
   "execution_count": 5,
   "outputs": [
    {
     "data": {
      "text/plain": "(tensor([[ 1.0000,  1.5000,  3.0000,  4.0000],\n         [10.0000, 15.0000, 30.0000, 40.0000]]),)"
     },
     "execution_count": 5,
     "metadata": {},
     "output_type": "execute_result"
    }
   ],
   "source": [
    "torch.gradient(t, dim=1)"
   ],
   "metadata": {
    "collapsed": false,
    "pycharm": {
     "name": "#%%\n"
    }
   }
  },
  {
   "cell_type": "code",
   "execution_count": 6,
   "outputs": [
    {
     "data": {
      "text/plain": "(tensor([[ 4.5000,  9.0000, 18.0000, 36.0000],\n         [ 4.5000,  9.0000, 18.0000, 36.0000]]),\n tensor([[ 0.5000,  0.7500,  1.5000,  2.0000],\n         [ 5.0000,  7.5000, 15.0000, 20.0000]]))"
     },
     "execution_count": 6,
     "metadata": {},
     "output_type": "execute_result"
    }
   ],
   "source": [
    "torch.gradient(t, spacing=2.0)"
   ],
   "metadata": {
    "collapsed": false,
    "pycharm": {
     "name": "#%%\n"
    }
   }
  },
  {
   "cell_type": "code",
   "execution_count": 7,
   "outputs": [
    {
     "data": {
      "text/plain": "(tensor([[ 4.5000,  9.0000, 18.0000, 36.0000],\n         [ 4.5000,  9.0000, 18.0000, 36.0000]]),\n tensor([[ 0.3333,  0.5000,  1.0000,  1.3333],\n         [ 3.3333,  5.0000, 10.0000, 13.3333]]))"
     },
     "execution_count": 7,
     "metadata": {},
     "output_type": "execute_result"
    }
   ],
   "source": [
    "torch.gradient(t, spacing=[2., 3.])"
   ],
   "metadata": {
    "collapsed": false,
    "pycharm": {
     "name": "#%%\n"
    }
   }
  },
  {
   "cell_type": "code",
   "execution_count": 8,
   "outputs": [
    {
     "data": {
      "text/plain": "(tensor([[ 4.5000,  9.0000, 18.0000, 36.0000],\n         [ 4.5000,  9.0000, 18.0000, 36.0000]]),\n tensor([[ 0.3333,  0.5000,  1.0000,  1.3333],\n         [ 3.3333,  5.0000, 10.0000, 13.3333]]))"
     },
     "execution_count": 8,
     "metadata": {},
     "output_type": "execute_result"
    }
   ],
   "source": [
    "coords = (torch.tensor([0, 2]), torch.tensor([0, 3, 6, 9]))\n",
    "torch.gradient(t, spacing=coords)"
   ],
   "metadata": {
    "collapsed": false,
    "pycharm": {
     "name": "#%%\n"
    }
   }
  },
  {
   "cell_type": "markdown",
   "source": [
    "### `torch.autograd`"
   ],
   "metadata": {
    "collapsed": false,
    "pycharm": {
     "name": "#%% md\n"
    }
   }
  },
  {
   "cell_type": "code",
   "execution_count": 10,
   "metadata": {
    "pycharm": {
     "name": "#%%\n"
    }
   },
   "outputs": [
    {
     "name": "stdout",
     "output_type": "stream",
     "text": [
      "tensor(56.)\n"
     ]
    }
   ],
   "source": [
    "x = torch.tensor(2.0, requires_grad=True)\n",
    "y = 5 * x ** 3 - x ** 2 + 4\n",
    "\n",
    "y.backward()\n",
    "print(x.grad)"
   ]
  }
 ],
 "metadata": {
  "kernelspec": {
   "display_name": "Python 3 (ipykernel)",
   "language": "python",
   "name": "python3"
  },
  "language_info": {
   "codemirror_mode": {
    "name": "ipython",
    "version": 3
   },
   "file_extension": ".py",
   "mimetype": "text/x-python",
   "name": "python",
   "nbconvert_exporter": "python",
   "pygments_lexer": "ipython3",
   "version": "3.9.7"
  }
 },
 "nbformat": 4,
 "nbformat_minor": 1
}