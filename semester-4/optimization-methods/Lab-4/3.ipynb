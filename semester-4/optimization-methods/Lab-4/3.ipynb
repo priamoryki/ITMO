{
 "cells": [
  {
   "cell_type": "code",
   "execution_count": 1,
   "metadata": {
    "collapsed": true,
    "pycharm": {
     "name": "#%%\n"
    }
   },
   "outputs": [],
   "source": [
    "import matplotlib.pyplot as plt\n",
    "import numpy as np\n",
    "import operator\n",
    "import scipy.optimize\n",
    "import torch\n",
    "\n",
    "import timeit\n",
    "import tracemalloc\n",
    "\n",
    "from functools import *\n",
    "from typing import *"
   ]
  },
  {
   "cell_type": "markdown",
   "source": [
    "## Helper functions"
   ],
   "metadata": {
    "collapsed": false,
    "pycharm": {
     "name": "#%% md\n"
    }
   }
  },
  {
   "cell_type": "code",
   "execution_count": 2,
   "outputs": [],
   "source": [
    "def compose(f: Callable, g: Callable):\n",
    "    return lambda x: f(g(x))\n",
    "\n",
    "\n",
    "def rosenbrock(x: np.array) -> float:\n",
    "    a, b = 2, 5\n",
    "    return (a - x[0]) ** 2 + b * (x[1] - x[0] ** 2) ** 2\n",
    "\n",
    "\n",
    "def torch_grad(f):\n",
    "    def impl(x):\n",
    "        x = torch.tensor(x, requires_grad=True)\n",
    "        y = f(x)\n",
    "        y.backward()\n",
    "        return x.grad\n",
    "\n",
    "    return impl\n",
    "\n",
    "\n",
    "def perf(f, n=100):\n",
    "    print(f\"Avg time: {timeit.timeit(f, number=n) / n * 1000} ms\")\n",
    "    sum_mem = (0, 0)\n",
    "    for _ in range(n):\n",
    "        tracemalloc.start()\n",
    "        f()\n",
    "        sum_mem = map(operator.add, sum_mem, tracemalloc.get_traced_memory())\n",
    "        tracemalloc.stop()\n",
    "    cur, peak = map(lambda m: f\"{m / n / 1024} KB\", sum_mem)\n",
    "    print(f\"Avg memory (cur, peak): {cur}, {peak}\")\n",
    "    return f()"
   ],
   "metadata": {
    "collapsed": false,
    "pycharm": {
     "name": "#%%\n"
    }
   }
  },
  {
   "cell_type": "markdown",
   "source": [
    "### `scipy.optimize.minimize`"
   ],
   "metadata": {
    "collapsed": false,
    "pycharm": {
     "name": "#%% md\n"
    }
   }
  },
  {
   "cell_type": "code",
   "execution_count": 3,
   "outputs": [
    {
     "name": "stdout",
     "output_type": "stream",
     "text": [
      "      fun: 6.917139163925168e-13\n",
      " hess_inv: array([[0.50860031, 2.03755989],\n",
      "       [2.03755989, 8.26400669]])\n",
      "      jac: array([ 9.30183538e-07, -2.70347420e-07])\n",
      "  message: 'Optimization terminated successfully.'\n",
      "     nfev: 63\n",
      "      nit: 15\n",
      "     njev: 21\n",
      "   status: 0\n",
      "  success: True\n",
      "        x: array([1.99999917, 3.99999665])\n"
     ]
    }
   ],
   "source": [
    "print(scipy.optimize.minimize(rosenbrock, np.zeros(2)))"
   ],
   "metadata": {
    "collapsed": false,
    "pycharm": {
     "name": "#%%\n"
    }
   }
  },
  {
   "cell_type": "code",
   "execution_count": 4,
   "outputs": [
    {
     "name": "stdout",
     "output_type": "stream",
     "text": [
      " active_mask: array([0., 0.])\n",
      "        cost: 2.6482841383049063e-11\n",
      "         fun: array([7.27775259e-06])\n",
      "        grad: array([-5.69898890e-09, -8.35210555e-09])\n",
      "         jac: array([[-0.00078307, -0.00114762]])\n",
      "     message: '`gtol` termination condition is satisfied.'\n",
      "        nfev: 3422\n",
      "        njev: 3388\n",
      "  optimality: 8.352105548001764e-09\n",
      "      status: 1\n",
      "     success: True\n",
      "           x: array([1.99731451, 3.98915045])\n"
     ]
    }
   ],
   "source": [
    "print(scipy.optimize.least_squares(rosenbrock, np.zeros(2), max_nfev=4000))"
   ],
   "metadata": {
    "collapsed": false,
    "pycharm": {
     "name": "#%%\n"
    }
   }
  },
  {
   "cell_type": "markdown",
   "source": [
    "## 3a"
   ],
   "metadata": {
    "collapsed": false,
    "pycharm": {
     "name": "#%% md\n"
    }
   }
  },
  {
   "cell_type": "code",
   "execution_count": 5,
   "outputs": [
    {
     "name": "stdout",
     "output_type": "stream",
     "text": [
      "      fun: 9.371329794568943e-15\n",
      " hess_inv: array([[0.50860079, 2.0375629 ],\n",
      "       [2.0375629 , 8.26402317]])\n",
      "      jac: array([ 9.30300925e-07, -2.70377765e-07])\n",
      "  message: 'Optimization terminated successfully.'\n",
      "     nfev: 21\n",
      "      nit: 15\n",
      "     njev: 21\n",
      "   status: 0\n",
      "  success: True\n",
      "        x: array([1.99999992, 3.99999967])\n"
     ]
    }
   ],
   "source": [
    "print(scipy.optimize.minimize(rosenbrock, np.zeros(2), jac=torch_grad(rosenbrock)))"
   ],
   "metadata": {
    "collapsed": false,
    "pycharm": {
     "name": "#%%\n"
    }
   }
  },
  {
   "cell_type": "code",
   "execution_count": 6,
   "outputs": [
    {
     "name": "stdout",
     "output_type": "stream",
     "text": [
      " active_mask: array([0., 0.])\n",
      "        cost: 2.6405243776878244e-11\n",
      "         fun: array([7.26708247e-06])\n",
      "        grad: array([-6.38766165e-09, -8.16652537e-09])\n",
      "         jac: array([[-0.00087899, -0.00112377]])\n",
      "     message: '`gtol` termination condition is satisfied.'\n",
      "        nfev: 3422\n",
      "        njev: 3388\n",
      "  optimality: 8.166525367069686e-09\n",
      "      status: 1\n",
      "     success: True\n",
      "           x: array([1.99731598, 3.98915876])\n"
     ]
    }
   ],
   "source": [
    "print(scipy.optimize.least_squares(rosenbrock, np.zeros(2), jac=torch_grad(rosenbrock), max_nfev=4000))"
   ],
   "metadata": {
    "collapsed": false,
    "pycharm": {
     "name": "#%%\n"
    }
   }
  },
  {
   "cell_type": "markdown",
   "source": [
    "## 3b"
   ],
   "metadata": {
    "collapsed": false,
    "pycharm": {
     "name": "#%% md\n"
    }
   }
  },
  {
   "cell_type": "markdown",
   "source": [
    "### From lab 3"
   ],
   "metadata": {
    "collapsed": false,
    "pycharm": {
     "name": "#%% md\n"
    }
   }
  },
  {
   "cell_type": "code",
   "execution_count": 7,
   "outputs": [],
   "source": [
    "def calc_pseudoinverse(x):\n",
    "    return np.linalg.pinv(x.T.dot(x)).dot(x.T)\n",
    "\n",
    "\n",
    "def calc_pseudoinverse_powell(x):\n",
    "    return x.T.dot(x).dot(x.T) if np.linalg.det(x.T.dot(x)) == 0 else calc_pseudoinverse(x)\n",
    "\n",
    "\n",
    "def calc_residual(f, x, y, coef):\n",
    "    return f(coef, x) - y\n",
    "\n",
    "\n",
    "def calculate_jacobian(f, x, y, x0, step):\n",
    "    jacobian, y0 = [], calc_residual(f, x, y, x0)\n",
    "    for i in range(len(x0)):\n",
    "        new_x = x0.copy()\n",
    "        new_x[i] += step\n",
    "        jacobian.append((calc_residual(f, x, y, new_x) - y0) / step)\n",
    "    return np.array(jacobian).T\n",
    "\n",
    "\n",
    "def gradient_descent_3(pseudoinverse_f, f, x, y, start_point, max_iter_num, stop_difference=1e-10):\n",
    "    coef, rmse_prev = start_point, np.inf\n",
    "    differences = [sum(calc_residual(f, x, y, coef) ** 2)]\n",
    "    for i in range(max_iter_num):\n",
    "        residual, jacobian = calc_residual(f, x, y, coef), calculate_jacobian(f, x, y, coef, 1e-7)\n",
    "        coef -= pseudoinverse_f(jacobian).dot(residual)\n",
    "        differences.append(sum(calc_residual(f, x, y, coef) ** 2))\n",
    "        rmse = np.sqrt(sum(residual ** 2))\n",
    "        if np.abs(rmse_prev - rmse) < stop_difference:\n",
    "            break\n",
    "        rmse_prev = rmse\n",
    "    # print(i + 1)\n",
    "    return coef, differences\n",
    "\n",
    "\n",
    "call_gauss_newton = partial(gradient_descent_3, calc_pseudoinverse)\n",
    "call_powell = partial(gradient_descent_3, calc_pseudoinverse_powell)"
   ],
   "metadata": {
    "collapsed": false,
    "pycharm": {
     "name": "#%%\n"
    }
   }
  },
  {
   "cell_type": "code",
   "execution_count": 8,
   "outputs": [],
   "source": [
    "def call_least_squares(f, x, y, start_point):\n",
    "    return scipy.optimize.least_squares(f, start_point, args=(x, y))"
   ],
   "metadata": {
    "collapsed": false,
    "pycharm": {
     "name": "#%%\n"
    }
   }
  },
  {
   "cell_type": "code",
   "execution_count": 9,
   "outputs": [],
   "source": [
    "def f(coef, x):\n",
    "    return coef[0] + coef[1] * x[:, 0] + coef[2] * x[:, 0] ** 2 + coef[3] * x[:, 0] ** 3 + coef[4] * np.sin(x[:, 0])\n",
    "\n",
    "\n",
    "def f2(coef, x, y):\n",
    "    return coef[0] + coef[1] * x + coef[2] * x ** 2 + coef[3] * x ** 3 + coef[4] * np.sin(x) - y\n",
    "\n",
    "\n",
    "coef = [1, 0.1, 0.1, -1e-3, 10]\n",
    "x1 = np.linspace(-10, 40, 50)\n",
    "x2 = np.column_stack(np.meshgrid(x1))\n",
    "y2 = f(coef, x2) + np.random.normal(-10, 10, size=len(x2))"
   ],
   "metadata": {
    "collapsed": false,
    "pycharm": {
     "name": "#%%\n"
    }
   }
  },
  {
   "cell_type": "code",
   "execution_count": 10,
   "outputs": [
    {
     "name": "stdout",
     "output_type": "stream",
     "text": [
      "Avg time: 0.8032912999624386 ms\n",
      "Avg memory (cur, peak): 0.224580078125 KB, 8.969912109375 KB\n",
      "[-1.09356388e+01  4.65460737e-01  8.99530851e-02 -9.01745964e-04\n",
      "  9.24529691e+00] [95774.14641053969, 5683.160199924749, 5683.160199924747, 5683.160199924745]\n"
     ]
    },
    {
     "data": {
      "text/plain": "<Figure size 432x288 with 1 Axes>",
      "image/png": "[encoded data removed]"
     },
     "metadata": {
      "needs_background": "light"
     },
     "output_type": "display_data"
    }
   ],
   "source": [
    "new_coef, differences = perf(lambda: call_gauss_newton(f, x2, y2, np.zeros(5), 100))\n",
    "print(new_coef, differences)\n",
    "plt.plot(x1, y2, 'o')\n",
    "plt.plot(x2, f(new_coef, x2), color=\"g\", linewidth=5)\n",
    "plt.show()"
   ],
   "metadata": {
    "collapsed": false,
    "pycharm": {
     "name": "#%%\n"
    }
   }
  },
  {
   "cell_type": "code",
   "execution_count": 11,
   "outputs": [
    {
     "name": "stdout",
     "output_type": "stream",
     "text": [
      "Avg time: 0.8540515499771573 ms\n",
      "Avg memory (cur, peak): 0.219482421875 KB, 8.984384765625 KB\n",
      "[-1.09356388e+01  4.65460737e-01  8.99530851e-02 -9.01745964e-04\n",
      "  9.24529691e+00] [95774.14641053969, 5683.160199924749, 5683.160199924747, 5683.160199924745]\n"
     ]
    },
    {
     "data": {
      "text/plain": "<Figure size 432x288 with 1 Axes>",
      "image/png": "[encoded data removed]"
     },
     "metadata": {
      "needs_background": "light"
     },
     "output_type": "display_data"
    }
   ],
   "source": [
    "new_coef, differences = perf(lambda: call_powell(f, x2, y2, np.zeros(5), 100))\n",
    "print(new_coef, differences)\n",
    "plt.plot(x1, y2, 'o')\n",
    "plt.plot(x2, f(new_coef, x2), color=\"g\", linewidth=5)\n",
    "plt.show()"
   ],
   "metadata": {
    "collapsed": false,
    "pycharm": {
     "name": "#%%\n"
    }
   }
  },
  {
   "cell_type": "code",
   "execution_count": 12,
   "outputs": [
    {
     "name": "stdout",
     "output_type": "stream",
     "text": [
      "Avg time: 2.697163900011219 ms\n",
      "Avg memory (cur, peak): 0.228388671875 KB, 22.041865234375 KB\n",
      "[-1.09356385e+01  4.65460756e-01  8.99530825e-02 -9.01745914e-04\n",
      "  9.24529699e+00]\n"
     ]
    },
    {
     "data": {
      "text/plain": "<Figure size 432x288 with 1 Axes>",
      "image/png": "[encoded data removed]"
     },
     "metadata": {
      "needs_background": "light"
     },
     "output_type": "display_data"
    }
   ],
   "source": [
    "res_lsq = perf(lambda: call_least_squares(f2, x1, y2, np.zeros(5)))\n",
    "print(res_lsq.x)\n",
    "plt.plot(x1, y2, 'o')\n",
    "plt.plot(x1, f2(res_lsq.x, x1, 0), color=\"g\", linewidth=5)\n",
    "plt.show()"
   ],
   "metadata": {
    "collapsed": false,
    "pycharm": {
     "name": "#%%\n"
    }
   }
  },
  {
   "cell_type": "markdown",
   "source": [
    "## 3c"
   ],
   "metadata": {
    "collapsed": false,
    "pycharm": {
     "name": "#%% md\n"
    }
   }
  },
  {
   "cell_type": "code",
   "execution_count": 13,
   "outputs": [
    {
     "name": "stdout",
     "output_type": "stream",
     "text": [
      "Bounds:  (-10, 10) (-10, 10)\n",
      "[0.99999891 3.00000103]\n",
      "\n",
      "Bounds:  (-5, 5) (-5, 5)\n",
      "[1.0000015  2.99999851]\n",
      "\n",
      "Bounds:  (0, 5) (0, 5)\n",
      "[1.0000015  2.99999851]\n",
      "\n",
      "Bounds:  (3, 5) (3, 5)\n",
      "[3. 3.]\n",
      "\n",
      "Bounds:  (-10, -1) (-10, -1)\n",
      "[-1. -1.]\n",
      "\n",
      "Bounds:  (1, 5) (0, 2)\n",
      "[1.80000004 2.        ]\n",
      "\n"
     ]
    }
   ],
   "source": [
    "def booth(x):\n",
    "    return (x[0] + 2 * x[1] - 7) ** 2 + (2 * x[0] + x[1] - 5) ** 2\n",
    "\n",
    "\n",
    "def draw(*bounds):\n",
    "    print(\"Bounds: \", *bounds)\n",
    "    print(scipy.optimize.minimize(booth, np.zeros(2), bounds=[*bounds]).x)\n",
    "    print()\n",
    "\n",
    "\n",
    "draw((-10, 10), (-10, 10))\n",
    "draw((-5, 5), (-5, 5))\n",
    "draw((0, 5), (0, 5))\n",
    "draw((3, 5), (3, 5))\n",
    "draw((-10, -1), (-10, -1))\n",
    "draw((1, 5), (0, 2))"
   ],
   "metadata": {
    "collapsed": false,
    "pycharm": {
     "name": "#%%\n"
    }
   }
  }
 ],
 "metadata": {
  "kernelspec": {
   "display_name": "Python 3",
   "language": "python",
   "name": "python3"
  },
  "language_info": {
   "codemirror_mode": {
    "name": "ipython",
    "version": 2
   },
   "file_extension": ".py",
   "mimetype": "text/x-python",
   "name": "python",
   "nbconvert_exporter": "python",
   "pygments_lexer": "ipython2",
   "version": "2.7.6"
  }
 },
 "nbformat": 4,
 "nbformat_minor": 0
}