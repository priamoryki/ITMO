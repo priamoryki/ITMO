{
 "cells": [
  {
   "cell_type": "code",
   "execution_count": 1,
   "outputs": [],
   "source": [
    "from scipy.optimize import LinearConstraint, minimize, NonlinearConstraint\n",
    "import numpy as np"
   ],
   "metadata": {
    "collapsed": false,
    "pycharm": {
     "name": "#%%\n"
    }
   }
  },
  {
   "cell_type": "markdown",
   "metadata": {
    "collapsed": true,
    "pycharm": {
     "name": "#%% md\n"
    }
   },
   "source": [
    "### Linear constraints\n",
    "$f(x)= (x_1 -23)^3 + (x_2 - 5)^2 + (x_3 - 3)^4$\n",
    "\n",
    "$x_1 - x_2 - 3x_3 \\ge -1$\n",
    "\n",
    "$x_1 - 2x_2 + 4x_3 \\ge -2$\n",
    "\n",
    "$x_1 + 5x_2 - 3x_3 \\ge -3$\n",
    "\n",
    "$x_1 + 8x_2 - 9x_3 \\ge -5$\n",
    "\n",
    "$0 \\le x_i, \\, i = 1, 2, 3$"
   ]
  },
  {
   "cell_type": "markdown",
   "source": [
    "Задаем функцию, которую будем минимизировать"
   ],
   "metadata": {
    "collapsed": false,
    "pycharm": {
     "name": "#%% md\n"
    }
   }
  },
  {
   "cell_type": "code",
   "execution_count": 2,
   "outputs": [],
   "source": [
    "def f_linear(x):\n",
    "    return (x[0] - 23) ** 3 + (x[1] - 5) ** 2 + (x[2] - 3) ** 4\n",
    "\n",
    "\n",
    "variable_count = 3\n",
    "linear_equation_count = 4"
   ],
   "metadata": {
    "collapsed": false,
    "pycharm": {
     "name": "#%%\n"
    }
   }
  },
  {
   "cell_type": "markdown",
   "source": [
    "Задаем матрицу $A$ и вектор $lb$ , соответствующие системе $A \\cdot x \\ge lb$, а также $bounds$,\n",
    "соответствующий $x_i \\ge 0$"
   ],
   "metadata": {
    "collapsed": false
   }
  },
  {
   "cell_type": "code",
   "execution_count": 3,
   "outputs": [],
   "source": [
    "A = np.array([[1, 1, -3], [1, -2, 4], [1, 5, -3], [1, 8, -9]])\n",
    "lb = np.array([-1, -2, -3, -5])\n",
    "bounds = [(0, None)] * variable_count\n",
    "linear_constraint = LinearConstraint(A, lb, np.inf * np.ones(linear_equation_count))"
   ],
   "metadata": {
    "collapsed": false,
    "pycharm": {
     "name": "#%%\n"
    }
   }
  },
  {
   "cell_type": "markdown",
   "source": [
    "Запускаем минимизацию с заданным начальным приближением и ограничениями"
   ],
   "metadata": {
    "collapsed": false,
    "pycharm": {
     "name": "#%% md\n"
    }
   }
  },
  {
   "cell_type": "code",
   "execution_count": 4,
   "outputs": [
    {
     "name": "stdout",
     "output_type": "stream",
     "text": [
      "     fun: -12165.999999999389\n",
      "     jac: array([1586.99987793,    0.        ,   -4.        ])\n",
      " message: 'Optimization terminated successfully'\n",
      "    nfev: 9\n",
      "     nit: 2\n",
      "    njev: 2\n",
      "  status: 0\n",
      " success: True\n",
      "       x: array([0., 5., 2.])\n"
     ]
    }
   ],
   "source": [
    "x0_linear = np.zeros(variable_count)\n",
    "print(minimize(f_linear, x0_linear, bounds=bounds, constraints=linear_constraint))"
   ],
   "metadata": {
    "collapsed": false,
    "pycharm": {
     "name": "#%%\n"
    }
   }
  },
  {
   "cell_type": "markdown",
   "source": [
    "### Nonlinear constraints\n",
    "$f(x) = 1000 - x_1^2 - 2 x_2^2 - x_3^2 - x_1 x_2 - x_1 x_3$\n",
    "\n",
    "$8 x_1 + 14 x_2 + 7 x_3 - 56 = 0$\n",
    "\n",
    "$x_1^2 + x_2^2 + x_3^2 - 25 = 0$\n",
    "\n",
    "$0 \\le x_i, \\, i = 1, 2, 3$"
   ],
   "metadata": {
    "collapsed": false,
    "pycharm": {
     "name": "#%% md\n"
    }
   }
  },
  {
   "cell_type": "markdown",
   "source": [
    "Задаем функцию, которую будем минимизировать"
   ],
   "metadata": {
    "collapsed": false
   }
  },
  {
   "cell_type": "code",
   "execution_count": 5,
   "outputs": [],
   "source": [
    "def f_nonlinear(x):\n",
    "    return 1000 - x[0] ** 2 - 2 * x[1] ** 2 - x[2] ** 2 - x[0] * x[1] - x[0] * x[2]"
   ],
   "metadata": {
    "collapsed": false,
    "pycharm": {
     "name": "#%%\n"
    }
   }
  },
  {
   "cell_type": "markdown",
   "source": [
    "Задаем функции, соответсвующие ограничениям $lb \\le f_i(x) \\le ub$, где $lb = ub = 0$"
   ],
   "metadata": {
    "collapsed": false,
    "pycharm": {
     "name": "#%% md\n"
    }
   }
  },
  {
   "cell_type": "code",
   "execution_count": 6,
   "outputs": [],
   "source": [
    "def f_constraint_1(x):\n",
    "    return 8 * x[0] + 14 * x[1] + 7 * x[2] - 56\n",
    "\n",
    "\n",
    "def f_constraint_2(x):\n",
    "    return x[0] ** 2 + x[1] ** 2 + x[2] ** 2 - 25\n",
    "\n",
    "\n",
    "nonlinear_constraint1 = NonlinearConstraint(f_constraint_1, 0, 0)\n",
    "nonlinear_constraint2 = NonlinearConstraint(f_constraint_2, 0, 0)"
   ],
   "metadata": {
    "collapsed": false,
    "pycharm": {
     "name": "#%%\n"
    }
   }
  },
  {
   "cell_type": "markdown",
   "source": [
    "Запускаем минимизацию с заданным начальным приближением и ограничениями\n",
    "\n",
    "Цель: $x=(3.51212, 0.21699, 3.55217)$"
   ],
   "metadata": {
    "collapsed": false
   }
  },
  {
   "cell_type": "code",
   "execution_count": 7,
   "outputs": [
    {
     "name": "stdout",
     "output_type": "stream",
     "text": [
      "     fun: 961.715172118472\n",
      "     jac: array([-10.79341125,  -4.38008118, -10.61646271])\n",
      " message: 'Optimization terminated successfully'\n",
      "    nfev: 40\n",
      "     nit: 9\n",
      "    njev: 9\n",
      "  status: 0\n",
      " success: True\n",
      "       x: array([3.51211817, 0.21698819, 3.55217427])\n"
     ]
    }
   ],
   "source": [
    "x0_nonlinear = np.array([2] * variable_count)\n",
    "print(minimize(f_nonlinear, x0_nonlinear, bounds=bounds, constraints=(nonlinear_constraint1, nonlinear_constraint2)))"
   ],
   "metadata": {
    "collapsed": false,
    "pycharm": {
     "name": "#%%\n"
    }
   }
  }
 ],
 "metadata": {
  "kernelspec": {
   "display_name": "Python 3",
   "language": "python",
   "name": "python3"
  },
  "language_info": {
   "codemirror_mode": {
    "name": "ipython",
    "version": 2
   },
   "file_extension": ".py",
   "mimetype": "text/x-python",
   "name": "python",
   "nbconvert_exporter": "python",
   "pygments_lexer": "ipython2",
   "version": "2.7.6"
  }
 },
 "nbformat": 4,
 "nbformat_minor": 0
}