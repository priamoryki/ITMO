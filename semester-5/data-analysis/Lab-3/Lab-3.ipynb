{
 "cells": [
  {
   "cell_type": "markdown",
   "source": [
    "### Читаем данные"
   ],
   "metadata": {
    "collapsed": false
   }
  },
  {
   "cell_type": "code",
   "execution_count": 48,
   "metadata": {
    "collapsed": true
   },
   "outputs": [
    {
     "name": "stdout",
     "output_type": "stream",
     "text": [
      "<class 'pandas.core.frame.DataFrame'>\n",
      "RangeIndex: 73995 entries, 0 to 73994\n",
      "Data columns (total 72 columns):\n",
      " #   Column                          Non-Null Count  Dtype  \n",
      "---  ------                          --------------  -----  \n",
      " 0   user_id                         73995 non-null  uint64 \n",
      " 1   org_id                          73995 non-null  uint64 \n",
      " 2   rating                          73995 non-null  float64\n",
      " 3   ts                              73995 non-null  int64  \n",
      " 4   user_city                       73995 non-null  object \n",
      " 5   org_city                        73995 non-null  object \n",
      " 6   average_bill                    45433 non-null  float64\n",
      " 7   rating_org                      73995 non-null  float64\n",
      " 8   rubrics                         73995 non-null  object \n",
      " 9   food_delivery                   73995 non-null  int64  \n",
      " 10  breakfast                       73995 non-null  int64  \n",
      " 11  takeaway                        73995 non-null  int64  \n",
      " 12  summer_terrace                  73995 non-null  int64  \n",
      " 13  wi_fi                           73995 non-null  int64  \n",
      " 14  business_lunch                  73995 non-null  int64  \n",
      " 15  payment_by_credit_card          73995 non-null  int64  \n",
      " 16  coffee_to_go                    73995 non-null  int64  \n",
      " 17  closed_for_quarantine           73995 non-null  int64  \n",
      " 18  online_takeaway                 73995 non-null  int64  \n",
      " 19  karaoke                         73995 non-null  int64  \n",
      " 20  special_menu                    73995 non-null  int64  \n",
      " 21  sports_broadcasts               73995 non-null  int64  \n",
      " 22  food_court1                     73995 non-null  int64  \n",
      " 23  craft_beer                      73995 non-null  int64  \n",
      " 24  projector                       73995 non-null  int64  \n",
      " 25  gift_certificate                73995 non-null  int64  \n",
      " 26  wheelchair_access               73995 non-null  int64  \n",
      " 27  automatic_door                  73995 non-null  int64  \n",
      " 28  food_product_delivery           73995 non-null  int64  \n",
      " 29  car_park                        73995 non-null  int64  \n",
      " 30  parking_disabled                73995 non-null  int64  \n",
      " 31  toilet_for_disabled             73995 non-null  int64  \n",
      " 32  promotions                      73995 non-null  int64  \n",
      " 33  cafe                            73995 non-null  int64  \n",
      " 34  minimum_order                   73995 non-null  int64  \n",
      " 35  free_delivery                   73995 non-null  int64  \n",
      " 36  self_service_kiosks             73995 non-null  int64  \n",
      " 37  has_restaurant                  73995 non-null  int64  \n",
      " 38  air_conditioning                73995 non-null  int64  \n",
      " 39  pets                            73995 non-null  int64  \n",
      " 40  elevator                        73995 non-null  int64  \n",
      " 41  has_bar                         73995 non-null  int64  \n",
      " 42  internet access                 73995 non-null  int64  \n",
      " 43  privilege_tickets               73995 non-null  int64  \n",
      " 44  organic_food                    73995 non-null  int64  \n",
      " 45  vip_zone                        73995 non-null  int64  \n",
      " 46  hall_capacity                   73995 non-null  int64  \n",
      " 47  face_control                    73995 non-null  int64  \n",
      " 48  show_program                    73995 non-null  int64  \n",
      " 49  music                           73995 non-null  int64  \n",
      " 50  chillout                        73995 non-null  int64  \n",
      " 51  dancefloor                      73995 non-null  int64  \n",
      " 52  dress_code                      73995 non-null  int64  \n",
      " 53  billiards                       73995 non-null  int64  \n",
      " 54  strip                           73995 non-null  int64  \n",
      " 55  elevator_wheelchair_accessible  73995 non-null  int64  \n",
      " 56  ramp                            73995 non-null  int64  \n",
      " 57  around_the_clock_work1          73995 non-null  int64  \n",
      " 58  pickup                          73995 non-null  int64  \n",
      " 59  farm_products                   73995 non-null  int64  \n",
      " 60  delivery                        73995 non-null  int64  \n",
      " 61  coffee_shop                     73995 non-null  int64  \n",
      " 62  call_button                     73995 non-null  int64  \n",
      " 63  wheelchair_accessible           73995 non-null  int64  \n",
      " 64  table_games                     73995 non-null  int64  \n",
      " 65  vinotheque                      73995 non-null  int64  \n",
      " 66  cakes_for_different_occasions   73995 non-null  int64  \n",
      " 67  accepted_credit_cards           73995 non-null  int64  \n",
      " 68  kalyan                          73995 non-null  int64  \n",
      " 69  teahouse                        73995 non-null  int64  \n",
      " 70  bread_from_tandoor              73995 non-null  int64  \n",
      " 71  handmade_goods                  73995 non-null  int64  \n",
      "dtypes: float64(3), int64(64), object(3), uint64(2)\n",
      "memory usage: 40.6+ MB\n"
     ]
    }
   ],
   "source": [
    "import pandas as pd\n",
    "from sklearn.neighbors import KNeighborsRegressor\n",
    "from sklearn.metrics import mean_absolute_percentage_error\n",
    "\n",
    "data = pd.read_csv(\"data/train.csv\")\n",
    "data.info()"
   ]
  },
  {
   "cell_type": "code",
   "execution_count": 49,
   "outputs": [
    {
     "name": "stderr",
     "output_type": "stream",
     "text": [
      "C:\\Users\\Xiaomi\\AppData\\Local\\Temp\\ipykernel_22964\\3064461656.py:1: FutureWarning: The default value of numeric_only in DataFrame.corrwith is deprecated. In a future version, it will default to False. Select only valid columns or specify the value of numeric_only to silence this warning.\n",
      "  data.corrwith(data.rating_org)\n"
     ]
    },
    {
     "data": {
      "text/plain": "user_id                  0.004119\norg_id                  -0.021809\nrating                   0.269386\nts                       0.040647\naverage_bill             0.068525\n                           ...   \naccepted_credit_cards   -0.015476\nkalyan                   0.019148\nteahouse                 0.022627\nbread_from_tandoor       0.014323\nhandmade_goods           0.028334\nLength: 69, dtype: float64"
     },
     "execution_count": 49,
     "metadata": {},
     "output_type": "execute_result"
    }
   ],
   "source": [
    "data.corrwith(data.rating_org)"
   ],
   "metadata": {
    "collapsed": false
   }
  },
  {
   "cell_type": "markdown",
   "source": [
    "### Функция преобразований для улучшения результата"
   ],
   "metadata": {
    "collapsed": false
   }
  },
  {
   "cell_type": "code",
   "execution_count": 50,
   "metadata": {
    "collapsed": false
   },
   "outputs": [],
   "source": [
    "columns_to_drop = [\n",
    "    \"user_id\",\n",
    "    \"org_id\",\n",
    "    \"ts\",\n",
    "    \"breakfast\",\n",
    "    \"business_lunch\",\n",
    "    \"closed_for_quarantine\",\n",
    "    \"special_menu\",\n",
    "    \"sports_broadcasts\",\n",
    "    \"projector\",\n",
    "    \"vinotheque\",\n",
    "    \"handmade_goods\",\n",
    "    \"parking_disabled\", \"toilet_for_disabled\", \"wheelchair_accessible\", \"automatic_door\",\n",
    "]\n",
    "\n",
    "\n",
    "def manipulate(data):\n",
    "    data = data.assign(\n",
    "        disabled=(\n",
    "                (\n",
    "                        data.parking_disabled + data.toilet_for_disabled + data.wheelchair_accessible + data.automatic_door\n",
    "                ) / 2\n",
    "        ).astype(bool),\n",
    "    )\n",
    "    data.average_bill = pd.cut(\n",
    "        data.average_bill.fillna(0),\n",
    "        bins=[0, 250, 500, 1500],\n",
    "        labels=[\"bill_0\", \"bill_1\", \"bill_2\"],\n",
    "        ordered=False\n",
    "    )\n",
    "    # Нормализация rating\n",
    "    minimum, maximum = data.rating.min(), data.rating.max()\n",
    "    data.rating = data.rating.apply(lambda x: (x - minimum) / (maximum - minimum))\n",
    "    data = pd.get_dummies(data, columns=[\"user_city\", \"org_city\", \"rubrics\", \"average_bill\"])\n",
    "    data = data.drop(columns=columns_to_drop)\n",
    "    return data"
   ]
  },
  {
   "cell_type": "code",
   "execution_count": 51,
   "outputs": [
    {
     "data": {
      "text/plain": "rating                 0.269386\nrating_org             1.000000\nfood_delivery         -0.105047\ntakeaway               0.058840\nsummer_terrace        -0.022908\n                         ...   \nrubrics_Столовая      -0.078229\nrubrics_Суши-бар      -0.084240\naverage_bill_bill_0         NaN\naverage_bill_bill_1   -0.166023\naverage_bill_bill_2    0.049127\nLength: 75, dtype: float64"
     },
     "execution_count": 51,
     "metadata": {},
     "output_type": "execute_result"
    }
   ],
   "source": [
    "data = manipulate(data)\n",
    "data.corrwith(data.rating_org)"
   ],
   "metadata": {
    "collapsed": false
   }
  },
  {
   "cell_type": "markdown",
   "source": [
    "### Находим оптимальное `n_neighbors`"
   ],
   "metadata": {
    "collapsed": false
   }
  },
  {
   "cell_type": "code",
   "execution_count": 52,
   "outputs": [],
   "source": [
    "def predict_for_n_neighbors(train_X, train_Y, test_X, test_Y, n_neighbors):\n",
    "    model = KNeighborsRegressor(n_neighbors=n_neighbors).fit(train_X, train_Y)\n",
    "    predicted = model.predict(test_X)\n",
    "    mape = mean_absolute_percentage_error(test_Y, predicted)\n",
    "    return model, mape"
   ],
   "metadata": {
    "collapsed": false
   }
  },
  {
   "cell_type": "code",
   "execution_count": 53,
   "metadata": {
    "collapsed": false
   },
   "outputs": [
    {
     "name": "stdout",
     "output_type": "stream",
     "text": [
      "CURRENT: KNeighborsRegressor(n_neighbors=1) 0.03690617706144547\n",
      "BEST: KNeighborsRegressor(n_neighbors=1) 0.03690617706144547\n",
      "CURRENT: KNeighborsRegressor(n_neighbors=2) 0.03550802695628921\n",
      "BEST: KNeighborsRegressor(n_neighbors=2) 0.03550802695628921\n",
      "CURRENT: KNeighborsRegressor(n_neighbors=3) 0.035289701135277886\n",
      "BEST: KNeighborsRegressor(n_neighbors=3) 0.035289701135277886\n",
      "CURRENT: KNeighborsRegressor(n_neighbors=4) 0.0350714902132443\n",
      "BEST: KNeighborsRegressor(n_neighbors=4) 0.0350714902132443\n",
      "CURRENT: KNeighborsRegressor() 0.03503407657142852\n",
      "BEST: KNeighborsRegressor() 0.03503407657142852\n",
      "CURRENT: KNeighborsRegressor(n_neighbors=6) 0.03499214358147343\n",
      "BEST: KNeighborsRegressor(n_neighbors=6) 0.03499214358147343\n",
      "CURRENT: KNeighborsRegressor(n_neighbors=7) 0.03507423897444114\n",
      "BEST: KNeighborsRegressor(n_neighbors=6) 0.03499214358147343\n",
      "CURRENT: KNeighborsRegressor(n_neighbors=8) 0.035390836728822136\n",
      "BEST: KNeighborsRegressor(n_neighbors=6) 0.03499214358147343\n",
      "CURRENT: KNeighborsRegressor(n_neighbors=9) 0.035590913536889306\n",
      "BEST: KNeighborsRegressor(n_neighbors=6) 0.03499214358147343\n",
      "CURRENT: KNeighborsRegressor(n_neighbors=10) 0.035618285717108\n",
      "BEST: KNeighborsRegressor(n_neighbors=6) 0.03499214358147343\n",
      "CURRENT: KNeighborsRegressor(n_neighbors=12) 0.035976075127337886\n",
      "BEST: KNeighborsRegressor(n_neighbors=6) 0.03499214358147343\n",
      "CURRENT: KNeighborsRegressor(n_neighbors=14) 0.036316975631572476\n",
      "BEST: KNeighborsRegressor(n_neighbors=6) 0.03499214358147343\n",
      "CURRENT: KNeighborsRegressor(n_neighbors=16) 0.0365913062392367\n",
      "BEST: KNeighborsRegressor(n_neighbors=6) 0.03499214358147343\n",
      "CURRENT: KNeighborsRegressor(n_neighbors=18) 0.036900068156063955\n",
      "BEST: KNeighborsRegressor(n_neighbors=6) 0.03499214358147343\n",
      "CURRENT: KNeighborsRegressor(n_neighbors=20) 0.03723454501088644\n",
      "BEST: KNeighborsRegressor(n_neighbors=6) 0.03499214358147343\n",
      "CURRENT: KNeighborsRegressor(n_neighbors=23) 0.03747156177812851\n",
      "BEST: KNeighborsRegressor(n_neighbors=6) 0.03499214358147343\n",
      "CURRENT: KNeighborsRegressor(n_neighbors=26) 0.03775299869372551\n",
      "BEST: KNeighborsRegressor(n_neighbors=6) 0.03499214358147343\n",
      "CURRENT: KNeighborsRegressor(n_neighbors=29) 0.038063369896719615\n",
      "BEST: KNeighborsRegressor(n_neighbors=6) 0.03499214358147343\n",
      "CURRENT: KNeighborsRegressor(n_neighbors=32) 0.03832877628875975\n",
      "BEST: KNeighborsRegressor(n_neighbors=6) 0.03499214358147343\n",
      "CURRENT: KNeighborsRegressor(n_neighbors=36) 0.03865106199927911\n",
      "BEST: KNeighborsRegressor(n_neighbors=6) 0.03499214358147343\n",
      "CURRENT: KNeighborsRegressor(n_neighbors=40) 0.03890297805136582\n",
      "BEST: KNeighborsRegressor(n_neighbors=6) 0.03499214358147343\n",
      "CURRENT: KNeighborsRegressor(n_neighbors=45) 0.03922416536444327\n",
      "BEST: KNeighborsRegressor(n_neighbors=6) 0.03499214358147343\n",
      "CURRENT: KNeighborsRegressor(n_neighbors=50) 0.039451715580906134\n",
      "BEST: KNeighborsRegressor(n_neighbors=6) 0.03499214358147343\n",
      "CURRENT: KNeighborsRegressor(n_neighbors=56) 0.03972778149427775\n",
      "BEST: KNeighborsRegressor(n_neighbors=6) 0.03499214358147343\n",
      "CURRENT: KNeighborsRegressor(n_neighbors=62) 0.03995029754408397\n",
      "BEST: KNeighborsRegressor(n_neighbors=6) 0.03499214358147343\n",
      "CURRENT: KNeighborsRegressor(n_neighbors=69) 0.04024578695123008\n",
      "BEST: KNeighborsRegressor(n_neighbors=6) 0.03499214358147343\n",
      "CURRENT: KNeighborsRegressor(n_neighbors=76) 0.04045642724335716\n",
      "BEST: KNeighborsRegressor(n_neighbors=6) 0.03499214358147343\n",
      "CURRENT: KNeighborsRegressor(n_neighbors=84) 0.040689666666709624\n",
      "BEST: KNeighborsRegressor(n_neighbors=6) 0.03499214358147343\n",
      "CURRENT: KNeighborsRegressor(n_neighbors=93) 0.04090408418219937\n",
      "BEST: KNeighborsRegressor(n_neighbors=6) 0.03499214358147343\n",
      "CURRENT: KNeighborsRegressor(n_neighbors=103) 0.04117181653436717\n",
      "BEST: KNeighborsRegressor(n_neighbors=6) 0.03499214358147343\n",
      "CURRENT: KNeighborsRegressor(n_neighbors=114) 0.04135320976247921\n",
      "BEST: KNeighborsRegressor(n_neighbors=6) 0.03499214358147343\n",
      "CURRENT: KNeighborsRegressor(n_neighbors=126) 0.04160836779956041\n",
      "BEST: KNeighborsRegressor(n_neighbors=6) 0.03499214358147343\n",
      "CURRENT: KNeighborsRegressor(n_neighbors=139) 0.041787613285413236\n",
      "BEST: KNeighborsRegressor(n_neighbors=6) 0.03499214358147343\n",
      "CURRENT: KNeighborsRegressor(n_neighbors=153) 0.041985624393333615\n",
      "BEST: KNeighborsRegressor(n_neighbors=6) 0.03499214358147343\n",
      "CURRENT: KNeighborsRegressor(n_neighbors=169) 0.04224220596924133\n",
      "BEST: KNeighborsRegressor(n_neighbors=6) 0.03499214358147343\n",
      "CURRENT: KNeighborsRegressor(n_neighbors=186) 0.04239098322055466\n",
      "BEST: KNeighborsRegressor(n_neighbors=6) 0.03499214358147343\n",
      "CURRENT: KNeighborsRegressor(n_neighbors=205) 0.042538515191477194\n",
      "BEST: KNeighborsRegressor(n_neighbors=6) 0.03499214358147343\n",
      "CURRENT: KNeighborsRegressor(n_neighbors=226) 0.042746101635961306\n",
      "BEST: KNeighborsRegressor(n_neighbors=6) 0.03499214358147343\n",
      "CURRENT: KNeighborsRegressor(n_neighbors=249) 0.04295087830398098\n",
      "BEST: KNeighborsRegressor(n_neighbors=6) 0.03499214358147343\n",
      "CURRENT: KNeighborsRegressor(n_neighbors=274) 0.04312619095430058\n",
      "BEST: KNeighborsRegressor(n_neighbors=6) 0.03499214358147343\n",
      "CURRENT: KNeighborsRegressor(n_neighbors=302) 0.043324486067812855\n",
      "BEST: KNeighborsRegressor(n_neighbors=6) 0.03499214358147343\n",
      "CURRENT: KNeighborsRegressor(n_neighbors=333) 0.04351745145226067\n",
      "BEST: KNeighborsRegressor(n_neighbors=6) 0.03499214358147343\n",
      "CURRENT: KNeighborsRegressor(n_neighbors=367) 0.04371545566891226\n",
      "BEST: KNeighborsRegressor(n_neighbors=6) 0.03499214358147343\n",
      "CURRENT: KNeighborsRegressor(n_neighbors=404) 0.043928145877261376\n",
      "BEST: KNeighborsRegressor(n_neighbors=6) 0.03499214358147343\n",
      "CURRENT: KNeighborsRegressor(n_neighbors=445) 0.04408938387815691\n",
      "BEST: KNeighborsRegressor(n_neighbors=6) 0.03499214358147343\n",
      "CURRENT: KNeighborsRegressor(n_neighbors=490) 0.0442429102231096\n",
      "BEST: KNeighborsRegressor(n_neighbors=6) 0.03499214358147343\n",
      "CURRENT: KNeighborsRegressor(n_neighbors=540) 0.044402674342737994\n",
      "BEST: KNeighborsRegressor(n_neighbors=6) 0.03499214358147343\n",
      "CURRENT: KNeighborsRegressor(n_neighbors=595) 0.044554029688279595\n",
      "BEST: KNeighborsRegressor(n_neighbors=6) 0.03499214358147343\n",
      "CURRENT: KNeighborsRegressor(n_neighbors=655) 0.044688090104174454\n",
      "BEST: KNeighborsRegressor(n_neighbors=6) 0.03499214358147343\n",
      "CURRENT: KNeighborsRegressor(n_neighbors=721) 0.04487939440817626\n",
      "BEST: KNeighborsRegressor(n_neighbors=6) 0.03499214358147343\n",
      "CURRENT: KNeighborsRegressor(n_neighbors=794) 0.04506394734197292\n",
      "BEST: KNeighborsRegressor(n_neighbors=6) 0.03499214358147343\n",
      "CURRENT: KNeighborsRegressor(n_neighbors=874) 0.04526093945844681\n",
      "BEST: KNeighborsRegressor(n_neighbors=6) 0.03499214358147343\n",
      "CURRENT: KNeighborsRegressor(n_neighbors=962) 0.04547477225978169\n",
      "BEST: KNeighborsRegressor(n_neighbors=6) 0.03499214358147343\n"
     ]
    }
   ],
   "source": [
    "train_size = int(0.8 * len(data))\n",
    "train_X, train_Y = data.drop(columns=[\"rating_org\"])[:train_size], data.rating_org[:train_size]\n",
    "test_X, test_Y = data.drop(columns=[\"rating_org\"])[train_size:], data.rating_org[train_size:]\n",
    "\n",
    "best_model, best_mape = None, None\n",
    "n_neighbors = 1\n",
    "while n_neighbors <= 1000:\n",
    "    model, mape = predict_for_n_neighbors(train_X, train_Y, test_X, test_Y, n_neighbors)\n",
    "    if best_mape is None or mape < best_mape:\n",
    "        best_model, best_mape = model, mape\n",
    "    print(\"CURRENT:\", model, mape)\n",
    "    print(\"BEST:\", best_model, best_mape)\n",
    "    n_neighbors += n_neighbors // 10 + 1"
   ]
  },
  {
   "cell_type": "markdown",
   "source": [
    "### Смотрим счет модели с оптимальным числом `n_neighbors`"
   ],
   "metadata": {
    "collapsed": false
   }
  },
  {
   "cell_type": "code",
   "execution_count": 54,
   "metadata": {
    "collapsed": false
   },
   "outputs": [
    {
     "data": {
      "text/plain": "0.5125856486600303"
     },
     "execution_count": 54,
     "metadata": {},
     "output_type": "execute_result"
    }
   ],
   "source": [
    "X = data.drop(columns=[\"rating_org\"])\n",
    "Y = data.rating_org\n",
    "\n",
    "model = best_model.fit(X, Y)\n",
    "model.score(X, Y)"
   ]
  },
  {
   "cell_type": "markdown",
   "source": [
    "### Запускаем на тестовых данных"
   ],
   "metadata": {
    "collapsed": false
   }
  },
  {
   "cell_type": "code",
   "execution_count": 55,
   "metadata": {
    "collapsed": false
   },
   "outputs": [],
   "source": [
    "test_data = pd.read_csv(\"data/test_x.csv\")\n",
    "test_data = manipulate(test_data)\n",
    "result = model.predict(test_data)"
   ]
  },
  {
   "cell_type": "markdown",
   "source": [
    "### Записываем результаты в `result.csv`"
   ],
   "metadata": {
    "collapsed": false
   }
  },
  {
   "cell_type": "code",
   "execution_count": 56,
   "metadata": {
    "collapsed": false
   },
   "outputs": [],
   "source": [
    "sample = pd.read_csv(\"data/sample_submission.csv\")\n",
    "sample[\"rating_org\"] = result[:len(sample)]\n",
    "sample.to_csv(\"result.csv\", index=False)"
   ]
  }
 ],
 "metadata": {
  "kernelspec": {
   "display_name": "Python 3.10.5 64-bit",
   "language": "python",
   "name": "python3"
  },
  "language_info": {
   "codemirror_mode": {
    "name": "ipython",
    "version": 2
   },
   "file_extension": ".py",
   "mimetype": "text/x-python",
   "name": "python",
   "nbconvert_exporter": "python",
   "pygments_lexer": "ipython2",
   "version": "3.10.5"
  },
  "vscode": {
   "interpreter": {
    "hash": "265b5c8cc3d022a996671a154ba5d359be3e21af38d99b4bc86982c2ae603dd0"
   }
  }
 },
 "nbformat": 4,
 "nbformat_minor": 0
}
