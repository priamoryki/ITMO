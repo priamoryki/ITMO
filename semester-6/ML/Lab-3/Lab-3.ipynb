{
 "cells": [
  {
   "cell_type": "code",
   "execution_count": 2,
   "outputs": [],
   "source": [
    "import re\n",
    "\n",
    "import keras\n",
    "import numpy as np\n",
    "import pandas as pd\n",
    "from keras.callbacks import ModelCheckpoint\n",
    "from keras.layers import Dense, LSTM"
   ],
   "metadata": {
    "collapsed": false
   }
  },
  {
   "cell_type": "markdown",
   "source": [
    "### Обработка данных"
   ],
   "metadata": {
    "collapsed": false
   }
  },
  {
   "cell_type": "code",
   "execution_count": 5,
   "outputs": [],
   "source": [
    "data = pd.read_csv(\"data/animes.csv\")\n",
    "text = \"\"\n",
    "for i in data[\"synopsis\"][:250]:\n",
    "    i = str(i).lower().split(\"\\n\")[0]\n",
    "    text += i\n",
    "text += data[\"synopsis\"][658].lower().split(\"\\n\")[0]"
   ],
   "metadata": {
    "collapsed": false
   }
  },
  {
   "cell_type": "code",
   "execution_count": 6,
   "outputs": [
    {
     "name": "stdout",
     "output_type": "stream",
     "text": [
      "following their participation at the inter high the karasuno high school volleyball team attempts to refocus their efforts aiming to conquer the spring tournament instead. music accompanies the path of the human metronome the prodigious pianist kousei arima. but after the passing of his mother saki arima kousei falls into a downward spiral rendering him unable to hear the sound of his own piano. the abyss a gaping chasm stretching down into the depths of the earth filled with mysterious creatures and relics from a time long past. how did it come to be. what lies at the bottom. countless brave individuals known as divers have sought to solve these mysteries of the abyss fearlessly descending into its darkest realms. the best and bravest of the divers the white whistles are hailed as legends by those who remain on the surface. in order for something to be obtained something of equal value must be lost. after helping revive the legendary vampire kiss shot acerola orion heart under blade koyomi araragi has become a vampire himself and her servant. kiss shot is certain she can turn him back into a human but only once regaining her full power. shigeo mob kageyama is now maturing and understanding his role as a supernatural psychic that has the power to drastically affect the livelihood of others. he and his mentor reigen arataka continue to deal with supernatural requests from clients whether it be exorcizing evil spirits or tackling urban legends that haunt the citizens. stubborn spoiled and na ve 10 year old chihiro ogino is less than pleased when she and her parents discover an abandoned amusement park on the way to their new house. cautiously venturing inside she realizes that there is more to this place than meets the eye as strange things begin to happen once dusk falls. ghostly apparitions and food that turns her parents into pigs are just the start chihiro has unwittingly crossed over into the spirit world. now trapped she must summon the courage to live and work amongst spirits with the help of the enigmatic haku and the cast of unique characters she meets along the way. ever since the death of his father the burden of supporting the family has fallen upon tanjirou kamado's shoulders. though living impoverished on a remote mountain the kamado family are able to enjoy a relatively peaceful and happy life. one day tanjirou decides to go down to the local village to make a little money selling charcoal. on his way back night falls forcing tanjirou to take shelter in the house of a strange man who warns him of the existence of flesh eating demons that lurk in the woods at night. following an encounter with oddity specialist izuko gaen third year high school student koyomi araragi wakes up in a strange deserted void only to be greeted by a joyfully familiar face in an alarmingly unfamiliar place. one year has passed since the black rebellion a failed uprising against the holy britannian empire led by the masked vigilante zero who is now missing. at a loss without their revolutionary leader area 11's resistance group the black knights find themselves too powerless to combat the brutality inflicted upon the elevens by britannia which has increased significantly in order to crush any hope of a future revolt. after the victory against aoba jousai high karasuno high school once called a fallen powerhouse a crow that can’t fly has finally reached the climax of the heated spring tournament. now to advance to nationals the karasuno team has to defeat the powerhouse shiratorizawa academy. karasuno’s greatest hurdle is their adversary’s ace wakatoshi ushijima the number one player in the miyagi prefecture and one of the country’s top three aces. after joining the resistance against the bakufu gintoki and the gang are in hiding along with katsura and his joui rebels. the yorozuya is soon approached by nobume imai and two members of the kiheitai who explain that the harusame pirates have turned against 7th division captain kamui and their former ally takasugi. the kiheitai present gintoki with a job find takasugi who has been missing since his ship was ambushed in a harusame raid. nobume also makes a stunning revelation regarding the tendoushuu a secret organization pulling the strings of numerous factions and their leader utsuro the shadowy figure with an uncanny resemblance to gintoki's former teacher. when gintoki apprehends a movie pirate at a premiere he checks the camera's footage and finds himself transported to a bleak post apocalyptic version of edo where a mysterious epidemic called the white plague has ravished the world's population. it turns out that the movie pirate wasn't a pirate after all it was an android time machine and gintoki has been hurtled five years into the future. shinpachi and kagura his yorozuya cohorts have had a falling out and are now battle hardened solo vigilantes and he himself has been missing for years disappearing without a trace after scribbling a strange message in his journal. the amanto aliens from outer space have invaded earth and taken over feudal japan. as a result a prohibition on swords has been established and the samurai of japan are treated with disregard as a consequence. clannad after story the sequel to the critically acclaimed slice of life series clannad begins after tomoya okazaki and nagisa furukawa graduate from high school. together they experience the emotional rollercoaster of growing up. unable to decide on a course for his future tomoya learns the value of a strong work ethic and discovers the strength of nagisa's support. through the couple's dedication and unity of purpose they push forward to confront their personal problems deepen their old relationships and create new bonds. while gintoki sakata was away the yorozuya found themselves a new leader kintoki gintoki's golden haired doppelganger. in order to regain his former position gintoki will need the help of those around him a troubling feat when no one can remember him. between kintoki and gintoki who will claim the throne as the main character. the seemingly ordinary and unimpressive saitama has a rather unique hobby being a hero. in order to pursue his childhood dream he trained relentlessly for three years and lost all of his hair in the process. now saitama is incredibly powerful so much so that no enemy is able to defeat him in battle. in fact all it takes to defeat evildoers with just one punch has led to an unexpected problem he is no longer able to enjoy the thrill of battling and has become quite bored. deep in the countryside a man named okina works as a bamboo cutter in a forest chopping away at the hollow plants day after day. one day he discovers a small baby inside a glowing shoot. he immediately takes her home convinced that she is a princess sent to earth as a divine blessing from heaven. okina and his wife ouna take it upon themselves to raise the infant as their own watching over her as she quickly grows into an energetic young girl. given the name kaguya she fits right in with the village she has come to call home going on adventures with the other children and enjoying what youth has to offer. mamoru oshii's first ghost in the shell cyberspace film will return to five japanese theaters in an enhanced ghost in the shell 2.0 edition on july 12. the new edition will include new computer graphics and digital effects for some scenes and a reunion of most of the cast members for a new 6.1 surround sound recording. academy award winning sound mixer editor randy thom ghost in the shell 2 innocence the incredibles the right stuff has overseen the new soundtrack with kenji kawai's original music and a final mix that has been produced at thom and lucas digital's skywalker sound studio in california. violinist kiyora miki meets with shinichi chiaki megumi nodame noda and their two friends to visit world class conductor franz von stresemann. upon arriving at his residence in vienna they discover that the maestro has escaped to japan. as they make the most of their wasted trip by visiting important landmarks in the historical capital of classical music kiyora has a confession to make she has not seen her boyfriend ryuutarou mine for an entire year and is still busy preparing for an international competition in paris. chiaki and nodame promise to attend the final round but when the two are back in paris they receive an unexpected guest. masterless samurai akitsu masanosuke is a skilled and loyal swordsman but his na ve diffident nature has time and again caused him to be let go by the lords who have employed him. hungry and desperate he becomes a bodyguard for yaichi the charismatic leader of a gang called five leaves. although disturbed by the gang's sinister activities masa begins to suspect that yaichi's motivations are not what they seem. and despite his misgivings the deeper he's drawn into the world of the five leaves the more he finds himself fascinated by these devious mysterious outlaws. seiya and the rest of the bronze and gold saints who have survived the sanctuary battle have entered the world of the dead. they are fighting to get to hades and defeat him. bundled with the limited editions of the 10th and 11th volumes of the manga. lupin iii chronicles the adventures of arsene lupin iii the world's greatest thief and his partners in crime master marksman daisuke jigen beautiful and scheming fujiko mine and stoic samurai goemon ishikawa xiii. lupin and his gang travel around the globe in search of the world's greatest treasures and riches and always keeping one step ahead of the tireless inspector zenigata who has vowed to bring lupin to justice. unaired episode included with the 7th volume of the bd dvd release of kobayashi san chi no maid dragon.animated bloopers based on the extra section of the original manga series included with the bd dvd series for kuroko no basket second season both limited and normal editions.it is almost the end of the year and houkago tea time has been invited to participate in a live house on new year's eve. the iconic band members are yui hirasawa the carefree guitarist who is enthusiastic to play music. mio akiyama the shy bassist who gets embarrassed easily. tsumugi kotobuki the gentle and sweet keyboardist who finds joy in normal activities. ritsu tainaka the extroverted drummer who likes to tease mio. and azusa nakano the rhythm guitarist who is one year younger than the rest but slightly more mature. hirasawa yui a young carefree girl entering high school has her imagination instantly captured when she sees a poster advertising the light music club. being the carefree girl that she is she quickly signs up. however yui has a problem she is unable to play an instrument. izayoi and inu no taishou inuyasha's parents are having problems with a human named setsuna no takemaru. sou'unga a magical sword that has been sealed away for 700 years is found. now everyone is after the sword and its powers but it seems the sword has something else in mind. nansecond haikyuu. recap movie.nanthe free planets alliance's invasion of the galactic empire has failed after supply mismanagement led to heavy losses. unwilling to abort the expedition despite being greatly outnumbered fleet admiral lazar lobos orders the remaining alliance fleets to gather in the amritsar starzone for a final stand against the incoming counterattack. specials bundled with the blu ray dvds.several months have passed since the infamous ginza incident with tensions between the empire and jsdf escalating in the vast and mysterious special region over peace negotiations. the greed and curiosity of the global powers have also begun to grow as reports about the technological limitations of the magical realm's archaic civilizations come to light. subaru mikazuki is a 23 year old mystery novel author major introvert and an awkwardly shy person. he would much rather stay home to read a book than go outside and interact with others. further exacerbating this life of solitude his parents tragically died in an accident many years ago leaving him alone in the world. when a group of kids head out for summer camp they don't expect it to snow in the middle of july. out of nowhere the kids receive strange devices which transport them to a very different world to begin their digimon adventure. led by the plucky taichi yagami the seven children must now survive in a realm far from home filled with monsters and devoid of other humans. takaki toono and akari shinohara two very close friends and classmates are torn apart when akari's family is transferred to another region of japan due to her family's job. despite separation they continue to keep in touch through mail. when takaki finds out that his family is also moving he decides to meet with akari one last time. in this entirely new story produced specifically for the dvd conan leads a group of young detectives against the phantom thief kaitou kid who has his eyes set on a jewel at a hotel on an isolated island. a large scale catastrophe is occurring across the planet. ability users are discovered after the appearance of a mysterious fog apparently having committed suicide so the armed detective agency sets out to investigate these mysterious deaths. the case seems to involve an unknown ability user referred to as collector a man who could be the mastermind behind the incident. yui yamada a timid girl who enjoys tending to her school's greenery falls in love with the boyish and athletic tomoka kase. the two eventually begin dating and the story follows the pair as they face various challenges in their relationship. shorts of ansatsu kyoushitsu tv 2nd season which adapt chapters of the manga which are not in the tv series. nanthree years since the return of the legendary space battleship yamato earth has begun rebuilding itself and has made peace with the gamilans. however this recovery comes at the cost of utilizing the forbidden wave motion technology. it is the year 2005. twenty one years after the heroic autobots and the evil decepticons resumed their neverending war on planet earth the decepticons have conquered the robots' home planet cybertron. after a surprise attack by the decepticons both factions wage a gruesome battle at autobot city. in the midst of the battle autobot leader optimus prime dies during his fight with decepticon leader megatron. the autobot matrix of leadership is then passed on to second in command ultra magnus. meanwhile a badly damaged megatron is jettisoned by starscream into deep space where he encounters the planet eating robot unicron and is reborn as galvatron the new decepticon leader. with galvatron's reign on the rise and unicron's imminent arrival within cybertron's orbit the autobots must act quickly and protect the matrix or face total annihilation. kasahara iku and dojo atsushi receive an emergency recall in the middle of their date as japan is rocked by a terror attack. their new duty is a protection detail assigned to touma kurato an author. meanwhile the relationship between librarians and the media purity committee is also worsening. fourth season of shokugeki no souma.on her way home from school yukari hayasaka is approached by a weird looking guy who starts looking at her body intently. he's got blond spiky hair a spiked choker and multiple piercings on his ears and face. she wants nothing to do with him and runs away only to bump into a very tall and beautiful purple haired woman with a flower pattern around her eye. yukari faints from shock and wakes up later in a strange place called the atelier. it turns out that these strangers are fashion designers who attend the most famous art school around yazawa art academy and their group wants yukari to model for their brand in yazawa academy's upcoming show. a short anime based on manga de wakaru. fate grand order by riyo. aired during fate project year end 2018 and is also available on youtube.the ova features six separate stories revolving around the cast some of which border on the bizarre. one of which is an mmorpg environment being played by konata kagami tsukasa and nanako kuroi and another in which kagami has a suggestive dream about konata. in the world of prester flight is the dominant mode of transportation made possible by claudia fluid a liquidized form of the crystals that are produced on the planet. an organization known solely as the guild has absolute authority over the skies with a monopoly on the engines that make use of this fluid. moreover as ecological disasters destabilize the warring countries of anatoray and disith the guild also arbitrates in the disputes between the two. caught in the middle of the conflict are sky couriers piloting small two person vanships that fly freely through the sky. with major motoko kusanagi missing section 9's batou is assigned to investigate a string of gruesome murders seemingly at the hands of faulty gynoids or sex robots. but when a faulty gynoid leaves batou a cryptic message he begins to question the cause of their malfunctions. suspicions of politically motivated murder and an illegal ghost quickly crop up drawing batou and his partner togusa into a perilous web of conspiracy. 2nd year middle school student tsubomi hanasaki has just moved with her family to the town of kibougahana to live with her grandma. she is shy and introverted but is determined to start off her new school life at myoudou academy as confidently as possible. after passing her entrance exam yuno enrolls at yamabuki high school as part of an art degree. she stays at the hidamari apartments along with best friend miyako and seniors hiro and sae. each episode follows a day in her life as she mingles with her friends close peers overly hyper teachers and closely follows the mundane lives of the high school girls. in the distant future humanity has found a way to live forever by purchasing mechanical bodies but this way to immortality is extraordinarily expensive. an impoverished boy tetsurou hoshino desires to purchase a pass on the galaxy express 999 a train that travels throughout the universe because it is said that at the end of the line those aboard can obtain a mechanical body for free. when tetsurou's mother is gunned down by the villainous machine man hybrid count mecha however all seems lost. though gundam plastic models better known as gunpla exploded in popularity with the release of the anime series mobile suit gundam their presence faded before resurging with a new purpose. through the power of plavsky particles fans are now able to pit their gunpla against others in a virtual reality style battle with the best competing at the annual gunpla world tournament. while at school taniyama mai and her friends like to exchange ghost stories. apparently there is an abandoned school building on their campus that is the center of many ghost stories. during the story they are interrupted by a mysterious male figure. the person turns out to be shibuya kazuya a 17 year old who is president of the shibuya psychic research company. he was called by the principal to investigate the stories surrounding the abandoned school building. after losing both parents in a fatal plane crash teenager ryuuichi kashima must adjust to his new life as the guardian of his younger brother kotarou. although ryuuichi is able to maintain a friendly and kindhearted demeanor kotarou is a reserved toddler still too young to understand the reality of the situation. at their parents' funeral they are approached by youko morinomiya the stern chairman of an elite academy who decides to take them under her care. 23rd detective conan movie.ichigo kurosaki is an ordinary high schooler until his family is attacked by a hollow a corrupt spirit that seeks to devour human souls. it is then that he meets a soul reaper named rukia kuchiki who gets injured while protecting ichigo's family from the assailant. to save his family ichigo accepts rukia's offer of taking her powers and becomes a soul reaper as a result. although her name means snow white shirayuki is a cheerful red haired girl living in the country of tanbarun who works diligently as an apothecary at her herbal shop. her life changes drastically when she is noticed by the silly prince of tanbarun prince raji who then tries to force her to become his concubine. unwilling to give up her freedom shirayuki cuts her long red hair and escapes into the forest where she is rescued from raji by zen wistalia the second prince of a neighboring country and his two aides. hoping to repay her debt to the trio someday shirayuki sets her sights on pursuing a career as the court herbalist in zen's country clarines. as a child living in the town of lawless angelo lagusa has witnessed a tragedy his parents and younger brother have been mercilessly slaughtered by the vanetti mafia family. losing everything he holds dear he leaves both his name and hometown behind adopting the new identity of avilio bruno. in a dying world there exists an ancient legend when the world ends the gateway to paradise will be opened. this utopia is the sole salvation for the remnants of life in this barren land but the legend also dictates that only wolves can find their way to this mythical realm. though long thought to be extinct wolves still exist and live amongst humans disguising themselves through elaborate illusions. tentai senshi sunred is the magnificent story of the conflict between good and evil that takes place in the city of kawasaki. sunred ally of justice is dedicated to stopping the evil organization florsheim on their quest for world domination while general vamp and his minions are constantly thinking up new schemes to defeat sunred. in what sounds like a typical story the characters make all the difference. bundled with the 12th 13th and 14th limited edition manga volumes.yumi and the yamayuri council have found two new helpers in kanako and toko. unfortunately their assistance comes with tension as neither girl is particularly fond of the other and both seem likely candidates to be yumi's petite soeur. will either be a good fit for yumi. as the school year marches on the work for the yamayuri council piles up and pressure begins to mount for yumi to make her final decision. due to a mysterious disease the genius iria akagami has been forced by her family to stay in a mansion on the isolated wet crow's feather island with only a handful of maids. to keep herself entertained iria invites a variety of fellow geniuses to stay as guests in her home including computer savant tomo kunagisa and her unnamed assistant skilled fortune teller maki himena famous artist kanami ibuki academic scholar akane sonoyama and renowned cook yayoi sashirono. kazuma finds a choker at wiz's magic shop said to grant any one wish and decides to put it on. the problem. he'll die in four days from strangulation if the wish isn't granted. and kazuma can't remember what he wished for so he has no idea how his party members can help. the girls therefore have no choice but to submit to his every whim if they want to save him.having a friend that knows you inside out should be a good thing but in nishikata's case the opposite is true. misaki takahashi is a regular high school student who is preparing for his university entrance exams. in order to reduce the stress of studying or so he hopes he accepts the help of his older brother's best friend and famous author akihiko usami. however masaki is about to find out that usami's books are of a very naughty genre and that there may be something naughty waking up inside masaki as well. a.d. 2016 the foundations of humanity have been incinerated by the mage king solomon. chaldea a secret mages organization with the mission to preserve humanity's future foresaw mankind's extinction in 2015. thus commenced the operation to repair the singularities in history caused by holy grails dispersed across time and space operation grand order. with the threat of the holy grail war no longer looming over fuyuki city its inhabitants can finally enjoy a time of peace. now that all of the masters and servants have adjusted to their new mundane lives shirou has taken it upon himself to cook for his household and show saber the wonders of modern cuisine. every day he ventures into the marketplace to see what kind of different meals he can cook up with unique ingredients and a limited budget. however his legendary skills often attract uninvited guests from all over the city so there is never a dull moment at dinner with the emiya family. while on the surface yuu otosaka appears to be just another charming and intelligent teenager he has a secret he has the ability to slip into people's minds and fully control their body for five seconds at a time. yuu has been using this skill for years to gain the highest grades which allowed him to enter a prestigious high school. taira kappeita or capeta was a 4th grader boy. he had lost his mother when he had been very little. although he pretended to be tough in front of his father actually he felt lonely. one day his father brought junk parts home from his workplace and made a racing cart. soon they went to a circuit to drive the cart. however capeta found that its frame was bent and it could hardly run straight. but with his technique he managed the cart. furthermore he followed soon after the fast cart and he could nearly leave it behind. the driver in the cart was minamoto naomi the champion of the east japan junior cart. looking at their chase naomi's mother minamoto nanako advised capeta to take part in the official race. fifth break blade movie.second season of aggressive retsuko.the third season of yao shen ji.the universe is a mysterious and strange place full of even stranger and more mysterious aliens. dandy's job is to hunt down unclassified aliens and register them for a reward. it sounds easy enough but something weird always seems to happen along the way like chance meetings with zombies mystical ramen chefs and adorable orphans. hunting down aliens may not be easy but it's definitely never boring. for nearly a millennium demons have imposed a magical barrier that has impeded the people trapped within it from reaching the outside world. now that it is broken several kingdoms seek to explore the lands that were once beyond their grasp. to this end they establish a peace delegation to make contact with the inhabitants of the new world. due to a lack of ambassadors for the recently conquered worlds the rapidly advancing fleet of the bebaus brothers leave behind lafiel is appointed territorial ambassador of the planet lobnas ii. upon arriving to the planet jinto and lafiel discover that the planet was used by the united mankind as a prison planet and now has a million prisoners on the only inhabited island. the prisoners are parted in three blocks. the western where women are housed the eastern belongs to the men and the central is mixed under the restriction that all prisoners living there are sterilized. the women in the western sector want to emigrate from the planet of fear for the men and when they do the men in the east rebel overthrowing the guards and capturing jinto to try to stop the emigration of the women. at the same time an enemy fleet heads toward the system forcing lafiel to abandon jinto. at the climax of the eve wars on december 24 of the year ac 195 the armies of the world nation and white fang met in a ferocious battle. world nation leader treize khushrenada was slain white fang leader zechs merquise disappeared and earth was saved from destruction by the intervention of the five gundam pilots. having witnessed the consequences of war and hatred the people of earth and the space colonies put aside their differences and together founded a new world government. under this newly formed earth sphere unified nation a year has passed in peace. the government and the populace have disarmed themselves and almost every remaining mobile suit has been destroyed. deciding to follow suit gundam pilots heero yuy duo maxwell trowa barton and quatre raberba winner place their mighty mobile suits inside an asteroid and send them on a one way voyage into the sun. but even as they bid their gundams farewell a new conflict is drawing near. at the end of season 2. yuuri defeats shinou but since shinou had been defeated yuuri and murata could no longer go to the shin makoku. however because yuuri had fought and defeated him his powers had surpassed that of shinou's resulting in him being able to rely on his own power to return to shin makoku. when five students at yamaboshi academy realize that there are no clubs where they fit in they band together to form the student cultural society or stucs for short. the club consists of taichi yaegashi a hardcore wrestling fan. iori nagase an indecisive optimist. himeko inaba a calm computer genius. yui kiriyama a petite karate practitioner. and yoshifumi aoki the class clown. after the events in the city har and family come back to the jungle. but it is never calm for har as he first must deal with an unstable substitute teacher then with some big news weda is pregnant. the answer to how and who will change his family forever. poor har now has to deal with a father in addition to his drunk mother and guu and soon a sibling too. the skilled craftsman kuroda created artificial humans called hybrid child creatures who are neither machines nor dolls but rather a reflection of the love shown to them. while they can feel human emotions and have their own consciousness they are not real humans and require love to grow. second part of two hakuouki movies.first haikyuu. recap movie.brandon heat and harry macdowel two friends so close they could be called brothers receive an abrupt and violent reminder one fateful day of how appallingly merciless the world around them can be. their whole lives before then were simple and easygoing consisting largely of local brawls seducing women and committing petty theft to make a living and pass the time. what they failed to realize is that in this cruel world happiness is fleeting and change is inevitable. sayonara zetsubou sensei ova.ginga eiyuu densetsu gaiden 1999 is the second of two ova adaptations of side stories from the ginga eiyuu densetsu novel series. this second adaptation follows the achievements of yang wen li of the free planets alliance before the fateful battle of astarte and continues the tales of reinhard von m sel and siegfried kircheis of the galactic empire. tang san is one of tang sect martial art clan's most prestigious disciples and peerless in the use of hidden weapons. with high expectations the sect's elders believe his future will be bright. yet tang chooses to forsake this life at the cost of obtaining the sect's forbidden lore an action punishable by death. tang now content with his ascension of knowledge sees no reason to keep on living and jumps from hell's peak but little did he know that that would not be the end of his existence. an ova summarizing all 25 episodes of season 2.the girls of the amusement club return in yuru yuri finding new ways to make passing time even more enjoyable. their members consist of the always energetic kyouko toshinou. calm and sensible yui funami. polite but often overlooked akari akaza. and chinatsu yoshikawa who stumbled upon the others while looking for the tea ceremony club. together they are the amusement club which has the deceptively simple task of keeping its members entertained. despite the defeat of quinella the pontifex of the axiom church things have not seemed to calm down yet. upon contacting the real world kazuto kirito kirigaya finds out that the ocean turtle a mega float controlled by rath was raided. due to a sudden short circuit caused by the raiders kirito's fluctlight is damaged leaving him comatose. feeling insecure about the people at the axiom church alice brings the unconscious kirito back to their hometown rulid village disregarding her banishment due to an unabsolved crime. now alice is living an ordinary and peaceful life close by the village wishing for kirito to wake up. what if jesus and buddha were living on earth in modern times. what if they shared an apartment in japan. saint young men is a humorous manga about the daily lives of jesus and buddha with each chapter focusing on some element of modern life such as disneyland rush hour on the train christmas the public pool carnivals and more. alfred izuruha is a 10 year old who lives in the neutral colony cluster of side 6 and like most boys his age is obsessed with the war between the earth federation and the principality of zeon. unbeknownst to him al's next door neighbor christina is the test pilot of a prototype gundam being developed in secret by the earth federation in the colony. a zeon special forces team is assembled and tasked with infiltrating the colony in order to either steal or destroy it. the seal that for hundreds of years had confined the demon king giri has worn off. a young boy named nike is chosen against his will as the hero. together with kukuri a girl who is the lone survivor of the tribe that had used black magic to seal giri they set off to save the world rpg style. in the winter of 1995 mikiya kokutou passes a young woman during a late night stroll in the snow. clad in a striking white kimono and bearing an enigmatic gaze shiki ryougi smiles at mikiya who stares back with curiosity. later that spring mikiya notices shiki at his high school entrance ceremony and they become acquaintances through lunchtime conversations. as shiki begins opening up to him mikiya learns about her unique upbringing. har was a happy boy living out his days in the jungle with his mother but then one day guu showed up and became a member of their household. throughout the series he faces many hardships as he tries to keep guu out of trouble in the jungle. brought up in a conflict ridden environment child soldier jonathan jonah mar hates weapons and those who deal them. but when koko hekmatyar an international arms dealer takes on jonah as one of her bodyguards he has little choice but to take up arms. along with koko's other bodyguards composed mostly of former special ops soldiers jonah is now tasked with protecting koko and her overly idealistic goal of world peace from the countless dangers that come from her line of work. on november 22 2010 japan was hit by missile strikes a terrorist act that fortunately did not harm anyone becoming known as careless monday. quickly forgotten society goes on about their lives as normal. the year is 2027 and the city of kyoto has undergone tremendous technological advancement. within the city lives naomi katagaki a socially awkward and introverted boy with a love for books and ruri ichigyou a girl with a cold personality who is often blunt with people but shares his love for reading. despite having similar interests naomi is afraid to approach ruri due to her unfriendly nature. with a new year comes new adventures especially at the rabbit house. since her arrival at the caf kokoa hoto has become accustomed to her new life as a waitress even though the rabbit house isn't the rabbit paradise she initially envisioned it to be. life is pleasant and she enjoys spending time both working and playing with her friends and fellow waitresses chino kafuu a cute middle school student with a fuzzy bunny companion named tippy and rize tedeza the pig tailed daughter of a soldier who is readily armed for any scenario. in a future to come humanity enjoys a new age of prosperity thanks to dr. shizuma's invention of a revolutionary renewable energy source the shizuma drive. but this peace is threatened by big fire a cabal seeking world domination. against big fire the international police organisation dispatches a collection of superpowered warriors and martial artists together with daisaku kusama inheritor and master of earth's most powerful robot giant robo. second part of douluo dalu.serial murders involving all kinds have happened. all the victims are from a music school led by a famous pianist. conan and company have been invited to a opening concert of the music hall built by the pianist. the biggest attraction of this concert is the world famous violin called stradivarius and a special appearance of a singer who has perfect pitch. fifteen years ago in a barren stretch of the pacific a cruise ship collided with an iceberg and was lost at sea. more than a decade later hideto yashiro a ship engineer died in a fatal car accident. the unlikely connection between these events only comes to light on the luxury liner st. aphrodite during her maiden voyage. ryo saeba is a sweeper know as the city hunter. he and his sidekick kaori makimura are hired to solve problems that the police can't or won't handle. when he's not keeping the streets of tokyo clean ryo is chasing the ladies and kaori chases after him with a giant anti ecchi hammer. fourth break blade movie.on the surface koudo ikusei senior high school is a utopia. the students enjoy an unparalleled amount of freedom and it is ranked highly in japan. however the reality is less than ideal. four classes a through d are ranked in order of merit and only the top classes receive favorable treatment. bundled with the seventh volume of the wotaku ni koi wa muzukashii manga. the everlasting guilty crown is the second single by the music group egoist and is used as the second opening theme song of guilty crown. the limited edition release includes a dvd with a music video of the song's tv edit animated in 3d cgi.seikyou private academy built on the intrigue of traditional occult myths bears a dark past for 60 years it has been haunted by a ghost known as yuuko a young woman who mysteriously died in the basement of the old school building. with no memory of her life or death yuuko discreetly finds and heads the paranormal investigations club in search of answers. in ancient times a group of young men devoted their lives to protecting athena the goddess of wisdom and war. these men were capable of fighting without weapons a swing of their fist alone was powerful enough to rip the very sky apart and shatter the earth beneath them. these brave heroes became known as saints as they could summon up the power of the cosmos from within themselves. ainz ooal gown the undead sorcerer formerly known as momonga has accepted his place in this new world. though it bears similarities to his beloved virtual reality game yggdrasil it still holds many mysteries which he intends to uncover by utilizing his power as ruler of the great tomb of nazarick. however ever since the disastrous brainwashing of one of his subordinates ainz has become wary of the impending dangers of the slane theocracy as well as the possible existence of other former yggdrasil players. meanwhile albedo demiurge and the rest of ainz's loyal guardians set out to prepare for the next step in their campaign nazarick's first war. haru yoshioka is your ordinary high school girl who has trouble making decisions for herself. one day she spots a strange cat crossing the road with a small present. and a truck headed straight for it. haru doesn't even stop to think before jumping in front of the truck and getting them both to safety. justy ueki tylor is an average 20 year old man lazy greedy and a passionate womanizer. he plans to land an easy job with the united planets space force that pays decently and is also far away from the rigorous combat raging throughout the galaxy. otonokizaka high school has been saved. despite having to withdraw from the love live. the efforts of 's were able to garner enough interest in their school to prevent it from being shut down. what more following the conclusion of the first a second love live. is announced this time on an even larger stage than before. given a chance for redemption the nine girls come together once more to sing their hearts out and claim victory. for young witches everywhere the world renowned witch shiny chariot reigns as the most revered and celebrated role model. but as the girls age so do their opinions of her now just the mention of chariot would get a witch labeled a child. however undeterred in her blind admiration for chariot ordinary girl atsuko kagari enrolls into luna nova magical academy hoping to someday become just as mesmerizing as her idol. young ciel phantomhive is known as the queen's guard dog taking care of the many unsettling events that occur in victorian england for her majesty. aided by sebastian michaelis his loyal butler with seemingly inhuman abilities ciel uses whatever means necessary to get the job done. but is there more to this black clad butler than meets the eye. based on the shogakukan award winning manga of the same name inuyasha follows kagome higurashi a fifteen year old girl whose normal life ends when a demon drags her into a cursed well on the grounds of her family's shinto shrine. instead of hitting the bottom of the well kagome ends up 500 years in the past during japan's violent sengoku period with the demon's true target a wish granting jewel called the shikon jewel reborn inside of her. the original gag comedy manga follows the humorous yet realistic everyday life of tadakuni hidenori yoshitake and other students at a boys' high school. i died and was kicked out of the cycle of reincarnation because of the sin i committed. an angel told me that i won a lottery and he gave me a chance to remember the sin. my spirit possessed the body of the 14 year old boy makoto who committed suicide and i tried to recollect my memory. i felt distressed by the terrible circumstances of makoto and the fact that i was borrowing his body. i have started to realize that people are hurting each other because the world is too colorful to distinguish the true color of themselves from others.the sailor guardians and their leader sailor moon continue their duty of protecting earth from any who would dare cause it harm. however sailor mars' apocalyptic visions and the appearance of two new guardians sailor neptune and sailor uranus signal that a new battle will soon begin. diligent and methodical honor student eiichirou maruo decides to exercise more during the little free time he has available because he is worried about his health. for this reason after seeing a flyer he joins the southern tennis club at the beginning of his freshman year. in the year 2005 a race of alien monsters called zonders emerge from underground and launch a series of attacks on the city of tokyo. the only defense against these creatures is the secret agency known as the gutsy geoid guard or 3g and their ultimate weapon the awesome giant robot gaogaigar. gaogaigar's pilot guy shishio is a former astronaut who was nearly killed two years before when the zonders first crashed to earth. guy's life was spared when a mysterious robot lion called galeon pulled him from the burning shuttle and brought him to earth. guy's father leo then used galeon's technology to rebuild his shattered son as a cyborg in the hopes that he could stop the aliens when they appear. now with galeon as its core gaogaigar fights to protect earth. he is aided by a team of transforming robots and by a young boy named mamoru who has the power to purify the zonders' cores and seems to be connected to the mysterious galeon. the story revolves around d the infamous dunpeal born of a vampire father and a human mother outcast and renowned vampire hunter. his prowess at hunting the creatures of the night allowing his acceptance among humans he is called upon to locate charlotte elbourne the lovely daughter of an affluent family who has been mysteriously kidnapped. in the near future humanity has taken its first steps towards journeying into the far reaches of the galaxy. upon doing so they discover a huge race of insectoid aliens known as space monsters. these aliens seem dedicated to the eradication of mankind as they near closer and closer to discovering earth. in response humanity develops giant fighting robots piloted by hand picked youth from around the world. ousai academy was originally an all girls high school. due to the declining birth rates in recent years it was converted into a co ed school. the first year male students would find themselves surrounded by girls and unfortunately tsuda takatoshi is one of them. what's worse he gets scolded on his first day by the student council president shino amakusa which did not give a good first impression of him. tsuda also meets the other student council members while getting scolded and in the end he gets late for class. as an apology for ruining his morning shino lets him join the student council for various of reasons and he accepts it or rather he's forced to accept. thus begins his days as tsuda soon realizes that he's the only normal student in ousai academy.summer has arrived and the students of lillian girls' academy are on break. yumi and sachiko head out to the ogasawara family's summer home but what was supposed to be a relaxing vacation takes a turn for the worse when some of sachiko's old acquaintances drop by for tea. these rich and snobby debutantes don't think yumi is worthy of sachiko's affection and they're out to make this summer one she'll regret. magic is not real everyone knows that. when performed by a true expert however magic possesses the ability to amaze and wonder its audience. kaito kuroba son of world famous stage magician touichi kuroba is no stranger to this fact. well versed in the arts of deception and misdirection kaito frequently disrupts the lives of those around him with flashy tricks and pranks. but when kaito accidentally stumbles upon a hidden passage in his home he discovers a secret that may well have been the cause of his father's death eight years ago the dove white outfit of kid the phantom thief. wanting to find out more about his father kaito dons the outfit and searches for the pandora gem that is said to grant immortality. however he is not the only one after the gem the organization responsible for his father's death is also hot on his tail. just as in this life the afterlife needs a calm troubleshooter to deal with the bureaucratic headaches that come from keeping things in order. enter hozuki a cool and collected demon who’s badly in need of a vacation. hibike. euphonium movie chikai no finale will tell the story of kumiko oumae and others as second year students.striking fear into the hearts of mortals the demon lord satan begins to conquer the land of ente isla with his vast demon armies. however while embarking on this brutal quest to take over the continent his efforts are foiled by the hero emilia forcing satan to make his swift retreat through a dimensional portal only to land in the human world. along with his loyal general alsiel the demon finds himself stranded in modern day tokyo and vows to return and complete his subjugation of ente isla that is if they can find a way back. recap film that will cover the match against shiratorizawa academy that took place in the third season. professor agasa has created a computer program that can give you the identity of anyone in the world. he decides to use it on figuring out who kaitou kid is. before he does the program gives him a history of the kid as well as preview clips of the eighth movie. when he is about to finally figure out who the kid is kid appears on the computer screen announcing he has hacked the program. under the cover of darkness a masked samurai murders six men across the metropolis of japan three in tokyo one in osaka and the last in kyoto. in their investigation the police learn that each man was a member of the genjibotaru a thieves gang centered on the theft of buddhist statues and artifacts and who go by the names of minomoto no yoshitune's servants. even during summer break the amusement club lives up to its name. when akari akaza kyouko toshinou chinatsu yoshikawa and yui funami find a camping tent they decide to put it to good use by spending the weekend outside in the mountains. when some student council members catch wind of this they are invited to come along as well. kyoto has been populated by groups of tanuki and tengu for years living alongside humans who are oblivious to the existence of these creatures. yasaburou shimogamo is the third son of an influential tanuki family who spends his carefree days taking care of an old tengu observing humans through his ability to shapeshift and dealing with the mysterious woman named benten. the exciting antics of wagnaria return as more ridiculous incidents occur friendships are deepened and new feelings are discovered. in addition to souta takanashi and his wacky co workers more eccentric personalities join the family restaurant haruna hyougo otoo's missing wife who has a habit of getting hopelessly lost through the sewer system. kirio yamada aoi's older brother who is able to withstand mahiru inami's deadly punches. and twins youhei and mitsuki mashiba kyouko shirafuji's juniors who do not get along. tokyo has become a cruel and merciless city a place where vicious creatures called ghouls exist alongside humans. the citizens of this once great metropolis live in constant fear of these bloodthirsty savages and their thirst for human flesh. however the greatest threat these ghouls pose is their dangerous ability to masquerade as humans and blend in with society. gene starwind has always dreamed of piloting his own ship out into the vast sea of stars. unfortunately not all dreams come true as he spends his days working odd jobs alongside his partner james hawking on the small planet sentinel iii instead. however this all takes a turn when the duo takes on a job from rachel sweet who unbeknownst to them is actually a treasure hunting outlaw. tasked with protecting a mysterious girl known as melfina the meeting irrevocably changes the pair's lives as they are sent out into the great unknown aboard the highly advanced ship outlaw star. an ova adaptation of the climactic part of saiyuuki gaiden. an adaptation of the visual novel by key planetarian hoshi no hito combines the story of the original work with an expansion that extends the narrative with content from the hoshi no hito light novel sequel. moments prior to naruto uzumaki's birth a huge demon known as the kyuubi the nine tailed fox attacked konohagakure the hidden leaf village and wreaked havoc. in order to put an end to the kyuubi's rampage the leader of the village the fourth hokage sacrificed his life and sealed the monstrous beast inside the newborn naruto. federation troops and zeon forces carry out a fierce battle in the thunderbolt sector in what was once side 4 moore. the thunderbolt sector is a shoal zone composed of the debris of destroyed space colonies named for the electrical discharges from the metal debris. ms pilot io flemming is among the federation soldiers who are dispatched to the area where zeon sniper daryl lorenz awaits them on the battlefield. not so long ago mysterious structures called dungeons began appearing all over the world. no one knows what they are or how they came to be but adventurers and armies around the world instantly took interest in them. thousands set out to explore the dungeons but so far not a single person has returned. four months before count von lohengramm of the galactic empire faced yang wen li of the free planets alliance at the battle of astarte he was still just reinhard von m sel. the youngest admiral in the empire's history reinhard was disdained and dismissed by his peers as the brother of the kaiser's concubine. a goldfish sneaks away from home and floats off on the back of a jellyfish. after getting stuck in a glass jar she drifts to the shore where she is freed by sousuke a five year old boy who lives with his mother lisa in a house by the sea while his father koichi works on a fishing boat. after healing a cut on sousuke's finger by licking it the goldfish is named ponyo by her new friend. in the mystical land of fiore magic exists as an essential part of everyday life. countless magic guilds lie at the core of all magical activity and serve as venues for like minded mages to band together and take on job requests. among them fairy tail stands out from the rest as a place of strength spirit and family. in the faraway village of haworth a new chapter in emma's life has begun. now employed by the wealthy molders family emma has resolved to put the past behind her. she'll have to adjust to a new house a charming but eccentric new mistress and a host of fellow servants some with buried pasts of their own. included in the 8th and final dvd of clannad after story is an extra episode set in an alternate universe. here fujibayashi kyou is the main heroine in place of furukawa nagisa. nozomu itoshiki is still the bizarre teacher of the even stranger class 2 f. he attempts to teach his students the negative aspects of the world and society only to have each circumstance thrown at his face whenever he tries. with more students and friends than before zetsubo sensei's life becomes harder and crazier than ever before. takuya enoki is living a difficult life for a fifth grader. his mother passed away in a tragic car accident a few months ago forcing him to pick up the slack and take care of his baby brother minoru as his father works the endless hours typical of a japanese salaryman. the seto no hanayome ovas are new stand alone shorts with characters from the series and also two new ones. it is now the third year of school san and luna's dads are still being over protective. all the while nagasumi has his hands full trying to keep everyone around him under control and rescuing damsels in distress. taking place in the past it offers a view at the saiyuuki quartet before their formation and their journey to the west. first ova starts with sanzo and his master also with ukoku known as a later ni jianyi. second ova shows first meeting of goku and sanzo. third ova considers the events after hakkai's sins and his trial that we know from first season of saiyuuki and his decision to live in gojyo's house.travelling merchant kraft lawrence and wolf deity holo sit down to have dinner with norah arendt a young shepherdess who helped them smuggle gold. holo's dislike of norah due to both the latter's profession and her closeness with lawrence prevents her from enjoying her meal. eight years after the mysterious death of his father kaito kuroba a slightly mischievous but otherwise ordinary teenager discovers a shocking secret the phantom thief kaito kid also known as the magician under the moonlight was none other than his own father. the former thief was murdered by a criminal organization seeking a mythical stone called the pandora gem said to shed a tear with the passing of the valley comet that comes every ten thousand years. when the tear is consumed the gem supposedly grants immortality. lupin is the main character in this series which takes place in italy and san marino. in 19th century france a struggling single mother fantine leaves her three year old daughter cosette in the care of her new acquaintances the thernadiers. unfortunately cosette's caretakers prove to be anything but loving and the poor girl is subjected to repeated abuse and forced servitude. still she endures the torment in the hopes of seeing her mother once again. shortly after graduating from high school takumi is approached by redsuns leader ryosuke takahashi and offered to join him in forming a professional racing team. before coming up with an answer to the proposal takumi seeks retribution by issuing a rematch to emperor leader kyouichi sudou who previously defeated him due to an engine failure. he is also challenged by kai kogashiwa a second generation street racer whose father was once a fierce rival of takumi's father bunta. ohana has grown accustomed to living in the hot springs inn her grandmother manages kissuisou. one day the daughter of a manager for kissuisou's rival inn yuina comes to kissuisou for training to become a landlady herself. as ohana is observing her training she finds a certain item in the storeroom while cleaning. bundled with the limited editions of 17th 18th 19th and 24th volumes of the hoozuki no reitetsu manga.recap film that will cover the match against aobajosai high school that took place in the second season. devils cannot take form without a living host. however if the will of an individual is strong enough they can overcome the demon and make its power their own becoming a devilman. conan edogawa is facing a dilemma ran mouri has asked shinichi kudou out to the movies and he is unable to provide a convincing excuse not to go. however when the day of the date arrives he has more pressing problems to worry about a great amount of plastic explosives has recently been stolen and the culprit has challenged shinichi to find and dispose of the bombs he has scattered across the city. now forced in a race against time conan must not only protect the city but also figure out who the mastermind is and his reason for confronting shinichi. how do you resolve a conflict between powerful spirits of famous heroes for a prize capable of granting any wish. wage a war that will cost your blood sweat and tears. too much work how about a game show competition instead. nozomu itoshiki is a high school teacher so pessimistic that even the smallest of misfortunes can send him into a pit of raging despair. some of these catastrophes even lead to suicide attempts. sayonara zetsubou sensei is a satirical slice of life comedy set in the modern day covering various aspects of japanese life and culture through nozomu and his interactions with his students kiri komori a recluse who refuses to leave the school. abiru kobushi an enigma who frequently arrives to class with severe and mysterious injuries. the hyper optimistic kafuuka fuura nozomu's polar opposite. and several other unusual girls all of whom are just as eccentric as their teacher. in universal century 0079 forces of the earth federation and principality of zeon engage in a battle within the thunderbolt sector during the one year war. this section of space known for its constant strikes of electricity proves to be a deadly battlefield as federation pilot io fleming leads a charge against zeon's ace daryl lorenz and his squad of snipers. with the fighters on both sides proving to be formidable soldiers neither side is willing to back down fighting strategically amongst the remnants of colonies. takamachi nanoha is a normal third grader who feels a little useless and out of place with no purpose. then one day she saves a ferret who turns out to be a mage from another planet who came to this planet to search for the jewel seeds. nanoha agrees to help but this task gets complicated when another girl arrives to steal them. following a catastrophic war against a race of giants known as the zentradi humanity has escaped towards the center of the galaxy aboard a fleet of colonial vessels called the macross frontier. as the extraterrestrial threat is left further and further behind life on macross frontier proceeds as usual. following the events of satsujin kousatsu zen shiki ryougi has been in a coma for two years due to a traffic accident. when she finally awakens she has no memories of her past and is plagued by a profound loneliness. even stranger she notices dark lines encompassing the things around her and if she touches them she can disassemble the object something which completely terrifies her. her friend mikiya kokutou enlists the help of touko aozaki a mage who can help shiki understand what her eyes the mystic eyes of death perception are truly capable of and how to use them properly. layla is going to perform phoenix in broadway. playing this important role she sets out on a journey by bicycle alone without leaving any message in order to find out what she's missing inside.kenshi masaki has been kidnapped and brought to the world of geminar by a mysterious group. to get back home he agrees to help them assassinate the newly crowned empress of the shtrayu empire lashara aasu xxviii using a giant robot called a sacred mechanoid. atop a hill overlooking a seaside port sits a boarding house named coquelicot manor. since the building is run by her family umi matsuzaki carries out many of the duties involved in managing the small establishment such as preparing meals for her fellow boarders. when she isn't at home she is a student at the local high school one that is currently dealing with a small crisis. i've been holding a few words back for a long time i like you. episode 22.5 bundled with bd dvd volume 8. the continuing stories of the daily life of the students of the hidamari apartments at yamabuki high school. this time a year has passed since the first season. yuno and miyako are second years sae and hiro are third years and two new students nori and nazuna move into the hidamari apartments. set in 19th century belgium this classic tale based on the flemish novel by oui'da celebrates the affectionate bond between an innocent boy and his faithful dog. the stunning animation a masterful combination of traditional and computer aided animation captures the natural splendor of the flanders countryside and recreates the spirit of this classic story that has captivated audiences world wide for more than 130 years. in fact the popularity of the dog of flanders led the local belgian government of flanders to dedicate a statue to nello and patrash in 1985 immortalizing their devotion to each other. within the domed city of romdo lies one of the last human civilizations on earth. thousands of years ago a global ecological catastrophe doomed the planet. now life outside these domes is virtually impossible. to expedite mankind's recovery autoreivs humanoid like robots have been created to assist people in their day to day lives. however autoreivs have begun contracting an enigmatic disease called the cogito virus which grants them self awareness. re l mayer granddaughter of romdo's ruler is assigned to investigate this phenomenon alongside her autoreiv partner iggy. but what begins as a routine investigation quickly spirals into a conspiracy as re l is confronted by humanity's darkest sins. celty sturluson is tasked to deliver a suspicious red handbag as part of her courier duties the problem is it is being sought by several organizations. as she makes her way through ikebukuro toward the place the bag is supposed to be brought to she is chased by mysterious men speaking a foreign language and her package ends up dragging many of the city's residents into the conflict. a mysterious attacker has appeared and is assaulting people whose names contain a number from the standard deck of cards in descending order. when conan edogawa points out that all the victims are related to the now famous detective kogorou mouri suspicion immediately falls upon the recently released convict jou murakami as kogorou was the one responsible for his arrest ten years prior. the group of privateers known as the blue steel continues their mission to deliver blueprints of the vibration warhead torpedo a weapon that may turn the tides of war in their favor to the united states. however a new threat arises from their enemy the overwhelming fleet of fog in the form of the student council. this is a group of warships composed of the remaining mental models the ships' humanoid avatars who have yet to face the unpredictable captain of the blue steel gunzou chihaya. while mahjong is a game that is often played with family and friends it is also a game that is played in the darkest corners of society. nangou is a compulsive gambler who has accumulated debt over three million yen. in a last ditch attempt to clear his record he decides to wager his life on a game of mahjong with the mafia. unfortunately as the game progresses nangou only moves further from the prize and closer to death. in the future humans are living on colonized planets and are controlled in every aspect of their life by a system of computers. evolution has resulted in the birth of people with extraordinary powers. this new race is called mu. hated and feared by the humans the mu dream of a place to live in peace earth a mystical far away planet for humanity had to leave their home long ago as pollution and destruction increased and made it impossible to stay there any longer. the world of tennis is harsh and highly competitive. numerous schools from japan battle it out to determine the best of the best. after having to deal with jealousy from his co workers for working under his father's name prideful literary editor ritsu onodera is determined to establish himself in the industry. to accomplish this he quits his job at his father's publishing company and transfers to marukawa publishing. but instead of being placed in their literary division ritsu finds himself working as the rookie manga editor for the emerald editing department a team that operates under extremely tight schedules in order to meet deadlines. there ritsu is introduced to the infamous editor in chief masamune takano a persistent man who strives for results. ovas of seitokai yakuindomo which were either bundled with the limited editions of the manga volumes or as standalone ovas.music video yakusoku no kizuna from kyoukai no kanata movie i'll be here kako hen blu ray dvd.ovas that come with the limited premium edition of volumes 16 and 20 of the manga series.after the death of saizou kabamaru's horribly strict grandfather and iga ninja teacher sensei an old lady ran ookubo claims that she received a letter from him asking her to take care of his grandson. so kabamaru runs off with lady ookubo to the big city tokyo to gorge on yakisoba ramen chow mein and attend a regular school which turns out to have weird quirks of its own. working at an agency owned by your father seven new idols await. they are all part of an idol unit idolish7 and each of them have unique personalities. it is your task to manage them. in order to achieve the same goals as manager and idols together you gather the seven ununified hearts and aim for the top. in the year 19xx after being betrayed and left for dead bravehearted warrior kenshirou wanders a post apocalyptic wasteland on a quest to track down his rival shin who has kidnapped his beloved fianc e yuria. during his journey kenshirou makes use of his deadly fighting form hokuto shinken to defend the helpless from bloodthirsty ravagers. it isn't long before his exploits begin to attract the attention of greater enemies like warlords and rival martial artists and keshirou finds himself involved with more than he originally bargained for. high speed. free. starting days plunges into the past of the iwatobi swim club members alongside their fellow swimmers and competitors. studying at the yamabuki arts high school has been a dream come true for yuno and she's learned so much already. and not just from her instructors but from her friends and neighbors who've become her second family and made the hidamari apartments such a safe and nurturing home. but as the day of her big sisters sae and hiro's graduation draws slowly closer it's time for yuno to start seriously taking on the same role for nazuna nori and the other budding young artists who've entered hidamari's protective cocoon. and it's also time to tackle some really challenging artistic assignments. that doesn't mean there won't still be time for fun with miyako and all the others but it's definitely time to pencil in her plans for the future. and sometimes that means you have to put the art before the course. the grand magic games reaches its climax following natsu dragneel and gajeel redfox's stunning victory over sting eucliffe and rogue cheney of the sabertooth guild. this success pushes the fairy tail guild closer to being crowned the overall champions but obtaining victory isn't the only challenge they face. a mystery still surrounds a hooded stranger and the ominous eclipse gate leaving more questions than answers. the plot revolves around doki a female rabbit meeting falling in love with and chasing nabi a male cat in a world where love between the two species is socially unacceptable. the theme of the short is that all love can be accepted and has a chance. nabi attempts to cure doki's infatuation for him but after seeing the extent of her love he gives in and finds something he can appreciate in her. for high school student tanaka the act of being listless is a way of life. known for his inattentiveness and ability to fall asleep anywhere tanaka prays that each day will be as uneventful as the last seeking to preserve his lazy lifestyle however he can by avoiding situations that require him to exert himself. along with his dependable friend oota who helps him with tasks he is unable to accomplish the lethargic teenager constantly deals with events that prevent him from experiencing the quiet and peaceful days he longs for. the second season of tentai senshi sunred.takashi kamiyama is your typical mild mannered high school student polite aloof and pacifistic with a slightly above average iq. but would your average high school student really enroll himself at the infamous cromartie high school known as a breeding ground for the toughest delinquents out there. it is universal century 0087 and the one year war between the earth federation and principality of zeon is over. the earth federation has created an elite task force known as the titans who are responsible for hunting the remaining zeon forces. however the power hungry titans have shown themselves to be no better than zeon spurring the creation of a rebellious faction called the anti earth union group aeug. after living together for three years misaki takahashi and akihiko usagi usami's relationship has been progressing smoothly. however all great relationships have problems and theirs is just beginning. with a new rival on the horizon usagi worries about misaki's feelings towards him. like the r season sailor stars is divided into two arcs aside from her deep passion for eating cakes the clumsy ichigo amano has never been successful at anything. after an encounter with henri lucas a famous patissier ichigo's amazing tasting abilities although unbeknownst to her are discovered. recognizing her talent henri offers her the chance to attend st. marie academy a prestigious culinary school which specializes in desserts. death city is home to the famous death weapon meister academy a technical academy headed by the shinigami lord death himself. its mission to raise death scythes for the shinigami to wield against the many evils of their fantastical world. these death scythes however are not made from physical weapons. rather they are born from human hybrids who have the ability to transform their bodies into demon weapons and only after they have consumed the souls of 99 evil beings and one witch's soul. situated near the local zoo and owned by the charismatic polar bear shirokuma shirokuma cafe is a popular spot for animals and humans alike allowing them to sit back and relax after a hard day of work. whether it's a cold beverage or the latest item on his menu shirokuma finds joy in being able to serve his customers often striking up conversations about various subjects. just the words i love you and everything changes such is the nature of the bittersweet trials of high school romance. tenma tsukamoto a second year is on a quest to confess her feelings to the boy she likes. kenji harima a delinquent with a sizable reputation is in a similar situation as he cannot properly convey his feelings to the one he loves. between school friends rivalries and hobbies these two will find that high school romance is no walk in the park especially as misunderstandings further complicate their plight. asahigaoka might look like typical boring countryside to most. however no day in this village can ever be considered colorless thanks to five students of varying ages occupying the only class in the only school in town. the youngest student is first grader renge miyauchi who brings an unadulterated wit curiosity and her characteristic catchphrase nyanpasu. then there are the koshigaya siblings consisting of the quiet ninth grader and elder brother suguru diminutive eighth grader komari and the mischievous seventh grader natsumi. the recent arrival of tokyo raised fifth grader hotaru ichijou who appears overdeveloped for her age and thus naturally holds an air of maturity rounds out this lively and vibrant group of five classmates. it is a cross over between the series lupin iii and detective conan and takes place after the television special lupin the 3rd vs detective conan. the plot follows conan edogawa who sets out to apprehend ars ne lupin iii the suspect of stealing a jewel called cherry sapphire. three years ago a gateway between earth and the beyond opened in new york city trapping extradimensional creatures and humans alike in an impermeable bubble. after the city's restoration monsters magic and madness are common findings in the area now known as hellsalem's lot. leonardo watch a young photographer who unwillingly obtained the all seeing eyes of the gods in exchange for his sister's eyesight came to this paranormal city to find answers to the mysterious power that he possesses. he later finds his life drastically changed when he joins libra a secret organization of people with supernatural abilities dedicated to maintaining order in the everyday chaos of hellsalem's lot. a ruthless arms dealer on a quixotic quest for world peace and a child soldier born into chaotic conflict. their lives will intertwine as they journey together through the seedy underbelly of the world's arms market. ohana matsumae is an energetic and wild teenager residing in tokyo with her carefree single mother. abruptly her mother decides to run away with her new boyfriend from debt collectors forcing the young girl to fend for herself as per her mother's rely only on yourself philosophy in rural japan where her cold grandmother runs a small inn. driven to adapt to the tranquil lifestyle of the countryside ohana experiences and deals with the challenges of working as a maid as well as meeting and making friends with enthralling people at her new school and the inn. nanginga eiyuu densetsu gaiden is the first of two ova adaptations of side stories from the ginga eiyuu densetsu novel series. this first adaptation follows the achievements of reinhard von m sel and siegfried kircheis of the galactic empire before the fateful battle of astarte. on the day of the tanabata festival shidou itsuka happens to meet the eerie kurumi tokisaki who proceeds to ask him out on a date. although nervous shidou accepts the offer. the two spend their time visiting to a planetarium buying food at the festival and trying out a mock wedding ceremony. meanwhile shirou's friends tooka yatogami yoshino and kotori itsuka are looking for him while also enjoying the festival themselves. ryo saeba works the streets of tokyo as the city hunter. he's a sweeper and with his sidekick kaori makimura he keeps the city clean. people hire the city hunter to solve their dangerous problems which he does with a colt python. when ryo's not working on a case he's working on getting the ladies and kaori must keep him in check with her trusty 10 kg hammer. nanishiyama high is a school populated entirely by delinquents where nonstop violence and lawlessness are the norm. however there is one universally acknowledged rule don't cross first year student tatsumi oga ishiyama's most vicious fighter. yakitate means fresh baked but the word japan is actually a pun pan means bread in japanese so kazuma is out to make japan a unique japanese bread to compete with the best bread from around the world. qian yunxi the oldest daughter of the prime minister was born with a special ability. because of this she was deemed 'abnormal' and was raised at mt. lin yun. upon turning 16 she took her younger sister's place to marry into the royal family of ye. rumors say ye youming is strange cold and cruel. just how will qian yunxi's fate play out. summer break has arrived but while his other classmates are out having fun kimihiro watanuki continues to work as compensation for the eccentric yuuko in her shop. with the spirits and supernatural phenomena that bother him lessening he pays his dues by cleaning cooking and doing whatever else the apparently lazy yuuko needs. in stern bild city those with special abilities are called next and can use their powers for good or bad. a unique organized group of next appear regularly on hero tv where they chase down evildoers to bring limelight to their sponsors and earn hero points in the hopes of becoming the next king of heroes. ovas of history's strongest disciple kenichi bundled with volumes 46 47 49 53 54 55 56 of the manga.eighteen year old tsukasa mizugaki has failed his college entrance exams but after pulling some strings he manages to land a job at the sion artificial intelligence corporation. sai corp is responsible for the creation of giftias highly advanced androids which are almost indiscernible from normal humans. however unlike humans giftias have a maximum lifespan of 81 920 hours or around nine years and four months. terminal service one the station tsukasa was assigned to is responsible for collecting giftias that have met their expiration date before they lose their memories and become hostile. an unaired episode of mini toji included on the dvd bd release.second macross frontier movie.after a mysterious spaceship crashes into earth humanity realizes that they are not alone. fearing a potential threat from space the world pushes aside their nationalism conflicting interests and cultural differences unifying under the banner of the united nations. the newly formed un forces decide to repurpose the alien spacecraft naming it sdf 1 macross. unfortunately on the day of its maiden voyage a fleet of spaceships belonging to a race of aliens known as the zentradi descend upon earth and the sdf 1 macross acting of its own accord shoots down the incoming squadron sparking an intergalactic war. in the new series lupin iii will travel to france the home of his grandfather and namesake maurice leblanc's master thief character ars ne lupin. born from a cocoon in the village of old home a young haibane a being with a halo and small gray wings awakens to a world she does not understand without memories of her past. named rakka for the dream of falling she had while inside the cocoon she soon becomes accustomed to life in the strange town. however there are strict rules for the haibane such as being forbidden to leave the village or go near the walls surrounding it. these along with mysterious disappearances of their kind on their day of flight begin to unsettle rakka and the others since they know almost nothing about their own kind. ai enma and her companions continue to offer their service of revenge against those who have wronged others and the price is as steep as ever for damning the offender to hell the person exacting vengeance is sent to the abyss as well. as they cast soul after soul into the darkness a new sinister force is watching them a little girl named kikuri. on christmas eve hiro hirono runs into miyako miyamura a frivolous girl who borrows his bicycle in order to chase down a purse thief. after hiro finds his bicycle wrecked and miyako unconscious the two unexpectedly spend their christmas eve together and when they discover they go to the same high school their accidental relationship develops even further. this sparks the jealousy of hiro's childhood friend kei shindou whose pure approach to life catches the eye of kyosuke tsutsumi a womanizing photographer searching for the perfect shot. after the conclusion of the sakura card arc life is going back to normal. there are no more mysteries no more disturbances of evil no more tests of strength. everyone is moving on with their lives and sakura feels a sadness in her heart. even through the goodbyes sakura perseveres to keep everyone and a special someone dear to her heart.the band of the hawk and their enigmatic leader griffith continue winning battle after battle as their prestige throughout the kingdom of midland grows. but their latest task is one that has seen failure from everyone who has attempted it the subjugation of the impenetrable fortress of doldrey. the second movie in the washio sumi no shou trilogy. third season of yuru yuri.yuu koito has always been entranced with romantic shoujo manga and the lyrics of love songs. she patiently waits for the wings of love to sprout and send her heart aflutter on the day that she finally receives a confession. yet when her classmate from junior high declares his love for her during their graduation she feels unexpectedly hollow. the realization hits her she understands romance as a concept but she is incapable of experiencing the feeling first hand. continuation of ushio to tora tv series.jim hawkins is a young boy lead by progressive events to embark on a search journey for the legendary treasure of the once dreaded pirate captain flint. on their way to treasure island john silver jim's best friend take over command of the ship revealing his true self as the ruthless pirate who once was the right hand of flint himself. feeling betrayed jim now has to deal with his mixed feelings and face silver who still consider himself and jim as friends. animated short with an original story that was screened alongside sekaiichi hatsukoi movie yokozawa takafumi no baai. most people think being born into a noble family means a life of comfort and wealth. that couldn't be further from the truth for shuurei kou. despite the kou family being an old and important bloodline they've fallen on hard times. shuurei's father works as an archivist in the imperial library which is a prestigious position but unfortunately not one that pays much. to put food on the table shuurei works odd jobs such as teaching young children or playing live music in a restaurant and even then it's barely enough. ren mihashi was the ace of his middle school's baseball team but due to his poor pitching they could never win. constant losses eventually lead to his teammates bullying him and reached the point where his teammates no longer tried to win causing mihashi to graduate with little self esteem. as a result mihashi decides to go to a high school in a different prefecture where he has no intention of playing baseball. unfortunately upon his arrival at nishiura high he is dragged into joining their new team as the starting pitcher. the words that gold roger the king of the pirates uttered just before his death excited the masses and the world has entered a great pirate era. there is a group of young pirates who are about to set sail on the grand line. monkey d. luffy a rubber man. roronoa zoro aka pirate hunter. usopp a sniper. sanji a seafaring cook. and cat burglar nami. they the straw hats all place a foot upon a barrel and make their vows before their next journey across the great ocean. luffy shouts in order to be the king of the pirates. a decade ago in the windmill village. a little boy luffy was enthralled with a pirate boss red haired shanks. but a group of mountain bandits shows up and makes fun of the pirates. why didn't you fight them. luffy yells out angrily but shanks says that it's nothing worth getting mad over. at that time luffy snatches the gum gum fruit from a treasure box and eats it and as a result his entire body becomes rubber and he loses the ability to swim for the rest of his life. a few days later luffy is surrounded by the mountain bandits again and shanks comes to help. no matter what the reason anyone who hurts my friends has to pay. shanks and his pirate crew are incredibly strong and they beat down the mountain bandits. higuma the head of the mountain bandits runs away kidnapping luffy and heads for the sea. however they encounter a local sea monster there and are attacked. luffy is in a desperate situation. but again shanks saves the day. he outstares the sea monster and chases it away but in exchange he loses his left arm. when shanks leaves the village he leaves his straw hat with luffy. come bring it back to me someday. once you've become a great pirate. 10 years later luffy has grown up strong and he sets out for an adventure on a small boat. he again encounters the local sea monster for that fateful day. however luffy takes it down with a single blow of gum gum pistol. luffy’s journey to become the king of the pirates now begins. after suffering great personal loss during the battle of marineford monkey d. luffy finds himself stranded on rusukaina a treacherous island crawling with huge and dangerous creatures. there he has committed himself to a two year stretch of training to learn haki the energy that combatants can use to grant themselves a variety of abilities in battle. for the takakura family destiny is an ever spinning wheel pointing passionately in their direction with equal tides of joy and sorrow before ticking on to the next wishmaker. with their parents gone twin brothers kanba and shouma live alone with their beloved little sister himari whose poor health cannot decline any further. to be quiet and do as you're told that's the cowardly choice. these are the words of junk dog an underground fighter of megalo box an evolution of boxing that utilizes mechanical limbs known as gear to enhance the speed and power of its users. despite the young man's brimming potential as a boxer the illegal nature of his participation forces him to make a living off of throwing matches as dictated by his boss gansaku nanbu. however this all changes when the megalo box champion yuuri enters his shabby ring under the guise of just another challenger. taken out in a single round junk dog is left with a challenge if you're serious about fighting me again then fight your way up to me and my ring. many patients with different problems visit the psychiatric ward of irabu general hospital. a trapeze artist suffering from insomnia after suddenly failing his jumps a gangster afraid of knives and sharp objects and a business man who has an erection 24 hours a day. they undergo counseling by dr. ichiro irabu who is the child like son of the hospital director. his assistant is the sullen faced sexy nurse mayumi. with his mysterious injections and advice that does not make sense dr. irabu confuses his patients. but at the end of his unique treatments the patients are led to digging further into their souls to find peace of mind. as a talented young acrobat sora has dreamed of sharing a stage with the performers of kaleido stage a world renowned circus that combines graceful acrobatics dazzling costumes and stunts that keep audiences on the edge of their seats. she makes the move from japan to california to audition for the show in hopes of one day basking in the glitz and glamour. remy a cheerful and tender hearted girl lives with her mother in a french country town. one day her father returns to the town after a long period working away from home in a city. her father tells remy that she isn't their real daughter and remy is almost sold to an evil slave trader. it is vitalis a strolling entertainer who helps remy. vitalis discovers her talent for singing and decides to take her in with his troupe. having attended mihama academy for about a year yuuji kazami has seemingly found his place within the school but he suddenly decides to pursue a promotion in cirs. after consulting jb about his intentions they both thoroughly examine yuuji's documents and dissect the events of his upbringing to determine if the job is fit for him. some of the characters get together and talk about regrets they have after 4 years of anime gintama. soon they fight over who gets more screen time. special animation shown at the gintama haru matsuri 2010 live event.the rare and inexplicable puberty syndrome is thought of as a myth. it is a rare disease which only affects teenagers and its symptoms are so supernatural that hardly anyone recognizes it as a legitimate occurrence. however high school student sakuta azusagawa knows from personal experience that it is very much real and happens to be quite prevalent in his school. \n"
     ]
    }
   ],
   "source": [
    "text = text.replace(\",\", \" \")\n",
    "text = text.replace(\":\", \" \")\n",
    "text = text.replace(\"-\", \" \")\n",
    "text = text.replace(\"—\", \" \")\n",
    "text = text.replace(\"―\", \" \")\n",
    "text = text.replace(\"―\", \" \")\n",
    "text = text.replace(\"[\", \" \")\n",
    "text = text.replace(\"]\", \" \")\n",
    "text = text.replace(\"(\", \" \")\n",
    "text = text.replace(\")\", \" \")\n",
    "text = text.replace(\"\\\"\", \" \")\n",
    "text = text.replace(\"“\", \" \")\n",
    "text = text.replace(\"”\", \" \")\n",
    "text = text.replace(\"\\r\", \" \")\n",
    "text = text.replace(\"☆\", \" \")\n",
    "text = text.replace(\"♪\", \" \")\n",
    "text = text.replace(\"/\", \" \")\n",
    "text = text.replace(\"~\", \" \")\n",
    "text = text.replace(\"&\", \" \")\n",
    "text = text.replace(\"*\", \" \")\n",
    "text = text.replace(\"è\", \" \")\n",
    "text = text.replace(\"é\", \" \")\n",
    "text = text.replace(\"ï\", \" \")\n",
    "text = text.replace(\"ü\", \" \")\n",
    "text = text.replace(\"μ\", \" \")\n",
    "\n",
    "text = text.replace(\"...\", \".\")\n",
    "text = text.replace(\"…\", \".\")\n",
    "text = text.replace(\"?\", \".\")\n",
    "text = text.replace(\"!\", \".\")\n",
    "text = text.replace(\";\", \".\")\n",
    "\n",
    "text = re.sub(r\"\\s+\", \" \", text)\n",
    "text = re.sub(r\" \\.\", \".\", text)\n",
    "text = re.sub(r\"\\.+\", \".\", text)\n",
    "\n",
    "print(text)"
   ],
   "metadata": {
    "collapsed": false
   }
  },
  {
   "cell_type": "code",
   "execution_count": 7,
   "outputs": [],
   "source": [
    "def split_text(ls):\n",
    "    char_to_index, index_to_char = {}, {}\n",
    "\n",
    "    for index, char in enumerate(ls):\n",
    "        char_to_index[char] = index\n",
    "        index_to_char[index] = char\n",
    "    return char_to_index, index_to_char"
   ],
   "metadata": {
    "collapsed": false
   }
  },
  {
   "cell_type": "markdown",
   "source": [
    "### LSTM"
   ],
   "metadata": {
    "collapsed": false
   }
  },
  {
   "cell_type": "code",
   "execution_count": 126,
   "outputs": [
    {
     "name": "stdout",
     "output_type": "stream",
     "text": [
      "{' ': 0, \"'\": 1, '.': 2, '0': 3, '1': 4, '2': 5, '3': 6, '4': 7, '5': 8, '6': 9, '7': 10, '8': 11, '9': 12, 'a': 13, 'b': 14, 'c': 15, 'd': 16, 'e': 17, 'f': 18, 'g': 19, 'h': 20, 'i': 21, 'j': 22, 'k': 23, 'l': 24, 'm': 25, 'n': 26, 'o': 27, 'p': 28, 'q': 29, 'r': 30, 's': 31, 't': 32, 'u': 33, 'v': 34, 'w': 35, 'x': 36, 'y': 37, 'z': 38, '’': 39}\n",
      "{0: ' ', 1: \"'\", 2: '.', 3: '0', 4: '1', 5: '2', 6: '3', 7: '4', 8: '5', 9: '6', 10: '7', 11: '8', 12: '9', 13: 'a', 14: 'b', 15: 'c', 16: 'd', 17: 'e', 18: 'f', 19: 'g', 20: 'h', 21: 'i', 22: 'j', 23: 'k', 24: 'l', 25: 'm', 26: 'n', 27: 'o', 28: 'p', 29: 'q', 30: 'r', 31: 's', 32: 't', 33: 'u', 34: 'v', 35: 'w', 36: 'x', 37: 'y', 38: 'z', 39: '’'}\n"
     ]
    }
   ],
   "source": [
    "text_chars = sorted(set(text))\n",
    "char_to_index, index_to_char = split_text(text_chars)\n",
    "print(char_to_index)\n",
    "print(index_to_char)"
   ],
   "metadata": {
    "collapsed": false
   }
  },
  {
   "cell_type": "code",
   "execution_count": 127,
   "outputs": [],
   "source": [
    "chain_length = 20\n",
    "dataX, dataY = [], []\n",
    "for sentence in text.split(\".\"):\n",
    "    for i in range(len(sentence) - chain_length):\n",
    "        dataX.append(sentence[i:i + chain_length])\n",
    "        dataY.append(sentence[i + chain_length])"
   ],
   "metadata": {
    "collapsed": false
   }
  },
  {
   "cell_type": "code",
   "execution_count": 128,
   "outputs": [
    {
     "name": "stdout",
     "output_type": "stream",
     "text": [
      "18 f\n"
     ]
    }
   ],
   "source": [
    "X, Y = np.zeros((len(dataX), chain_length, len(char_to_index))), np.zeros((len(dataX), len(char_to_index)))\n",
    "for i, sentence in enumerate(dataX):\n",
    "    for j, char in enumerate(sentence):\n",
    "        X[i, j, char_to_index[char]] = 1\n",
    "    Y[i, char_to_index[dataY[i]]] = 1\n",
    "\n",
    "print(np.argmax(X[0]), index_to_char[np.argmax(X[0])])"
   ],
   "metadata": {
    "collapsed": false
   }
  },
  {
   "cell_type": "code",
   "execution_count": 129,
   "outputs": [
    {
     "name": "stdout",
     "output_type": "stream",
     "text": [
      "(73073, 20, 40)\n"
     ]
    }
   ],
   "source": [
    "print(X.shape)"
   ],
   "metadata": {
    "collapsed": false
   }
  },
  {
   "cell_type": "code",
   "execution_count": 130,
   "outputs": [],
   "source": [
    "filepath = \"weights/weights-{epoch:02d}-{loss:.4f}.hdf5\"\n",
    "checkpoint = ModelCheckpoint(filepath, monitor=\"loss\", verbose=1, save_best_only=True, mode=\"min\")\n",
    "callbacks = [checkpoint]"
   ],
   "metadata": {
    "collapsed": false
   }
  },
  {
   "cell_type": "code",
   "execution_count": 131,
   "outputs": [
    {
     "name": "stdout",
     "output_type": "stream",
     "text": [
      "Epoch 1/30\n",
      "2282/2284 [============================>.] - ETA: 0s - loss: 2.4669\n",
      "Epoch 1: loss improved from inf to 2.46679, saving model to weights\\weights-01-2.4668.hdf5\n",
      "2284/2284 [==============================] - 44s 18ms/step - loss: 2.4668\n",
      "Epoch 2/30\n",
      "2283/2284 [============================>.] - ETA: 0s - loss: 2.1637\n",
      "Epoch 2: loss improved from 2.46679 to 2.16364, saving model to weights\\weights-02-2.1636.hdf5\n",
      "2284/2284 [==============================] - 44s 19ms/step - loss: 2.1636\n",
      "Epoch 3/30\n",
      "2283/2284 [============================>.] - ETA: 0s - loss: 2.0396\n",
      "Epoch 3: loss improved from 2.16364 to 2.03960, saving model to weights\\weights-03-2.0396.hdf5\n",
      "2284/2284 [==============================] - 43s 19ms/step - loss: 2.0396\n",
      "Epoch 4/30\n",
      "2284/2284 [==============================] - ETA: 0s - loss: 1.9442\n",
      "Epoch 4: loss improved from 2.03960 to 1.94423, saving model to weights\\weights-04-1.9442.hdf5\n",
      "2284/2284 [==============================] - 43s 19ms/step - loss: 1.9442\n",
      "Epoch 5/30\n",
      "2281/2284 [============================>.] - ETA: 0s - loss: 1.8641\n",
      "Epoch 5: loss improved from 1.94423 to 1.86411, saving model to weights\\weights-05-1.8641.hdf5\n",
      "2284/2284 [==============================] - 41s 18ms/step - loss: 1.8641\n",
      "Epoch 6/30\n",
      "2284/2284 [==============================] - ETA: 0s - loss: 1.7945\n",
      "Epoch 6: loss improved from 1.86411 to 1.79452, saving model to weights\\weights-06-1.7945.hdf5\n",
      "2284/2284 [==============================] - 46s 20ms/step - loss: 1.7945\n",
      "Epoch 7/30\n",
      "2283/2284 [============================>.] - ETA: 0s - loss: 1.7340\n",
      "Epoch 7: loss improved from 1.79452 to 1.73398, saving model to weights\\weights-07-1.7340.hdf5\n",
      "2284/2284 [==============================] - 46s 20ms/step - loss: 1.7340\n",
      "Epoch 8/30\n",
      "2284/2284 [==============================] - ETA: 0s - loss: 1.6781\n",
      "Epoch 8: loss improved from 1.73398 to 1.67811, saving model to weights\\weights-08-1.6781.hdf5\n",
      "2284/2284 [==============================] - 39s 17ms/step - loss: 1.6781\n",
      "Epoch 9/30\n",
      "2282/2284 [============================>.] - ETA: 0s - loss: 1.6274\n",
      "Epoch 9: loss improved from 1.67811 to 1.62756, saving model to weights\\weights-09-1.6276.hdf5\n",
      "2284/2284 [==============================] - 39s 17ms/step - loss: 1.6276\n",
      "Epoch 10/30\n",
      "2283/2284 [============================>.] - ETA: 0s - loss: 1.5794\n",
      "Epoch 10: loss improved from 1.62756 to 1.57938, saving model to weights\\weights-10-1.5794.hdf5\n",
      "2284/2284 [==============================] - 39s 17ms/step - loss: 1.5794\n",
      "Epoch 11/30\n",
      "2284/2284 [==============================] - ETA: 0s - loss: 1.5340\n",
      "Epoch 11: loss improved from 1.57938 to 1.53404, saving model to weights\\weights-11-1.5340.hdf5\n",
      "2284/2284 [==============================] - 39s 17ms/step - loss: 1.5340\n",
      "Epoch 12/30\n",
      "2284/2284 [==============================] - ETA: 0s - loss: 1.4918\n",
      "Epoch 12: loss improved from 1.53404 to 1.49180, saving model to weights\\weights-12-1.4918.hdf5\n",
      "2284/2284 [==============================] - 48s 21ms/step - loss: 1.4918\n",
      "Epoch 13/30\n",
      "2283/2284 [============================>.] - ETA: 0s - loss: 1.4521\n",
      "Epoch 13: loss improved from 1.49180 to 1.45207, saving model to weights\\weights-13-1.4521.hdf5\n",
      "2284/2284 [==============================] - 53s 23ms/step - loss: 1.4521\n",
      "Epoch 14/30\n",
      "2282/2284 [============================>.] - ETA: 0s - loss: 1.4139\n",
      "Epoch 14: loss improved from 1.45207 to 1.41383, saving model to weights\\weights-14-1.4138.hdf5\n",
      "2284/2284 [==============================] - 55s 24ms/step - loss: 1.4138\n",
      "Epoch 15/30\n",
      "2284/2284 [==============================] - ETA: 0s - loss: 1.3779\n",
      "Epoch 15: loss improved from 1.41383 to 1.37794, saving model to weights\\weights-15-1.3779.hdf5\n",
      "2284/2284 [==============================] - 52s 23ms/step - loss: 1.3779\n",
      "Epoch 16/30\n",
      "2282/2284 [============================>.] - ETA: 0s - loss: 1.3433\n",
      "Epoch 16: loss improved from 1.37794 to 1.34347, saving model to weights\\weights-16-1.3435.hdf5\n",
      "2284/2284 [==============================] - 50s 22ms/step - loss: 1.3435\n",
      "Epoch 17/30\n",
      "2284/2284 [==============================] - ETA: 0s - loss: 1.3082\n",
      "Epoch 17: loss improved from 1.34347 to 1.30817, saving model to weights\\weights-17-1.3082.hdf5\n",
      "2284/2284 [==============================] - 49s 22ms/step - loss: 1.3082\n",
      "Epoch 18/30\n",
      "2284/2284 [==============================] - ETA: 0s - loss: 1.2780\n",
      "Epoch 18: loss improved from 1.30817 to 1.27796, saving model to weights\\weights-18-1.2780.hdf5\n",
      "2284/2284 [==============================] - 52s 23ms/step - loss: 1.2780\n",
      "Epoch 19/30\n",
      "2283/2284 [============================>.] - ETA: 0s - loss: 1.2460\n",
      "Epoch 19: loss improved from 1.27796 to 1.24610, saving model to weights\\weights-19-1.2461.hdf5\n",
      "2284/2284 [==============================] - 53s 23ms/step - loss: 1.2461\n",
      "Epoch 20/30\n",
      "2283/2284 [============================>.] - ETA: 0s - loss: 1.2154\n",
      "Epoch 20: loss improved from 1.24610 to 1.21533, saving model to weights\\weights-20-1.2153.hdf5\n",
      "2284/2284 [==============================] - 51s 23ms/step - loss: 1.2153\n",
      "Epoch 21/30\n",
      "2284/2284 [==============================] - ETA: 0s - loss: 1.1881\n",
      "Epoch 21: loss improved from 1.21533 to 1.18810, saving model to weights\\weights-21-1.1881.hdf5\n",
      "2284/2284 [==============================] - 51s 22ms/step - loss: 1.1881\n",
      "Epoch 22/30\n",
      "2284/2284 [==============================] - ETA: 0s - loss: 1.1627\n",
      "Epoch 22: loss improved from 1.18810 to 1.16266, saving model to weights\\weights-22-1.1627.hdf5\n",
      "2284/2284 [==============================] - 56s 25ms/step - loss: 1.1627\n",
      "Epoch 23/30\n",
      "2281/2284 [============================>.] - ETA: 0s - loss: 1.1346\n",
      "Epoch 23: loss improved from 1.16266 to 1.13446, saving model to weights\\weights-23-1.1345.hdf5\n",
      "2284/2284 [==============================] - 56s 24ms/step - loss: 1.1345\n",
      "Epoch 24/30\n",
      "2284/2284 [==============================] - ETA: 0s - loss: 1.1104\n",
      "Epoch 24: loss improved from 1.13446 to 1.11041, saving model to weights\\weights-24-1.1104.hdf5\n",
      "2284/2284 [==============================] - 52s 23ms/step - loss: 1.1104\n",
      "Epoch 25/30\n",
      "2281/2284 [============================>.] - ETA: 0s - loss: 1.0856\n",
      "Epoch 25: loss improved from 1.11041 to 1.08546, saving model to weights\\weights-25-1.0855.hdf5\n",
      "2284/2284 [==============================] - 55s 24ms/step - loss: 1.0855\n",
      "Epoch 26/30\n",
      "2282/2284 [============================>.] - ETA: 0s - loss: 1.0635\n",
      "Epoch 26: loss improved from 1.08546 to 1.06357, saving model to weights\\weights-26-1.0636.hdf5\n",
      "2284/2284 [==============================] - 51s 22ms/step - loss: 1.0636\n",
      "Epoch 27/30\n",
      "2283/2284 [============================>.] - ETA: 0s - loss: 1.0417\n",
      "Epoch 27: loss improved from 1.06357 to 1.04166, saving model to weights\\weights-27-1.0417.hdf5\n",
      "2284/2284 [==============================] - 49s 22ms/step - loss: 1.0417\n",
      "Epoch 28/30\n",
      "2283/2284 [============================>.] - ETA: 0s - loss: 1.0209\n",
      "Epoch 28: loss improved from 1.04166 to 1.02084, saving model to weights\\weights-28-1.0208.hdf5\n",
      "2284/2284 [==============================] - 42s 18ms/step - loss: 1.0208\n",
      "Epoch 29/30\n",
      "2283/2284 [============================>.] - ETA: 0s - loss: 1.0038\n",
      "Epoch 29: loss improved from 1.02084 to 1.00380, saving model to weights\\weights-29-1.0038.hdf5\n",
      "2284/2284 [==============================] - 51s 22ms/step - loss: 1.0038\n",
      "Epoch 30/30\n",
      "2281/2284 [============================>.] - ETA: 0s - loss: 0.9848\n",
      "Epoch 30: loss improved from 1.00380 to 0.98522, saving model to weights\\weights-30-0.9852.hdf5\n",
      "2284/2284 [==============================] - 57s 25ms/step - loss: 0.9852\n",
      "Model: \"sequential_2\"\n",
      "_________________________________________________________________\n",
      " Layer (type)                Output Shape              Param #   \n",
      "=================================================================\n",
      " lstm_6 (LSTM)               (None, 128)               86528     \n",
      "                                                                 \n",
      " dense_6 (Dense)             (None, 40)                5160      \n",
      "                                                                 \n",
      "=================================================================\n",
      "Total params: 91,688\n",
      "Trainable params: 91,688\n",
      "Non-trainable params: 0\n",
      "_________________________________________________________________\n"
     ]
    }
   ],
   "source": [
    "model = keras.Sequential()\n",
    "model.add(LSTM(128, input_shape=(X.shape[1], X.shape[2])))\n",
    "model.add(Dense(Y.shape[1], activation=\"softmax\"))\n",
    "model.compile(optimizer=\"adam\", loss=\"categorical_crossentropy\")\n",
    "model.fit(X, Y, epochs=30, callbacks=callbacks)\n",
    "model.summary()"
   ],
   "metadata": {
    "collapsed": false
   }
  },
  {
   "cell_type": "code",
   "execution_count": 132,
   "outputs": [
    {
     "name": "stdout",
     "output_type": "stream",
     "text": [
      "1/1 [==============================] - 1s 910ms/step\n",
      "1/1 [==============================] - 0s 27ms/step\n",
      "1/1 [==============================] - 0s 28ms/step\n",
      "1/1 [==============================] - 0s 28ms/step\n",
      "1/1 [==============================] - 0s 27ms/step\n",
      "1/1 [==============================] - 0s 26ms/step\n",
      "1/1 [==============================] - 0s 52ms/step\n",
      "1/1 [==============================] - 0s 31ms/step\n",
      "1/1 [==============================] - 0s 37ms/step\n",
      "1/1 [==============================] - 0s 28ms/step\n",
      "1/1 [==============================] - 0s 37ms/step\n",
      "1/1 [==============================] - 0s 32ms/step\n",
      "1/1 [==============================] - 0s 41ms/step\n",
      "1/1 [==============================] - 0s 31ms/step\n",
      "1/1 [==============================] - 0s 35ms/step\n",
      "1/1 [==============================] - 0s 30ms/step\n",
      "1/1 [==============================] - 0s 28ms/step\n",
      "1/1 [==============================] - 0s 25ms/step\n",
      "1/1 [==============================] - 0s 25ms/step\n",
      "1/1 [==============================] - 0s 24ms/step\n",
      "1/1 [==============================] - 0s 24ms/step\n",
      "1/1 [==============================] - 0s 24ms/step\n",
      "1/1 [==============================] - 0s 23ms/step\n",
      "1/1 [==============================] - 0s 24ms/step\n",
      "1/1 [==============================] - 0s 23ms/step\n",
      "1/1 [==============================] - 0s 23ms/step\n",
      "1/1 [==============================] - 0s 24ms/step\n",
      "1/1 [==============================] - 0s 24ms/step\n",
      "1/1 [==============================] - 0s 22ms/step\n",
      "1/1 [==============================] - 0s 25ms/step\n",
      "1/1 [==============================] - 0s 26ms/step\n",
      "1/1 [==============================] - 0s 22ms/step\n",
      "1/1 [==============================] - 0s 22ms/step\n",
      "1/1 [==============================] - 0s 32ms/step\n",
      "1/1 [==============================] - 0s 26ms/step\n",
      "1/1 [==============================] - 0s 28ms/step\n",
      "1/1 [==============================] - 0s 29ms/step\n",
      "1/1 [==============================] - 0s 29ms/step\n",
      "1/1 [==============================] - 0s 29ms/step\n",
      "1/1 [==============================] - 0s 30ms/step\n",
      "1/1 [==============================] - 0s 25ms/step\n",
      "1/1 [==============================] - 0s 25ms/step\n",
      "1/1 [==============================] - 0s 32ms/step\n",
      "1/1 [==============================] - 0s 24ms/step\n",
      "1/1 [==============================] - 0s 25ms/step\n",
      "1/1 [==============================] - 0s 28ms/step\n",
      "1/1 [==============================] - 0s 28ms/step\n",
      "1/1 [==============================] - 0s 26ms/step\n",
      "1/1 [==============================] - 0s 27ms/step\n",
      "1/1 [==============================] - 0s 31ms/step\n",
      "Pattern: mai sakurajima is a \n",
      "Prediction: mai sakurajima is a stapping the second which such as the mories more \n",
      "-----------------\n",
      "1/1 [==============================] - 0s 32ms/step\n",
      "1/1 [==============================] - 0s 28ms/step\n",
      "1/1 [==============================] - 0s 24ms/step\n",
      "1/1 [==============================] - 0s 27ms/step\n",
      "1/1 [==============================] - 0s 31ms/step\n",
      "1/1 [==============================] - 0s 24ms/step\n",
      "1/1 [==============================] - 0s 24ms/step\n",
      "1/1 [==============================] - 0s 29ms/step\n",
      "1/1 [==============================] - 0s 31ms/step\n",
      "1/1 [==============================] - 0s 22ms/step\n",
      "1/1 [==============================] - 0s 28ms/step\n",
      "1/1 [==============================] - 0s 24ms/step\n",
      "1/1 [==============================] - 0s 23ms/step\n",
      "1/1 [==============================] - 0s 23ms/step\n",
      "1/1 [==============================] - 0s 23ms/step\n",
      "1/1 [==============================] - 0s 23ms/step\n",
      "1/1 [==============================] - 0s 27ms/step\n",
      "1/1 [==============================] - 0s 23ms/step\n",
      "1/1 [==============================] - 0s 23ms/step\n",
      "1/1 [==============================] - 0s 24ms/step\n",
      "1/1 [==============================] - 0s 23ms/step\n",
      "1/1 [==============================] - 0s 23ms/step\n",
      "1/1 [==============================] - 0s 25ms/step\n",
      "1/1 [==============================] - 0s 26ms/step\n",
      "1/1 [==============================] - 0s 24ms/step\n",
      "1/1 [==============================] - 0s 27ms/step\n",
      "1/1 [==============================] - 0s 22ms/step\n",
      "1/1 [==============================] - 0s 79ms/step\n",
      "1/1 [==============================] - 0s 24ms/step\n",
      "1/1 [==============================] - 0s 25ms/step\n",
      "1/1 [==============================] - 0s 27ms/step\n",
      "1/1 [==============================] - 0s 24ms/step\n",
      "1/1 [==============================] - 0s 23ms/step\n",
      "1/1 [==============================] - 0s 24ms/step\n",
      "1/1 [==============================] - 0s 22ms/step\n",
      "1/1 [==============================] - 0s 22ms/step\n",
      "1/1 [==============================] - 0s 24ms/step\n",
      "1/1 [==============================] - 0s 27ms/step\n",
      "1/1 [==============================] - 0s 27ms/step\n",
      "1/1 [==============================] - 0s 24ms/step\n",
      "1/1 [==============================] - 0s 22ms/step\n",
      "1/1 [==============================] - 0s 23ms/step\n",
      "1/1 [==============================] - 0s 34ms/step\n",
      "1/1 [==============================] - 0s 23ms/step\n",
      "1/1 [==============================] - 0s 30ms/step\n",
      "1/1 [==============================] - 0s 23ms/step\n",
      "1/1 [==============================] - 0s 23ms/step\n",
      "1/1 [==============================] - 0s 23ms/step\n",
      "1/1 [==============================] - 0s 23ms/step\n",
      "1/1 [==============================] - 0s 27ms/step\n",
      "Pattern: kiyotaka ayanokouji \n",
      "Prediction: kiyotaka ayanokouji for the manga which he is an a come tragini akima \n",
      "-----------------\n",
      "1/1 [==============================] - 0s 28ms/step\n",
      "1/1 [==============================] - 0s 29ms/step\n",
      "1/1 [==============================] - 0s 22ms/step\n",
      "1/1 [==============================] - 0s 25ms/step\n",
      "1/1 [==============================] - 0s 26ms/step\n",
      "1/1 [==============================] - 0s 23ms/step\n",
      "1/1 [==============================] - 0s 26ms/step\n",
      "1/1 [==============================] - 0s 22ms/step\n",
      "1/1 [==============================] - 0s 23ms/step\n",
      "1/1 [==============================] - 0s 23ms/step\n",
      "1/1 [==============================] - 0s 22ms/step\n",
      "1/1 [==============================] - 0s 22ms/step\n",
      "1/1 [==============================] - 0s 22ms/step\n",
      "1/1 [==============================] - 0s 23ms/step\n",
      "1/1 [==============================] - 0s 27ms/step\n",
      "1/1 [==============================] - 0s 23ms/step\n",
      "1/1 [==============================] - 0s 22ms/step\n",
      "1/1 [==============================] - 0s 24ms/step\n",
      "1/1 [==============================] - 0s 21ms/step\n",
      "1/1 [==============================] - 0s 23ms/step\n",
      "1/1 [==============================] - 0s 23ms/step\n",
      "1/1 [==============================] - 0s 23ms/step\n",
      "1/1 [==============================] - 0s 25ms/step\n",
      "1/1 [==============================] - 0s 24ms/step\n",
      "1/1 [==============================] - 0s 27ms/step\n",
      "1/1 [==============================] - 0s 23ms/step\n",
      "1/1 [==============================] - 0s 23ms/step\n",
      "1/1 [==============================] - 0s 23ms/step\n",
      "1/1 [==============================] - 0s 24ms/step\n",
      "1/1 [==============================] - 0s 25ms/step\n",
      "1/1 [==============================] - 0s 23ms/step\n",
      "1/1 [==============================] - 0s 21ms/step\n",
      "1/1 [==============================] - 0s 23ms/step\n",
      "1/1 [==============================] - 0s 24ms/step\n",
      "1/1 [==============================] - 0s 23ms/step\n",
      "1/1 [==============================] - 0s 24ms/step\n",
      "1/1 [==============================] - 0s 24ms/step\n",
      "1/1 [==============================] - 0s 22ms/step\n",
      "1/1 [==============================] - 0s 22ms/step\n",
      "1/1 [==============================] - 0s 21ms/step\n",
      "1/1 [==============================] - 0s 22ms/step\n",
      "1/1 [==============================] - 0s 22ms/step\n",
      "1/1 [==============================] - 0s 23ms/step\n",
      "1/1 [==============================] - 0s 24ms/step\n",
      "1/1 [==============================] - 0s 25ms/step\n",
      "1/1 [==============================] - 0s 24ms/step\n",
      "1/1 [==============================] - 0s 24ms/step\n",
      "1/1 [==============================] - 0s 27ms/step\n",
      "1/1 [==============================] - 0s 23ms/step\n",
      "1/1 [==============================] - 0s 28ms/step\n",
      "Pattern: nao tomori catches y\n",
      "Prediction: nao tomori catches year studen for the magical body him to has enthrea\n",
      "-----------------\n",
      "1/1 [==============================] - 0s 23ms/step\n",
      "1/1 [==============================] - 0s 25ms/step\n",
      "1/1 [==============================] - 0s 29ms/step\n",
      "1/1 [==============================] - 0s 29ms/step\n",
      "1/1 [==============================] - 0s 24ms/step\n",
      "1/1 [==============================] - 0s 23ms/step\n",
      "1/1 [==============================] - 0s 23ms/step\n",
      "1/1 [==============================] - 0s 23ms/step\n",
      "1/1 [==============================] - 0s 29ms/step\n",
      "1/1 [==============================] - 0s 23ms/step\n",
      "1/1 [==============================] - 0s 24ms/step\n",
      "1/1 [==============================] - 0s 23ms/step\n",
      "1/1 [==============================] - 0s 32ms/step\n",
      "1/1 [==============================] - 0s 28ms/step\n",
      "1/1 [==============================] - 0s 25ms/step\n",
      "1/1 [==============================] - 0s 27ms/step\n",
      "1/1 [==============================] - 0s 30ms/step\n",
      "1/1 [==============================] - 0s 25ms/step\n",
      "1/1 [==============================] - 0s 25ms/step\n",
      "1/1 [==============================] - 0s 25ms/step\n",
      "1/1 [==============================] - 0s 24ms/step\n",
      "1/1 [==============================] - 0s 27ms/step\n",
      "1/1 [==============================] - 0s 50ms/step\n",
      "1/1 [==============================] - 0s 24ms/step\n",
      "1/1 [==============================] - 0s 25ms/step\n",
      "1/1 [==============================] - 0s 24ms/step\n",
      "1/1 [==============================] - 0s 24ms/step\n",
      "1/1 [==============================] - 0s 25ms/step\n",
      "1/1 [==============================] - 0s 24ms/step\n",
      "1/1 [==============================] - 0s 24ms/step\n",
      "1/1 [==============================] - 0s 25ms/step\n",
      "1/1 [==============================] - 0s 24ms/step\n",
      "1/1 [==============================] - 0s 24ms/step\n",
      "1/1 [==============================] - 0s 23ms/step\n",
      "1/1 [==============================] - 0s 22ms/step\n",
      "1/1 [==============================] - 0s 25ms/step\n",
      "1/1 [==============================] - 0s 31ms/step\n",
      "1/1 [==============================] - 0s 26ms/step\n",
      "1/1 [==============================] - 0s 24ms/step\n",
      "1/1 [==============================] - 0s 28ms/step\n",
      "1/1 [==============================] - 0s 34ms/step\n",
      "1/1 [==============================] - 0s 36ms/step\n",
      "1/1 [==============================] - 0s 36ms/step\n",
      "1/1 [==============================] - 0s 32ms/step\n",
      "1/1 [==============================] - 0s 34ms/step\n",
      "1/1 [==============================] - 0s 28ms/step\n",
      "1/1 [==============================] - 0s 30ms/step\n",
      "1/1 [==============================] - 0s 28ms/step\n",
      "1/1 [==============================] - 0s 25ms/step\n",
      "1/1 [==============================] - 0s 25ms/step\n",
      "Pattern: saitama has a rather\n",
      "Prediction: saitama has a rather raishu kid a cades of the manga release of the sh\n",
      "-----------------\n",
      "1/1 [==============================] - 0s 29ms/step\n",
      "1/1 [==============================] - 0s 24ms/step\n",
      "1/1 [==============================] - 0s 24ms/step\n",
      "1/1 [==============================] - 0s 25ms/step\n",
      "1/1 [==============================] - 0s 26ms/step\n",
      "1/1 [==============================] - 0s 23ms/step\n",
      "1/1 [==============================] - 0s 24ms/step\n",
      "1/1 [==============================] - 0s 25ms/step\n",
      "1/1 [==============================] - 0s 23ms/step\n",
      "1/1 [==============================] - 0s 23ms/step\n",
      "1/1 [==============================] - 0s 26ms/step\n",
      "1/1 [==============================] - 0s 24ms/step\n",
      "1/1 [==============================] - 0s 25ms/step\n",
      "1/1 [==============================] - 0s 24ms/step\n",
      "1/1 [==============================] - 0s 25ms/step\n",
      "1/1 [==============================] - 0s 23ms/step\n",
      "1/1 [==============================] - 0s 23ms/step\n",
      "1/1 [==============================] - 0s 22ms/step\n",
      "1/1 [==============================] - 0s 27ms/step\n",
      "1/1 [==============================] - 0s 22ms/step\n",
      "1/1 [==============================] - 0s 22ms/step\n",
      "1/1 [==============================] - 0s 22ms/step\n",
      "1/1 [==============================] - 0s 27ms/step\n",
      "1/1 [==============================] - 0s 22ms/step\n",
      "1/1 [==============================] - 0s 23ms/step\n",
      "1/1 [==============================] - 0s 23ms/step\n",
      "1/1 [==============================] - 0s 22ms/step\n",
      "1/1 [==============================] - 0s 23ms/step\n",
      "1/1 [==============================] - 0s 27ms/step\n",
      "1/1 [==============================] - 0s 25ms/step\n",
      "1/1 [==============================] - 0s 24ms/step\n",
      "1/1 [==============================] - 0s 22ms/step\n",
      "1/1 [==============================] - 0s 28ms/step\n",
      "1/1 [==============================] - 0s 22ms/step\n",
      "1/1 [==============================] - 0s 22ms/step\n",
      "1/1 [==============================] - 0s 26ms/step\n",
      "1/1 [==============================] - 0s 27ms/step\n",
      "1/1 [==============================] - 0s 23ms/step\n",
      "1/1 [==============================] - 0s 29ms/step\n",
      "1/1 [==============================] - 0s 23ms/step\n",
      "1/1 [==============================] - 0s 23ms/step\n",
      "1/1 [==============================] - 0s 23ms/step\n",
      "1/1 [==============================] - 0s 26ms/step\n",
      "1/1 [==============================] - 0s 26ms/step\n",
      "1/1 [==============================] - 0s 31ms/step\n",
      "1/1 [==============================] - 0s 23ms/step\n",
      "1/1 [==============================] - 0s 22ms/step\n",
      "1/1 [==============================] - 0s 22ms/step\n",
      "1/1 [==============================] - 0s 22ms/step\n",
      "1/1 [==============================] - 0s 24ms/step\n",
      "Pattern: hirasawa yui a young\n",
      "Prediction: hirasawa yui a young consident them on the shout up non the subjugatio\n",
      "-----------------\n"
     ]
    }
   ],
   "source": [
    "for pattern in [\n",
    "    \"mai sakurajima is a \",\n",
    "    \"kiyotaka ayanokouji \",\n",
    "    \"nao tomori catches y\",\n",
    "    \"saitama has a rather\",\n",
    "    \"hirasawa yui a young\"\n",
    "]:\n",
    "    start_pattern = pattern\n",
    "    result = pattern\n",
    "    for _ in range(50):\n",
    "        x = np.zeros((1, chain_length, len(text_chars)))\n",
    "        for i, char in enumerate(pattern):\n",
    "            x[0, i, char_to_index[char]] = 1\n",
    "        next = index_to_char[np.argmax(model.predict(x))]\n",
    "        pattern = pattern[1:] + next\n",
    "        result += next\n",
    "    print(f\"Pattern: {start_pattern}\")\n",
    "    print(f\"Prediction: {result}\")\n",
    "    print(\"-----------------\")"
   ],
   "metadata": {
    "collapsed": false
   }
  },
  {
   "cell_type": "markdown",
   "source": [
    "### Markov"
   ],
   "metadata": {
    "collapsed": false
   }
  },
  {
   "cell_type": "code",
   "execution_count": 133,
   "outputs": [],
   "source": [
    "chain_length = 20\n",
    "sequences = [text[i:i + chain_length] for i in range(0, len(text) - chain_length)]\n",
    "unique_sequences = sorted(set(sequences))\n",
    "\n",
    "gram_to_index, _ = split_text(unique_sequences)\n",
    "\n",
    "chain = np.zeros((len(unique_sequences), len(char_to_index)))\n",
    "for i, seq in enumerate(sequences):\n",
    "    chain[gram_to_index[seq], char_to_index[text[i + chain_length]]] += 1\n",
    "\n",
    "for i in range(len(unique_sequences)):\n",
    "    chain[i] /= chain[i].sum()"
   ],
   "metadata": {
    "collapsed": false
   }
  },
  {
   "cell_type": "code",
   "execution_count": 137,
   "outputs": [
    {
     "name": "stdout",
     "output_type": "stream",
     "text": [
      "Pattern:  singing and decides\n",
      "Prediction:  singing and decides to take her in with his troupe. having attended m\n"
     ]
    }
   ],
   "source": [
    "index = np.random.randint(0, len(text) - chain_length - 1)\n",
    "pattern = text[index: index + chain_length]\n",
    "start_pattern = pattern\n",
    "result = pattern\n",
    "for _ in range(50):\n",
    "    probabilities = chain[gram_to_index[pattern]]\n",
    "    next = index_to_char[np.random.choice(a=np.arange(len(probabilities)), p=probabilities)]\n",
    "    result += next\n",
    "    pattern = pattern[1:] + next\n",
    "print(f\"Pattern: {start_pattern}\")\n",
    "print(f\"Prediction: {result}\")"
   ],
   "metadata": {
    "collapsed": false
   }
  }
 ],
 "metadata": {
  "kernelspec": {
   "display_name": "Python 3",
   "language": "python",
   "name": "python3"
  },
  "language_info": {
   "codemirror_mode": {
    "name": "ipython",
    "version": 3
   },
   "file_extension": ".py",
   "mimetype": "text/x-python",
   "name": "python",
   "nbconvert_exporter": "python",
   "pygments_lexer": "ipython3",
   "version": "3.8.2"
  },
  "colab": {
   "name": "Lab-1.ipynb",
   "provenance": [],
   "collapsed_sections": []
  }
 },
 "nbformat": 4,
 "nbformat_minor": 5
}
