{
 "cells": [
  {
   "cell_type": "code",
   "execution_count": 80,
   "metadata": {
    "collapsed": true
   },
   "outputs": [],
   "source": [
    "import pandas as pd\n",
    "from sklearn.metrics import accuracy_score\n",
    "from sklearn.svm import SVC\n",
    "from sklearn.model_selection import train_test_split\n",
    "from sklearn.feature_extraction.text import TfidfVectorizer\n",
    "from sklearn.neighbors import KNeighborsClassifier\n",
    "from sklearn.ensemble import RandomForestClassifier, AdaBoostRegressor\n",
    "from sklearn.feature_selection import RFE, SelectFromModel, SelectKBest, chi2"
   ]
  },
  {
   "cell_type": "code",
   "execution_count": 81,
   "outputs": [],
   "source": [
    "data = pd.read_csv(\"data/SMS.tsv\", delimiter=\"\\t\")"
   ],
   "metadata": {
    "collapsed": false
   }
  },
  {
   "cell_type": "code",
   "execution_count": 82,
   "outputs": [],
   "source": [
    "vectorizer = TfidfVectorizer(stop_words=\"english\", max_features=50)\n",
    "X = vectorizer.fit_transform(data[\"text\"].drop(columns=[\"class\"]))\n",
    "X, Y = pd.DataFrame(X.toarray(), columns=vectorizer.get_feature_names_out()), data[\"class\"].apply(str).apply(\n",
    "    lambda x: int(x == \"spam\"))"
   ],
   "metadata": {
    "collapsed": false
   }
  },
  {
   "cell_type": "code",
   "execution_count": 83,
   "outputs": [],
   "source": [
    "X_train, X_test, Y_train, Y_test = train_test_split(X, Y, test_size=0.2, random_state=42)"
   ],
   "metadata": {
    "collapsed": false
   }
  },
  {
   "cell_type": "markdown",
   "source": [
    "### Фильтрующий метод"
   ],
   "metadata": {
    "collapsed": false
   }
  },
  {
   "cell_type": "code",
   "execution_count": 84,
   "outputs": [
    {
     "name": "stdout",
     "output_type": "stream",
     "text": [
      "txt\n",
      "free\n",
      "claim\n",
      "mobile\n",
      "reply\n",
      "stop\n",
      "text\n",
      "new\n",
      "ur\n",
      "week\n",
      "msg\n",
      "send\n",
      "gt\n",
      "lt\n",
      "ok\n",
      "phone\n",
      "ll\n",
      "come\n",
      "home\n",
      "lor\n",
      "got\n",
      "later\n",
      "da\n",
      "sorry\n",
      "oh\n",
      "love\n",
      "good\n",
      "going\n",
      "wat\n",
      "did\n"
     ]
    }
   ],
   "source": [
    "words = {i: abs(Y_train.corr(X_train[i])) for i in X_train.columns}\n",
    "filter_result = [key for key, _ in sorted(words.items(), key=lambda item: item[1], reverse=True)][:30]\n",
    "print(\"\\n\".join(filter_result))"
   ],
   "metadata": {
    "collapsed": false
   }
  },
  {
   "cell_type": "markdown",
   "source": [
    "### Метод-обертка"
   ],
   "metadata": {
    "collapsed": false
   }
  },
  {
   "cell_type": "code",
   "execution_count": 85,
   "outputs": [],
   "source": [
    "knn = KNeighborsClassifier(n_neighbors=5)\n",
    "wrapper_result = []\n",
    "for i in range(30):\n",
    "    scores = {}\n",
    "    for chunk in X_train:\n",
    "        train, test = pd.DataFrame(X_train, columns=wrapper_result), pd.DataFrame(X_test, columns=wrapper_result)\n",
    "        train[chunk], test[chunk] = X_train[chunk], X_test[chunk]\n",
    "\n",
    "        knn.fit(train.values, Y_train)\n",
    "\n",
    "        scores[chunk] = accuracy_score(Y_test, knn.predict(test.values))\n",
    "    for key, _ in sorted(scores.items(), key=lambda item: item[1], reverse=True):\n",
    "        if key not in wrapper_result:\n",
    "            wrapper_result.append(key)\n",
    "            break"
   ],
   "metadata": {
    "collapsed": false
   }
  },
  {
   "cell_type": "code",
   "execution_count": 86,
   "outputs": [
    {
     "name": "stdout",
     "output_type": "stream",
     "text": [
      "txt\n",
      "claim\n",
      "mobile\n",
      "text\n",
      "hope\n",
      "msg\n",
      "come\n",
      "gt\n",
      "stop\n",
      "going\n",
      "ll\n",
      "da\n",
      "dear\n",
      "did\n",
      "free\n",
      "day\n",
      "good\n",
      "great\n",
      "hey\n",
      "lor\n",
      "dont\n",
      "happy\n",
      "home\n",
      "later\n",
      "love\n",
      "lt\n",
      "need\n",
      "night\n",
      "oh\n",
      "ok\n"
     ]
    }
   ],
   "source": [
    "print(\"\\n\".join(wrapper_result))"
   ],
   "metadata": {
    "collapsed": false
   }
  },
  {
   "cell_type": "markdown",
   "source": [
    "### Встроенный метод"
   ],
   "metadata": {
    "collapsed": false
   }
  },
  {
   "cell_type": "code",
   "execution_count": 87,
   "outputs": [],
   "source": [
    "rfc = RandomForestClassifier()\n",
    "rfc.fit(X_train, Y_train)\n",
    "res_pairs = sorted([(rfc.feature_importances_[i], X.columns[i]) for i in range(len(X.columns))], key=lambda x: x[0],\n",
    "                   reverse=True)"
   ],
   "metadata": {
    "collapsed": false
   }
  },
  {
   "cell_type": "code",
   "execution_count": 88,
   "outputs": [
    {
     "name": "stdout",
     "output_type": "stream",
     "text": [
      "claim\n",
      "txt\n",
      "free\n",
      "mobile\n",
      "reply\n",
      "stop\n",
      "text\n",
      "new\n",
      "send\n",
      "ur\n",
      "msg\n",
      "phone\n",
      "week\n",
      "just\n",
      "time\n",
      "got\n",
      "ll\n",
      "ok\n",
      "know\n",
      "pls\n",
      "like\n",
      "day\n",
      "hi\n",
      "love\n",
      "today\n",
      "good\n",
      "want\n",
      "lt\n",
      "gt\n",
      "don\n"
     ]
    }
   ],
   "source": [
    "random_forest_result = [j for _, j in res_pairs][:30]\n",
    "print(\"\\n\".join(random_forest_result))"
   ],
   "metadata": {
    "collapsed": false
   }
  },
  {
   "cell_type": "markdown",
   "source": [
    "### Библиотечные методы"
   ],
   "metadata": {
    "collapsed": false
   }
  },
  {
   "cell_type": "code",
   "execution_count": 89,
   "outputs": [
    {
     "data": {
      "text/plain": "array([[0.        , 0.        , 0.        , ..., 0.        , 0.        ,\n        0.        ],\n       [0.        , 0.        , 0.        , ..., 0.        , 0.        ,\n        0.        ],\n       [0.        , 0.66833948, 0.        , ..., 0.        , 0.        ,\n        0.        ],\n       ...,\n       [0.        , 0.        , 0.        , ..., 0.        , 0.        ,\n        0.        ],\n       [0.        , 0.        , 0.        , ..., 0.        , 0.        ,\n        0.        ],\n       [0.        , 0.        , 0.        , ..., 0.        , 0.        ,\n        0.        ]])"
     },
     "execution_count": 89,
     "metadata": {},
     "output_type": "execute_result"
    }
   ],
   "source": [
    "rfe = RFE(\n",
    "    RandomForestClassifier(n_estimators=10, random_state=42),\n",
    "    n_features_to_select=30,\n",
    "    step=2,\n",
    ")\n",
    "rfe.fit_transform(X_train, Y_train)"
   ],
   "metadata": {
    "collapsed": false
   }
  },
  {
   "cell_type": "code",
   "execution_count": 90,
   "outputs": [
    {
     "name": "stdout",
     "output_type": "stream",
     "text": [
      "claim\n",
      "come\n",
      "day\n",
      "free\n",
      "good\n",
      "got\n",
      "gt\n",
      "hey\n",
      "hi\n",
      "just\n",
      "know\n",
      "like\n",
      "ll\n",
      "lt\n",
      "mobile\n",
      "msg\n",
      "new\n",
      "ok\n",
      "phone\n",
      "pls\n",
      "reply\n",
      "send\n",
      "stop\n",
      "text\n",
      "time\n",
      "today\n",
      "txt\n",
      "ur\n",
      "want\n",
      "week\n"
     ]
    }
   ],
   "source": [
    "rfe_result = X_train.iloc[:, rfe.get_support()].columns.tolist()[:30]\n",
    "print(\"\\n\".join(rfe_result))"
   ],
   "metadata": {
    "collapsed": false
   }
  },
  {
   "cell_type": "code",
   "execution_count": 91,
   "outputs": [
    {
     "data": {
      "text/plain": "array([[0., 0., 0., ..., 0., 0., 0.],\n       [0., 0., 0., ..., 0., 0., 0.],\n       [0., 0., 0., ..., 0., 0., 0.],\n       ...,\n       [0., 0., 0., ..., 0., 0., 0.],\n       [0., 0., 0., ..., 0., 0., 0.],\n       [0., 0., 0., ..., 0., 0., 0.]])"
     },
     "execution_count": 91,
     "metadata": {},
     "output_type": "execute_result"
    }
   ],
   "source": [
    "sfm = SelectFromModel(AdaBoostRegressor(random_state=42, n_estimators=30))\n",
    "sfm.fit_transform(X_train, Y_train)"
   ],
   "metadata": {
    "collapsed": false
   }
  },
  {
   "cell_type": "code",
   "execution_count": 92,
   "outputs": [
    {
     "name": "stdout",
     "output_type": "stream",
     "text": [
      "claim\n",
      "free\n",
      "ll\n",
      "mobile\n",
      "new\n",
      "reply\n",
      "send\n",
      "stop\n",
      "text\n",
      "txt\n",
      "ur\n"
     ]
    }
   ],
   "source": [
    "sfm_result = X_train.iloc[:, sfm.get_support()].columns.tolist()[:30]\n",
    "print(\"\\n\".join(sfm_result))"
   ],
   "metadata": {
    "collapsed": false
   }
  },
  {
   "cell_type": "code",
   "execution_count": 93,
   "outputs": [
    {
     "data": {
      "text/plain": "array([[0.        , 0.        , 0.        , ..., 0.        , 0.        ,\n        0.        ],\n       [0.        , 0.        , 0.        , ..., 0.        , 0.        ,\n        0.        ],\n       [0.        , 0.66833948, 0.        , ..., 0.        , 0.        ,\n        0.        ],\n       ...,\n       [0.        , 0.        , 0.        , ..., 0.        , 0.        ,\n        0.        ],\n       [0.        , 0.        , 0.        , ..., 0.        , 0.        ,\n        0.        ],\n       [0.        , 0.        , 0.        , ..., 0.        , 0.        ,\n        0.        ]])"
     },
     "execution_count": 93,
     "metadata": {},
     "output_type": "execute_result"
    }
   ],
   "source": [
    "skb = SelectKBest(score_func=chi2, k=30)\n",
    "skb.fit_transform(X_train, Y_train)"
   ],
   "metadata": {
    "collapsed": false
   }
  },
  {
   "cell_type": "code",
   "execution_count": 94,
   "outputs": [
    {
     "name": "stdout",
     "output_type": "stream",
     "text": [
      "claim\n",
      "come\n",
      "da\n",
      "did\n",
      "free\n",
      "going\n",
      "good\n",
      "got\n",
      "gt\n",
      "home\n",
      "later\n",
      "ll\n",
      "lor\n",
      "love\n",
      "lt\n",
      "mobile\n",
      "msg\n",
      "new\n",
      "oh\n",
      "ok\n",
      "phone\n",
      "reply\n",
      "send\n",
      "sorry\n",
      "stop\n",
      "text\n",
      "txt\n",
      "ur\n",
      "wat\n",
      "week\n"
     ]
    }
   ],
   "source": [
    "skb_result = X_train.iloc[:, skb.get_support()].columns.tolist()[:30]\n",
    "print(\"\\n\".join(skb_result))"
   ],
   "metadata": {
    "collapsed": false
   }
  },
  {
   "cell_type": "markdown",
   "source": [
    "### Сравнение"
   ],
   "metadata": {
    "collapsed": false
   }
  },
  {
   "cell_type": "code",
   "execution_count": 95,
   "outputs": [
    {
     "name": "stdout",
     "output_type": "stream",
     "text": [
      "Фильтрующий метод\n",
      "\tМетод-обертка: 21\n",
      "\tВстроенный метод: 20\n",
      "\tRFE: 20\n",
      "\tSelectFromModel: 11\n",
      "\tSelectKBest: 30\n",
      "\n",
      "Метод-обертка\n",
      "\tФильтрующий метод: 21\n",
      "\tВстроенный метод: 14\n",
      "\tRFE: 15\n",
      "\tSelectFromModel: 7\n",
      "\tSelectKBest: 21\n",
      "\n",
      "Встроенный метод\n",
      "\tФильтрующий метод: 20\n",
      "\tМетод-обертка: 14\n",
      "\tRFE: 28\n",
      "\tSelectFromModel: 11\n",
      "\tSelectKBest: 20\n",
      "\n",
      "RFE\n",
      "\tФильтрующий метод: 20\n",
      "\tМетод-обертка: 15\n",
      "\tВстроенный метод: 28\n",
      "\tSelectFromModel: 11\n",
      "\tSelectKBest: 20\n",
      "\n",
      "SelectFromModel\n",
      "\tФильтрующий метод: 11\n",
      "\tМетод-обертка: 7\n",
      "\tВстроенный метод: 11\n",
      "\tRFE: 11\n",
      "\tSelectKBest: 11\n",
      "\n",
      "SelectKBest\n",
      "\tФильтрующий метод: 30\n",
      "\tМетод-обертка: 21\n",
      "\tВстроенный метод: 20\n",
      "\tRFE: 20\n",
      "\tSelectFromModel: 11\n",
      "\n"
     ]
    }
   ],
   "source": [
    "results = [filter_result, wrapper_result, random_forest_result, rfe_result, sfm_result, skb_result]\n",
    "names = [\"Фильтрующий метод\", \"Метод-обертка\", \"Встроенный метод\", \"RFE\", \"SelectFromModel\", \"SelectKBest\"]\n",
    "for i in range(6):\n",
    "    print(names[i])\n",
    "    for j in range(6):\n",
    "        if i != j:\n",
    "            print(f\"\\t{names[j]}: {len(set(results[i]).intersection(results[j]))}\")\n",
    "    print()"
   ],
   "metadata": {
    "collapsed": false
   }
  },
  {
   "cell_type": "code",
   "execution_count": 102,
   "outputs": [],
   "source": [
    "def calculate_accuracy(clf, res):\n",
    "    clf.fit(pd.DataFrame(X_train, columns=res).values, Y_train)\n",
    "    return accuracy_score(Y_test, clf.predict(pd.DataFrame(X_test, columns=res).values))"
   ],
   "metadata": {
    "collapsed": false
   }
  },
  {
   "cell_type": "code",
   "execution_count": 103,
   "outputs": [
    {
     "name": "stdout",
     "output_type": "stream",
     "text": [
      "Фильтрующий метод: 0.9390134529147982\n",
      "Метод-обертка: 0.9452914798206278\n",
      "Встроенный метод: 0.9336322869955157\n",
      "RFE: 0.9345291479820628\n",
      "SelectFromModel: 0.9354260089686098\n",
      "SelectKBest: 0.9390134529147982\n"
     ]
    }
   ],
   "source": [
    "for i in range(6):\n",
    "    print(f\"{names[i]}: {calculate_accuracy(KNeighborsClassifier(n_neighbors=5), results[i])}\")"
   ],
   "metadata": {
    "collapsed": false
   }
  },
  {
   "cell_type": "code",
   "execution_count": 104,
   "outputs": [
    {
     "name": "stdout",
     "output_type": "stream",
     "text": [
      "Фильтрующий метод: 0.9372197309417041\n",
      "Метод-обертка: 0.9390134529147982\n",
      "Встроенный метод: 0.9354260089686098\n",
      "RFE: 0.9345291479820628\n",
      "SelectFromModel: 0.9345291479820628\n",
      "SelectKBest: 0.9372197309417041\n"
     ]
    }
   ],
   "source": [
    "for i in range(6):\n",
    "    print(f\"{names[i]}: {calculate_accuracy(RandomForestClassifier(n_estimators=10, random_state=42), results[i])}\")"
   ],
   "metadata": {
    "collapsed": false
   }
  },
  {
   "cell_type": "code",
   "execution_count": 106,
   "outputs": [
    {
     "name": "stdout",
     "output_type": "stream",
     "text": [
      "Фильтрующий метод: 0.9399103139013453\n",
      "Метод-обертка: 0.9381165919282511\n",
      "Встроенный метод: 0.9354260089686098\n",
      "RFE: 0.9363228699551569\n",
      "SelectFromModel: 0.9363228699551569\n",
      "SelectKBest: 0.9399103139013453\n"
     ]
    }
   ],
   "source": [
    "for i in range(6):\n",
    "    print(f\"{names[i]}: {calculate_accuracy(SVC(), results[i])}\")"
   ],
   "metadata": {
    "collapsed": false
   }
  }
 ],
 "metadata": {
  "kernelspec": {
   "display_name": "Python 3",
   "language": "python",
   "name": "python3"
  },
  "language_info": {
   "codemirror_mode": {
    "name": "ipython",
    "version": 2
   },
   "file_extension": ".py",
   "mimetype": "text/x-python",
   "name": "python",
   "nbconvert_exporter": "python",
   "pygments_lexer": "ipython2",
   "version": "2.7.6"
  }
 },
 "nbformat": 4,
 "nbformat_minor": 0
}
